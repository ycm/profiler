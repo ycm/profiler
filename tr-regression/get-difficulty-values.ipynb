{
 "cells": [
  {
   "cell_type": "code",
   "execution_count": 34,
   "metadata": {},
   "outputs": [],
   "source": [
    "import json\n",
    "import pandas as pd"
   ]
  },
  {
   "cell_type": "code",
   "execution_count": 42,
   "metadata": {},
   "outputs": [],
   "source": [
    "df = pd.read_csv('../data/AnnotationTable.csv')"
   ]
  },
  {
   "cell_type": "code",
   "execution_count": 43,
   "metadata": {},
   "outputs": [],
   "source": [
    "mlevel_to_numeric = {}\n",
    "level_num = 1\n",
    "for level in sorted(set(df.mlevel)):\n",
    "    mlevel_to_numeric[level] = level_num\n",
    "    level_num += 1"
   ]
  },
  {
   "cell_type": "code",
   "execution_count": 44,
   "metadata": {},
   "outputs": [],
   "source": [
    "form_to_numeric = {'Grade1Fall': 4,\n",
    " 'Grade1Winter': 6,\n",
    " 'Grade1Spring': 8,\n",
    " 'Grade2Fall': 9,\n",
    " 'Grade2Spring': 11,\n",
    " 'Grade2Winter': 10,\n",
    " 'Grade3Fall': 12,\n",
    " 'Grade3Spring': 14,\n",
    " 'Grade3Winter': 13,\n",
    " 'Grade4Fall': 15,\n",
    " 'Grade4Spring': 17,\n",
    " 'Grade4Winter': 16}"
   ]
  },
  {
   "cell_type": "code",
   "execution_count": 45,
   "metadata": {},
   "outputs": [],
   "source": [
    "session_to_mlevel_numeric = {}\n",
    "session_to_form_numeric = {}\n",
    "\n",
    "for idx, row in df.iterrows():\n",
    "    form = row.Form\n",
    "    mlevel = row.mlevel\n",
    "    session_to_mlevel_numeric[str(row.Session)] = mlevel_to_numeric[mlevel]\n",
    "    session_to_form_numeric[str(row.Session)] = form_to_numeric[form]"
   ]
  },
  {
   "cell_type": "code",
   "execution_count": 46,
   "metadata": {},
   "outputs": [],
   "source": [
    "session_to_difficulty_metrics = {}\n",
    "for idx, row in df.iterrows():\n",
    "    difficulty_metrics = {}\n",
    "    \n",
    "    session = str(row.Session)\n",
    "    mlevel_numeric = session_to_mlevel_numeric[session]\n",
    "    form_numeric = session_to_form_numeric[session]\n",
    "    \n",
    "    mlevel_form_difference = mlevel_numeric - form_numeric\n",
    "    text_is_above_level = 1 if mlevel_form_difference > 0 else 0\n",
    "    \n",
    "    difficulty_metrics = {\n",
    "        'mlevel_numeric': mlevel_numeric,\n",
    "        'form_numeric': form_numeric,\n",
    "        'mlevel_form_diff': mlevel_form_difference,\n",
    "        'text_is_above_level': text_is_above_level\n",
    "    }\n",
    "    \n",
    "    session_to_difficulty_metrics[session] = difficulty_metrics"
   ]
  },
  {
   "cell_type": "code",
   "execution_count": 47,
   "metadata": {},
   "outputs": [],
   "source": [
    "with open('../data/moby/jsons/session_to_difficulty_metrics.json', 'w') as f:\n",
    "    json.dump(session_to_difficulty_metrics, f)"
   ]
  }
 ],
 "metadata": {
  "kernelspec": {
   "display_name": "Python 3",
   "language": "python",
   "name": "python3"
  },
  "language_info": {
   "codemirror_mode": {
    "name": "ipython",
    "version": 3
   },
   "file_extension": ".py",
   "mimetype": "text/x-python",
   "name": "python",
   "nbconvert_exporter": "python",
   "pygments_lexer": "ipython3",
   "version": "3.7.4"
  }
 },
 "nbformat": 4,
 "nbformat_minor": 4
}
