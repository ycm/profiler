{
 "cells": [
  {
   "cell_type": "code",
   "execution_count": 20,
   "metadata": {},
   "outputs": [],
   "source": [
    "import pandas as pd\n",
    "import matplotlib.pyplot as plt\n",
    "from sklearn.metrics import r2_score"
   ]
  },
  {
   "cell_type": "code",
   "execution_count": 10,
   "metadata": {},
   "outputs": [],
   "source": [
    "df = pd.read_csv('data/all_sessions_with_session_and_difficulty_scores.csv')"
   ]
  },
  {
   "cell_type": "code",
   "execution_count": 12,
   "metadata": {},
   "outputs": [],
   "source": [
    "column_names = df.columns"
   ]
  },
  {
   "cell_type": "code",
   "execution_count": 23,
   "metadata": {},
   "outputs": [],
   "source": [
    "feature_column_names = [x for x in column_names if (x[-4:] != '_new' and x != 'Session')]\n",
    "label_column_names = [x for x in column_names if x[-4:] == '_new']\n",
    "\n",
    "J_column = df['J_new']\n",
    "L_column = df['L_new']"
   ]
  },
  {
   "cell_type": "code",
   "execution_count": 24,
   "metadata": {},
   "outputs": [
    {
     "name": "stdout",
     "output_type": "stream",
     "text": [
      "J: R2 with WCPM: -12030.144\n",
      "L: R2 with WCPM: -7577.052\n",
      "J: R2 with Acc: -0.016\n",
      "L: R2 with Acc: -1.195\n",
      "J: R2 with Comp: -23.295\n",
      "L: R2 with Comp: -9.040\n",
      "J: R2 with Exp: -2.387\n",
      "L: R2 with Exp: 0.405\n",
      "J: R2 with level: -159.171\n",
      "L: R2 with level: -85.042\n",
      "J: R2 with mlevel_numeric: -151.921\n",
      "L: R2 with mlevel_numeric: -80.654\n",
      "J: R2 with form_numeric: -158.910\n",
      "L: R2 with form_numeric: -84.807\n",
      "J: R2 with mlevel_form_diff: -11.060\n",
      "L: R2 with mlevel_form_diff: -10.187\n",
      "J: R2 with text_is_above_level: -0.598\n",
      "L: R2 with text_is_above_level: -2.483\n"
     ]
    }
   ],
   "source": [
    "for feature_column in feature_column_names:\n",
    "    r2_J = r2_score(J_column, df[feature_column])\n",
    "    r2_L = r2_score(L_column, df[feature_column])\n",
    "    \n",
    "    print('J: R2 with {}: {:.3f}'.format(feature_column, r2_J))\n",
    "    print('L: R2 with {}: {:.3f}'.format(feature_column, r2_L))"
   ]
  },
  {
   "cell_type": "code",
   "execution_count": null,
   "metadata": {},
   "outputs": [],
   "source": []
  }
 ],
 "metadata": {
  "kernelspec": {
   "display_name": "Python 3",
   "language": "python",
   "name": "python3"
  },
  "language_info": {
   "codemirror_mode": {
    "name": "ipython",
    "version": 3
   },
   "file_extension": ".py",
   "mimetype": "text/x-python",
   "name": "python",
   "nbconvert_exporter": "python",
   "pygments_lexer": "ipython3",
   "version": "3.7.4"
  }
 },
 "nbformat": 4,
 "nbformat_minor": 4
}
