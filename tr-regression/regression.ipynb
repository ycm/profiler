{
 "cells": [
  {
   "cell_type": "code",
   "execution_count": 95,
   "metadata": {},
   "outputs": [],
   "source": [
    "import pandas as pd\n",
    "from sklearn.model_selection import train_test_split\n",
    "from sklearn.linear_model import LinearRegression\n",
    "from nltk.metrics import ConfusionMatrix"
   ]
  },
  {
   "cell_type": "code",
   "execution_count": 56,
   "metadata": {},
   "outputs": [],
   "source": [
    "# Load data\n",
    "\n",
    "df = pd.read_csv('../output/teacher-report/teacher_report_gyor.csv')"
   ]
  },
  {
   "cell_type": "code",
   "execution_count": 57,
   "metadata": {},
   "outputs": [],
   "source": [
    "design = pd.read_csv('data/all_sessions_only_session_scores.csv')"
   ]
  },
  {
   "cell_type": "code",
   "execution_count": 61,
   "metadata": {},
   "outputs": [],
   "source": [
    "full_matrix = pd.concat([design, df], axis=1).T.drop_duplicates().T"
   ]
  },
  {
   "cell_type": "code",
   "execution_count": 79,
   "metadata": {},
   "outputs": [
    {
     "data": {
      "text/plain": [
       "Index(['Session', 'WCPM', 'Acc', 'Comp', 'Exp', 'level', 'B_new', 'C_new',\n",
       "       'E_new', 'F_new', 'G_new', 'H_new', 'J_new', 'K_new', 'L_new', 'M_new',\n",
       "       'N_new', 'O_new', 'P_new', 'Q_new'],\n",
       "      dtype='object')"
      ]
     },
     "execution_count": 79,
     "metadata": {},
     "output_type": "execute_result"
    }
   ],
   "source": [
    "full_matrix.columns"
   ]
  },
  {
   "cell_type": "code",
   "execution_count": 109,
   "metadata": {},
   "outputs": [],
   "source": [
    "def discretize_predictions(predictions,\n",
    "                           cutoffs=['value < .5',\n",
    "                                    '.5 <= value < 1.5',\n",
    "                                    '1.5 <= value < 2.5',\n",
    "                                    '2.5 <= value']):\n",
    "    discretized = []\n",
    "    for value in predictions:\n",
    "        for idx, formula in enumerate(cutoffs):\n",
    "            if eval(formula):\n",
    "                discretized.append(idx)\n",
    "    assert len(discretized) == len(predictions)\n",
    "    return discretized\n",
    "    \n",
    "\n",
    "def run_regressor(matrix, feature_cols=[], col_to_predict=''):\n",
    "    X = matrix[feature_cols]\n",
    "    y = matrix[col_to_predict]\n",
    "    \n",
    "    X_train, X_test, y_train, y_test = train_test_split(X, y, test_size=.3, random_state=0)\n",
    "    \n",
    "    reg = LinearRegression()\n",
    "    reg.fit(X_train, y_train)\n",
    "    \n",
    "    y_pred = reg.predict(X_test)    \n",
    "    y_pred_discretized = discretize_predictions(y_pred)\n",
    "    \n",
    "    conf_mat = ConfusionMatrix(y_test, y_pred_discretized)\n",
    "    print(str(conf_mat))\n",
    "    \n",
    "    accuracy = sum(1 for x, y in zip(y_test, y_pred_discretized) if x == y) / len(y_test)\n",
    "    print('Raw accuracy:', accuracy)"
   ]
  },
  {
   "cell_type": "code",
   "execution_count": 110,
   "metadata": {},
   "outputs": [
    {
     "name": "stdout",
     "output_type": "stream",
     "text": [
      "    |   0   1   2   3   4   5   6 |\n",
      "    |   .   .   .   .   .   .   . |\n",
      "    |   0   0   0   0   0   0   0 |\n",
      "----+-----------------------------+\n",
      "0.0 | <55> 23   .   .   .   .   . |\n",
      "1.0 |   3<116> 22   .   .   .   . |\n",
      "2.0 |   2  33 <85>  7   .   .   . |\n",
      "3.0 |   .   1   7 <11>  .   .   . |\n",
      "4.0 |   .   .   .   .  <.>  .   . |\n",
      "5.0 |   .   .   .   .   .  <.>  . |\n",
      "6.0 |   .   .   .   .   .   .  <.>|\n",
      "----+-----------------------------+\n",
      "(row = reference; col = test)\n",
      "\n",
      "Raw accuracy: 0.7315068493150685\n"
     ]
    }
   ],
   "source": [
    "run_regressor(full_matrix, feature_cols=['WCPM', 'Acc', 'Comp', 'Exp', 'level'], col_to_predict='J_new')"
   ]
  },
  {
   "cell_type": "code",
   "execution_count": 111,
   "metadata": {},
   "outputs": [
    {
     "name": "stdout",
     "output_type": "stream",
     "text": [
      "    |   0   1   2   3   4   5   6 |\n",
      "    |   .   .   .   .   .   .   . |\n",
      "    |   0   0   0   0   0   0   0 |\n",
      "----+-----------------------------+\n",
      "0.0 | <13> 24   1   .   .   .   . |\n",
      "1.0 |   1 <32> 18   .   .   .   . |\n",
      "2.0 |   .  14 <61>  4   .   .   . |\n",
      "3.0 |   .   6  52<139>  .   .   . |\n",
      "4.0 |   .   .   .   .  <.>  .   . |\n",
      "5.0 |   .   .   .   .   .  <.>  . |\n",
      "6.0 |   .   .   .   .   .   .  <.>|\n",
      "----+-----------------------------+\n",
      "(row = reference; col = test)\n",
      "\n",
      "Raw accuracy: 0.6712328767123288\n"
     ]
    }
   ],
   "source": [
    "run_regressor(full_matrix, feature_cols=['WCPM', 'Acc', 'Comp', 'Exp', 'level'], col_to_predict='L_new')"
   ]
  }
 ],
 "metadata": {
  "kernelspec": {
   "display_name": "Python 3",
   "language": "python",
   "name": "python3"
  },
  "language_info": {
   "codemirror_mode": {
    "name": "ipython",
    "version": 3
   },
   "file_extension": ".py",
   "mimetype": "text/x-python",
   "name": "python",
   "nbconvert_exporter": "python",
   "pygments_lexer": "ipython3",
   "version": "3.7.4"
  }
 },
 "nbformat": 4,
 "nbformat_minor": 4
}
