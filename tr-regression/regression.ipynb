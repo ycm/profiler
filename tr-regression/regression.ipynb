{
 "cells": [
  {
   "cell_type": "code",
   "execution_count": 1,
   "metadata": {},
   "outputs": [],
   "source": [
    "import json\n",
    "import pandas as pd\n",
    "from sklearn.model_selection import train_test_split\n",
    "from sklearn.linear_model import LinearRegression\n",
    "from nltk.metrics import ConfusionMatrix\n",
    "from sklearn.metrics import r2_score, cohen_kappa_score"
   ]
  },
  {
   "cell_type": "code",
   "execution_count": 2,
   "metadata": {},
   "outputs": [],
   "source": [
    "# Load data\n",
    "\n",
    "df = pd.read_csv('../output/teacher-report/teacher_report_gyor.csv')\n",
    "with open('../data/moby/jsons/session_to_difficulty_metrics.json') as f:\n",
    "    session_to_difficulty_metrics = json.load(f)"
   ]
  },
  {
   "cell_type": "code",
   "execution_count": 3,
   "metadata": {},
   "outputs": [],
   "source": [
    "design = pd.read_csv('data/all_sessions_only_session_scores.csv')"
   ]
  },
  {
   "cell_type": "code",
   "execution_count": 4,
   "metadata": {},
   "outputs": [],
   "source": [
    "full_matrix = pd.concat([design, df], axis=1).T.drop_duplicates().T"
   ]
  },
  {
   "cell_type": "code",
   "execution_count": 5,
   "metadata": {},
   "outputs": [],
   "source": [
    "mlevel_numeric_column = []\n",
    "form_numeric_column = []\n",
    "mlevel_form_diff_column = []\n",
    "text_is_above_level_column = []\n",
    "\n",
    "for idx, row in full_matrix.iterrows():\n",
    "    session = str(int(row.Session))\n",
    "    difficulty_metrics = session_to_difficulty_metrics[session]\n",
    "    \n",
    "    mlevel_numeric_column.append(difficulty_metrics['mlevel_numeric'])\n",
    "    form_numeric_column.append(difficulty_metrics['form_numeric'])\n",
    "    mlevel_form_diff_column.append(difficulty_metrics['mlevel_form_diff'])\n",
    "    text_is_above_level_column.append(difficulty_metrics['text_is_above_level'])\n",
    "\n",
    "full_matrix['mlevel_numeric'] = mlevel_numeric_column\n",
    "full_matrix['form_numeric'] = form_numeric_column\n",
    "full_matrix['mlevel_form_diff'] = mlevel_form_diff_column\n",
    "full_matrix['text_is_above_level'] = text_is_above_level_column"
   ]
  },
  {
   "cell_type": "code",
   "execution_count": 6,
   "metadata": {},
   "outputs": [],
   "source": [
    "# full_matrix.to_csv('data/all_sessions_with_session_and_difficulty_scores.csv', index=None)"
   ]
  },
  {
   "cell_type": "code",
   "execution_count": 7,
   "metadata": {},
   "outputs": [
    {
     "data": {
      "text/plain": [
       "Index(['Session', 'WCPM', 'Acc', 'Comp', 'Exp', 'level', 'B_new', 'C_new',\n",
       "       'E_new', 'F_new', 'G_new', 'H_new', 'J_new', 'K_new', 'L_new', 'M_new',\n",
       "       'N_new', 'O_new', 'P_new', 'Q_new', 'mlevel_numeric', 'form_numeric',\n",
       "       'mlevel_form_diff', 'text_is_above_level'],\n",
       "      dtype='object')"
      ]
     },
     "execution_count": 7,
     "metadata": {},
     "output_type": "execute_result"
    }
   ],
   "source": [
    "full_matrix.columns"
   ]
  },
  {
   "cell_type": "code",
   "execution_count": 8,
   "metadata": {},
   "outputs": [],
   "source": [
    "def discretize_predictions(predictions,\n",
    "                           cutoffs=['value < .5',\n",
    "                                    '.5 <= value < 1.5',\n",
    "                                    '1.5 <= value < 2.5',\n",
    "                                    '2.5 <= value']):\n",
    "    discretized = []\n",
    "    for value in predictions:\n",
    "        for idx, formula in enumerate(cutoffs):\n",
    "            if eval(formula):\n",
    "                discretized.append(idx)\n",
    "    assert len(discretized) == len(predictions)\n",
    "    return discretized\n",
    "    \n",
    "\n",
    "def run_regressor(matrix, feature_cols=[], col_to_predict=''):\n",
    "    X = matrix[feature_cols]\n",
    "    y = matrix[col_to_predict]\n",
    "    \n",
    "    X_train, X_test, y_train, y_test = train_test_split(X, y, test_size=.3)\n",
    "    \n",
    "    reg = LinearRegression()\n",
    "    reg.fit(X_train, y_train)\n",
    "    \n",
    "    print('Weights: ' + ', '.join(['{:.2f}'.format(x) for x in reg.coef_]))\n",
    "    \n",
    "    y_pred = reg.predict(X_test)    \n",
    "    y_pred_discretized = discretize_predictions(y_pred)\n",
    "    \n",
    "    conf_mat = ConfusionMatrix(y_test, y_pred_discretized)\n",
    "    \n",
    "    print('R2 (discretized): {:.3f}'.format(r2_score(y_test, y_pred_discretized)))\n",
    "    print('R2 (continuous):  {:.3f}'.format(r2_score(y_test, y_pred)))\n",
    "    \n",
    "    print('QWK: {:.3f}'.format(cohen_kappa_score(y_test, y_pred_discretized, weights=\"quadratic\")))\n",
    "    \n",
    "    print(str(conf_mat))\n",
    "    \n",
    "    accuracy = sum(1 for x, y in zip(y_test, y_pred_discretized) if x == y) / len(y_test)\n",
    "    print('Raw accuracy: {:.3f}'.format(accuracy))"
   ]
  },
  {
   "cell_type": "code",
   "execution_count": 9,
   "metadata": {},
   "outputs": [
    {
     "name": "stdout",
     "output_type": "stream",
     "text": [
      "Weights: 0.02, 0.27, 0.02, 0.20, -0.06, 0.00, -0.01, 0.01, 0.04\n",
      "R2 (discretized): 0.668\n",
      "R2 (continuous):  0.744\n",
      "QWK: 0.823\n",
      "    |   0   1   2   3   4   5   6 |\n",
      "    |   .   .   .   .   .   .   . |\n",
      "    |   0   0   0   0   0   0   0 |\n",
      "----+-----------------------------+\n",
      "0.0 | <65> 20   .   .   .   .   . |\n",
      "1.0 |   4<123> 16   .   .   .   . |\n",
      "2.0 |   1  31 <80>  6   .   .   . |\n",
      "3.0 |   .   .   7 <12>  .   .   . |\n",
      "4.0 |   .   .   .   .  <.>  .   . |\n",
      "5.0 |   .   .   .   .   .  <.>  . |\n",
      "6.0 |   .   .   .   .   .   .  <.>|\n",
      "----+-----------------------------+\n",
      "(row = reference; col = test)\n",
      "\n",
      "Raw accuracy: 0.767\n"
     ]
    }
   ],
   "source": [
    "feature_cols=[\n",
    "    'WCPM',\n",
    "    'Acc',\n",
    "    'Comp',\n",
    "    'Exp',\n",
    "    'level',\n",
    "    'mlevel_numeric',\n",
    "    'form_numeric',\n",
    "    'mlevel_form_diff',\n",
    "    'text_is_above_level'\n",
    "]\n",
    "\n",
    "run_regressor(full_matrix, feature_cols=feature_cols, col_to_predict='J_new')"
   ]
  },
  {
   "cell_type": "code",
   "execution_count": 10,
   "metadata": {},
   "outputs": [
    {
     "name": "stdout",
     "output_type": "stream",
     "text": [
      "Weights: 0.02, 2.15, 0.02, 0.51, -0.07, 0.01, 0.01, 0.00, -0.10\n",
      "R2 (discretized): 0.642\n",
      "R2 (continuous):  0.667\n",
      "QWK: 0.792\n",
      "    |   0   1   2   3   4   5   6 |\n",
      "    |   .   .   .   .   .   .   . |\n",
      "    |   0   0   0   0   0   0   0 |\n",
      "----+-----------------------------+\n",
      "0.0 | <11> 27   .   .   .   .   . |\n",
      "1.0 |   1 <28> 18   .   .   .   . |\n",
      "2.0 |   .  17 <56>  8   .   .   . |\n",
      "3.0 |   .   6  42<151>  .   .   . |\n",
      "4.0 |   .   .   .   .  <.>  .   . |\n",
      "5.0 |   .   .   .   .   .  <.>  . |\n",
      "6.0 |   .   .   .   .   .   .  <.>|\n",
      "----+-----------------------------+\n",
      "(row = reference; col = test)\n",
      "\n",
      "Raw accuracy: 0.674\n"
     ]
    }
   ],
   "source": [
    "run_regressor(full_matrix, feature_cols=feature_cols, col_to_predict='L_new')"
   ]
  },
  {
   "cell_type": "code",
   "execution_count": 27,
   "metadata": {},
   "outputs": [],
   "source": [
    "grade_2_matrix = full_matrix.loc[(full_matrix.form_numeric <= 11) & (full_matrix.form_numeric >= 9)]"
   ]
  },
  {
   "cell_type": "code",
   "execution_count": 28,
   "metadata": {},
   "outputs": [],
   "source": [
    "with open('../data/moby/jsons/session_to_difficulty_metrics.json') as f:\n",
    "    session_to_difficulty_metrics = json.load(f)\n",
    "\n",
    "difficulty_metrics_names = list(session_to_difficulty_metrics[list(session_to_difficulty_metrics.keys())[0]].keys())"
   ]
  },
  {
   "cell_type": "code",
   "execution_count": 29,
   "metadata": {},
   "outputs": [
    {
     "data": {
      "text/plain": [
       "['mlevel_numeric', 'form_numeric', 'mlevel_form_diff', 'text_is_above_level']"
      ]
     },
     "execution_count": 29,
     "metadata": {},
     "output_type": "execute_result"
    }
   ],
   "source": [
    "difficulty_metrics_names"
   ]
  },
  {
   "cell_type": "code",
   "execution_count": 30,
   "metadata": {},
   "outputs": [
    {
     "name": "stdout",
     "output_type": "stream",
     "text": [
      "{'mlevel_numeric': 6, 'form_numeric': 9, 'mlevel_form_diff': -3, 'text_is_above_level': 0}\n"
     ]
    }
   ],
   "source": [
    "new_difficulty_metrics_columns = [[] for metric in difficulty_metrics_names]\n",
    "for idx, row in grade_2_matrix.iterrows():\n",
    "    session = str(int(row.Session))\n",
    "    difficulty_metrics = session_to_difficulty_metrics[session]\n",
    "    print(difficulty_metrics)\n",
    "    break"
   ]
  },
  {
   "cell_type": "code",
   "execution_count": 19,
   "metadata": {
    "scrolled": true
   },
   "outputs": [
    {
     "name": "stdout",
     "output_type": "stream",
     "text": [
      "Weights: 0.02, -0.10, 0.01, 0.23, -0.11, 0.04, 0.05, -0.01, -0.03\n",
      "R2 (discretized): 0.704\n",
      "R2 (continuous):  0.761\n",
      "QWK: 0.856\n",
      "    |  0  1  2  3  4  5  6 |\n",
      "    |  .  .  .  .  .  .  . |\n",
      "    |  0  0  0  0  0  0  0 |\n",
      "----+----------------------+\n",
      "0.0 |<21> 3  .  .  .  .  . |\n",
      "1.0 |  2<28> 2  .  .  .  . |\n",
      "2.0 |  . 10<15> 5  .  .  . |\n",
      "3.0 |  .  .  1 <6> .  .  . |\n",
      "4.0 |  .  .  .  . <.> .  . |\n",
      "5.0 |  .  .  .  .  . <.> . |\n",
      "6.0 |  .  .  .  .  .  . <.>|\n",
      "----+----------------------+\n",
      "(row = reference; col = test)\n",
      "\n",
      "Raw accuracy: 0.753\n"
     ]
    }
   ],
   "source": [
    "run_regressor(grade_2_matrix, feature_cols=feature_cols, col_to_predict='J_new')"
   ]
  },
  {
   "cell_type": "code",
   "execution_count": 20,
   "metadata": {},
   "outputs": [
    {
     "name": "stdout",
     "output_type": "stream",
     "text": [
      "Weights: 0.02, 0.64, 0.03, 0.18, -0.26, 0.18, 0.05, 0.13, -0.05\n",
      "R2 (discretized): 0.597\n",
      "R2 (continuous):  0.715\n",
      "QWK: 0.749\n",
      "    |  0  1  2  3  4  5  6 |\n",
      "    |  .  .  .  .  .  .  . |\n",
      "    |  0  0  0  0  0  0  0 |\n",
      "----+----------------------+\n",
      "0.0 | <1>12  .  .  .  .  . |\n",
      "1.0 |  1 <7> 4  .  .  .  . |\n",
      "2.0 |  .  8<17> .  .  .  . |\n",
      "3.0 |  .  1 14<28> .  .  . |\n",
      "4.0 |  .  .  .  . <.> .  . |\n",
      "5.0 |  .  .  .  .  . <.> . |\n",
      "6.0 |  .  .  .  .  .  . <.>|\n",
      "----+----------------------+\n",
      "(row = reference; col = test)\n",
      "\n",
      "Raw accuracy: 0.570\n"
     ]
    }
   ],
   "source": [
    "run_regressor(grade_2_matrix, feature_cols=feature_cols, col_to_predict='L_new')"
   ]
  },
  {
   "cell_type": "code",
   "execution_count": null,
   "metadata": {},
   "outputs": [],
   "source": []
  }
 ],
 "metadata": {
  "kernelspec": {
   "display_name": "Python 3",
   "language": "python",
   "name": "python3"
  },
  "language_info": {
   "codemirror_mode": {
    "name": "ipython",
    "version": 3
   },
   "file_extension": ".py",
   "mimetype": "text/x-python",
   "name": "python",
   "nbconvert_exporter": "python",
   "pygments_lexer": "ipython3",
   "version": "3.7.4"
  }
 },
 "nbformat": 4,
 "nbformat_minor": 4
}
