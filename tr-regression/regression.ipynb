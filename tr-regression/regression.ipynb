{
 "cells": [
  {
   "cell_type": "code",
   "execution_count": 1,
   "metadata": {},
   "outputs": [],
   "source": [
    "import json\n",
    "import pandas as pd\n",
    "from sklearn.model_selection import train_test_split\n",
    "from sklearn.linear_model import LinearRegression\n",
    "from nltk.metrics import ConfusionMatrix\n",
    "from sklearn.metrics import r2_score, cohen_kappa_score"
   ]
  },
  {
   "cell_type": "code",
   "execution_count": 2,
   "metadata": {},
   "outputs": [],
   "source": [
    "# Load data\n",
    "\n",
    "# df = pd.read_csv('../output/teacher-report/teacher_report_gyor.csv')\n",
    "df = pd.read_csv('../generate-tr/final_df_gyor.csv')\n",
    "with open('../data/moby/jsons/session_to_difficulty_metrics.json') as f:\n",
    "    session_to_difficulty_metrics = json.load(f)\n",
    "with open('../data/moby/jsons/session_to_acc_zscore.json') as f:\n",
    "    session_to_acc_zscore = json.load(f)\n",
    "with open('../data/moby/jsons/session_to_wcpm_zscore.json') as f:\n",
    "    session_to_wcpm_zscore = json.load(f)"
   ]
  },
  {
   "cell_type": "code",
   "execution_count": 3,
   "metadata": {},
   "outputs": [],
   "source": [
    "design = pd.read_csv('data/all_sessions_only_session_scores.csv')\n",
    "\n",
    "wcpm_zscore_column = [session_to_wcpm_zscore[str(session)] for session in design.Session]\n",
    "acc_zscore_column = [session_to_acc_zscore[str(session)] for session in design.Session]\n",
    "design['WCPM_zscore'] = wcpm_zscore_column\n",
    "design['Acc_zscore'] = acc_zscore_column\n",
    "\n",
    "design = design.sort_values(by='Session').set_index('Session')\n",
    "df = df.sort_values(by='Session').set_index('Session')"
   ]
  },
  {
   "cell_type": "code",
   "execution_count": 4,
   "metadata": {},
   "outputs": [],
   "source": [
    "full_matrix = design.join(df, on='Session').reset_index()"
   ]
  },
  {
   "cell_type": "code",
   "execution_count": 5,
   "metadata": {},
   "outputs": [],
   "source": [
    "mlevel_numeric_column = []\n",
    "form_numeric_column = []\n",
    "mlevel_form_diff_column = []\n",
    "text_is_above_level_column = []\n",
    "\n",
    "for idx, row in full_matrix.iterrows():\n",
    "    session = str(int(row.Session))\n",
    "    difficulty_metrics = session_to_difficulty_metrics[session]\n",
    "    \n",
    "    mlevel_numeric_column.append(difficulty_metrics['mlevel_numeric'])\n",
    "    form_numeric_column.append(difficulty_metrics['form_numeric'])\n",
    "    mlevel_form_diff_column.append(difficulty_metrics['mlevel_form_diff'])\n",
    "    text_is_above_level_column.append(difficulty_metrics['text_is_above_level'])\n",
    "\n",
    "full_matrix['mlevel_numeric'] = mlevel_numeric_column\n",
    "full_matrix['form_numeric'] = form_numeric_column\n",
    "full_matrix['mlevel_form_diff'] = mlevel_form_diff_column\n",
    "full_matrix['text_is_above_level'] = text_is_above_level_column"
   ]
  },
  {
   "cell_type": "code",
   "execution_count": 6,
   "metadata": {},
   "outputs": [],
   "source": [
    "# full_matrix.to_csv('data/all_sessions_with_session_and_difficulty_scores.csv', index=None)"
   ]
  },
  {
   "cell_type": "code",
   "execution_count": 7,
   "metadata": {},
   "outputs": [
    {
     "data": {
      "text/plain": [
       "Index(['Session', 'WCPM', 'Acc', 'Comp', 'Exp', 'level', 'WCPM_zscore',\n",
       "       'Acc_zscore', 'gyorB', 'gyorC', 'gyorE', 'gyorF', 'gyorG', 'gyorH',\n",
       "       'gyorJ', 'gyorK', 'gyorL', 'gyorM', 'gyorN', 'gyorO', 'gyorP', 'gyorQ',\n",
       "       'mlevel_numeric', 'form_numeric', 'mlevel_form_diff',\n",
       "       'text_is_above_level'],\n",
       "      dtype='object')"
      ]
     },
     "execution_count": 7,
     "metadata": {},
     "output_type": "execute_result"
    }
   ],
   "source": [
    "full_matrix.columns"
   ]
  },
  {
   "cell_type": "code",
   "execution_count": 8,
   "metadata": {},
   "outputs": [],
   "source": [
    "def discretize_predictions(predictions,\n",
    "                           cutoffs=['value < .5',\n",
    "                                    '.5 <= value < 1.5',\n",
    "                                    '1.5 <= value < 2.5',\n",
    "                                    '2.5 <= value']):\n",
    "    discretized = []\n",
    "    for value in predictions:\n",
    "        for idx, formula in enumerate(cutoffs):\n",
    "            if eval(formula):\n",
    "                discretized.append(idx)\n",
    "    assert len(discretized) == len(predictions)\n",
    "    return discretized\n",
    "    \n",
    "\n",
    "def run_regressor(matrix, feature_cols=[], col_to_predict=''):\n",
    "    X = matrix[feature_cols]\n",
    "    y = matrix[col_to_predict]\n",
    "    \n",
    "    X_train, X_test, y_train, y_test = train_test_split(X, y, test_size=.3)\n",
    "    \n",
    "    reg = LinearRegression()\n",
    "    reg.fit(X_train, y_train)\n",
    "    \n",
    "    print('Weights: ' + ', '.join(['{:.2f}'.format(x) for x in reg.coef_]))\n",
    "    \n",
    "    y_pred = reg.predict(X_test)    \n",
    "    y_pred_discretized = discretize_predictions(y_pred)\n",
    "    \n",
    "    conf_mat = ConfusionMatrix(y_test, y_pred_discretized)\n",
    "    \n",
    "    print('R2 (discretized): {:.3f}'.format(r2_score(y_test, y_pred_discretized)))\n",
    "    print('R2 (continuous):  {:.3f}'.format(r2_score(y_test, y_pred)))\n",
    "    \n",
    "    print('QWK: {:.3f}'.format(cohen_kappa_score(y_test, y_pred_discretized, weights=\"quadratic\")))\n",
    "    \n",
    "    print(str(conf_mat))\n",
    "    \n",
    "    accuracy = sum(1 for x, y in zip(y_test, y_pred_discretized) if x == y) / len(y_test)\n",
    "    print('Raw accuracy: {:.3f}'.format(accuracy))"
   ]
  },
  {
   "cell_type": "code",
   "execution_count": 9,
   "metadata": {},
   "outputs": [
    {
     "name": "stdout",
     "output_type": "stream",
     "text": [
      "Weights: -0.00, 8.28, 0.05, 0.52, -0.17, 0.41, -0.37, 0.06, 0.01, 0.05, -0.28\n",
      "R2 (discretized): 0.450\n",
      "R2 (continuous):  0.508\n",
      "QWK: 0.647\n",
      "  |   0   1   2   3   4   5   6 |\n",
      "--+-----------------------------+\n",
      "0 |  <8> 28  12   .   .   .   . |\n",
      "1 |   1 <12> 14   5   .   .   . |\n",
      "2 |   1   4 <40> 18   .   .   . |\n",
      "3 |   1   4  70<147>  .   .   . |\n",
      "4 |   .   .   .   .  <.>  .   . |\n",
      "5 |   .   .   .   .   .  <.>  . |\n",
      "6 |   .   .   .   .   .   .  <.>|\n",
      "--+-----------------------------+\n",
      "(row = reference; col = test)\n",
      "\n",
      "Raw accuracy: 0.567\n"
     ]
    }
   ],
   "source": [
    "feature_cols=[\n",
    "    'WCPM',\n",
    "    'Acc',\n",
    "    'Comp',\n",
    "    'Exp',\n",
    "    'level',\n",
    "    'WCPM_zscore',\n",
    "    'Acc_zscore',\n",
    "    'mlevel_numeric',\n",
    "    'form_numeric',\n",
    "    'mlevel_form_diff',\n",
    "    'text_is_above_level'\n",
    "]\n",
    "\n",
    "run_regressor(full_matrix, feature_cols=feature_cols, col_to_predict='gyorJ')"
   ]
  },
  {
   "cell_type": "code",
   "execution_count": 10,
   "metadata": {},
   "outputs": [
    {
     "name": "stdout",
     "output_type": "stream",
     "text": [
      "Weights: 0.01, 5.72, 0.04, 0.57, -0.13, 0.38, -0.35, 0.03, 0.03, 0.00, -0.14\n",
      "R2 (discretized): 0.656\n",
      "R2 (continuous):  0.696\n",
      "QWK: 0.792\n",
      "  |   0   1   2   3   4   5   6 |\n",
      "--+-----------------------------+\n",
      "0 |  <9> 32   1   .   .   .   . |\n",
      "1 |   . <38> 18   .   .   .   . |\n",
      "2 |   .  17 <66>  9   .   .   . |\n",
      "3 |   .   2  48<125>  .   .   . |\n",
      "4 |   .   .   .   .  <.>  .   . |\n",
      "5 |   .   .   .   .   .  <.>  . |\n",
      "6 |   .   .   .   .   .   .  <.>|\n",
      "--+-----------------------------+\n",
      "(row = reference; col = test)\n",
      "\n",
      "Raw accuracy: 0.652\n"
     ]
    }
   ],
   "source": [
    "run_regressor(full_matrix, feature_cols=feature_cols, col_to_predict='gyorL')"
   ]
  },
  {
   "cell_type": "code",
   "execution_count": 11,
   "metadata": {},
   "outputs": [],
   "source": [
    "grade_2_matrix = full_matrix.loc[(full_matrix.form_numeric <= 11) & (full_matrix.form_numeric >= 9)]"
   ]
  },
  {
   "cell_type": "code",
   "execution_count": 12,
   "metadata": {},
   "outputs": [],
   "source": [
    "with open('../data/moby/jsons/session_to_difficulty_metrics.json') as f:\n",
    "    session_to_difficulty_metrics = json.load(f)\n",
    "\n",
    "difficulty_metrics_names = list(session_to_difficulty_metrics[list(session_to_difficulty_metrics.keys())[0]].keys())"
   ]
  },
  {
   "cell_type": "code",
   "execution_count": 13,
   "metadata": {},
   "outputs": [
    {
     "data": {
      "text/plain": [
       "['mlevel_numeric', 'form_numeric', 'mlevel_form_diff', 'text_is_above_level']"
      ]
     },
     "execution_count": 13,
     "metadata": {},
     "output_type": "execute_result"
    }
   ],
   "source": [
    "difficulty_metrics_names"
   ]
  },
  {
   "cell_type": "code",
   "execution_count": 14,
   "metadata": {},
   "outputs": [
    {
     "name": "stdout",
     "output_type": "stream",
     "text": [
      "{'mlevel_numeric': 6, 'form_numeric': 9, 'mlevel_form_diff': -3, 'text_is_above_level': 0}\n"
     ]
    }
   ],
   "source": [
    "new_difficulty_metrics_columns = [[] for metric in difficulty_metrics_names]\n",
    "for idx, row in grade_2_matrix.iterrows():\n",
    "    session = str(int(row.Session))\n",
    "    difficulty_metrics = session_to_difficulty_metrics[session]\n",
    "    print(difficulty_metrics)\n",
    "    break"
   ]
  },
  {
   "cell_type": "code",
   "execution_count": 16,
   "metadata": {
    "scrolled": true
   },
   "outputs": [
    {
     "name": "stdout",
     "output_type": "stream",
     "text": [
      "Weights: -0.05, 26.58, 0.04, 0.45, -0.88, 3.32, -2.02, 0.43, 0.30, 0.13, -0.19\n",
      "R2 (discretized): 0.684\n",
      "R2 (continuous):  0.577\n",
      "QWK: 0.833\n",
      "  |  0  1  2  3  4  5  6 |\n",
      "--+----------------------+\n",
      "0 | <7> 6  .  .  .  .  . |\n",
      "1 |  1 <4> 1  1  .  .  . |\n",
      "2 |  1  3<10> 6  .  .  . |\n",
      "3 |  .  .  9<44> .  .  . |\n",
      "4 |  .  .  .  . <.> .  . |\n",
      "5 |  .  .  .  .  . <.> . |\n",
      "6 |  .  .  .  .  .  . <.>|\n",
      "--+----------------------+\n",
      "(row = reference; col = test)\n",
      "\n",
      "Raw accuracy: 0.699\n"
     ]
    }
   ],
   "source": [
    "run_regressor(grade_2_matrix, feature_cols=feature_cols, col_to_predict='gyorJ')"
   ]
  },
  {
   "cell_type": "code",
   "execution_count": 17,
   "metadata": {},
   "outputs": [
    {
     "name": "stdout",
     "output_type": "stream",
     "text": [
      "Weights: -0.00, -13.94, 0.06, 0.27, -0.41, 1.27, 1.31, 0.22, 0.17, 0.05, 0.03\n",
      "R2 (discretized): 0.574\n",
      "R2 (continuous):  0.641\n",
      "QWK: 0.748\n",
      "  |  0  1  2  3  4  5  6 |\n",
      "--+----------------------+\n",
      "0 | <3> 8  .  .  .  .  . |\n",
      "1 |  .<11> 2  .  .  .  . |\n",
      "2 |  .  3<17> 1  .  .  . |\n",
      "3 |  1  1 17<29> .  .  . |\n",
      "4 |  .  .  .  . <.> .  . |\n",
      "5 |  .  .  .  .  . <.> . |\n",
      "6 |  .  .  .  .  .  . <.>|\n",
      "--+----------------------+\n",
      "(row = reference; col = test)\n",
      "\n",
      "Raw accuracy: 0.645\n"
     ]
    }
   ],
   "source": [
    "run_regressor(grade_2_matrix, feature_cols=feature_cols, col_to_predict='gyorL')"
   ]
  }
 ],
 "metadata": {
  "kernelspec": {
   "display_name": "Python 3",
   "language": "python",
   "name": "python3"
  },
  "language_info": {
   "codemirror_mode": {
    "name": "ipython",
    "version": 3
   },
   "file_extension": ".py",
   "mimetype": "text/x-python",
   "name": "python",
   "nbconvert_exporter": "python",
   "pygments_lexer": "ipython3",
   "version": "3.7.4"
  }
 },
 "nbformat": 4,
 "nbformat_minor": 4
}
