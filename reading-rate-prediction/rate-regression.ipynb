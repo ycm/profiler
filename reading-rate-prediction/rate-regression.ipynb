{
 "cells": [
  {
   "cell_type": "code",
   "execution_count": 129,
   "metadata": {},
   "outputs": [],
   "source": [
    "import statistics\n",
    "import pandas as pd\n",
    "import numpy as np\n",
    "import matplotlib.pyplot as plt\n",
    "from collections import defaultdict, Counter\n",
    "from sklearn.model_selection import train_test_split\n",
    "from sklearn.ensemble import RandomForestClassifier\n",
    "from nltk.metrics import ConfusionMatrix"
   ]
  },
  {
   "cell_type": "code",
   "execution_count": 20,
   "metadata": {},
   "outputs": [],
   "source": [
    "annotations = pd.read_csv('../generate-tr/annotations.csv', skiprows=4)"
   ]
  },
  {
   "cell_type": "code",
   "execution_count": 74,
   "metadata": {},
   "outputs": [],
   "source": [
    "session_to_rate_scores = defaultdict(list)\n",
    "for session, rate_score in zip(annotations.Session, annotations['11']):\n",
    "    if session != session or rate_score != rate_score:\n",
    "        continue\n",
    "    session_str = int(session)\n",
    "    session_to_rate_scores[session_str].append(rate_score)"
   ]
  },
  {
   "cell_type": "code",
   "execution_count": 75,
   "metadata": {},
   "outputs": [
    {
     "name": "stdout",
     "output_type": "stream",
     "text": [
      "Number of rate=1 annotations: 1636\n",
      "Number of rate=2 annotations: 4991\n",
      "Number of rate=3 annotations: 616\n"
     ]
    }
   ],
   "source": [
    "print('Number of rate=1 annotations:', sum([rate_scores.count(1) for session, rate_scores in session_to_rate_scores.items()]))\n",
    "print('Number of rate=2 annotations:', sum([rate_scores.count(2) for session, rate_scores in session_to_rate_scores.items()]))\n",
    "print('Number of rate=3 annotations:', sum([rate_scores.count(3) for session, rate_scores in session_to_rate_scores.items()]))"
   ]
  },
  {
   "cell_type": "code",
   "execution_count": 76,
   "metadata": {},
   "outputs": [
    {
     "name": "stdout",
     "output_type": "stream",
     "text": [
      "Number of sessions: 1202\n"
     ]
    }
   ],
   "source": [
    "print('Number of sessions:', len(session_to_rate_scores.keys()))"
   ]
  },
  {
   "cell_type": "code",
   "execution_count": 84,
   "metadata": {},
   "outputs": [
    {
     "data": {
      "text/html": [
       "<div>\n",
       "<style scoped>\n",
       "    .dataframe tbody tr th:only-of-type {\n",
       "        vertical-align: middle;\n",
       "    }\n",
       "\n",
       "    .dataframe tbody tr th {\n",
       "        vertical-align: top;\n",
       "    }\n",
       "\n",
       "    .dataframe thead th {\n",
       "        text-align: right;\n",
       "    }\n",
       "</style>\n",
       "<table border=\"1\" class=\"dataframe\">\n",
       "  <thead>\n",
       "    <tr style=\"text-align: right;\">\n",
       "      <th></th>\n",
       "      <th>contains_3</th>\n",
       "      <th>average_rate</th>\n",
       "      <th>most_common_rate</th>\n",
       "    </tr>\n",
       "    <tr>\n",
       "      <th>Session</th>\n",
       "      <th></th>\n",
       "      <th></th>\n",
       "      <th></th>\n",
       "    </tr>\n",
       "  </thead>\n",
       "  <tbody>\n",
       "    <tr>\n",
       "      <th>13107</th>\n",
       "      <td>False</td>\n",
       "      <td>1.666667</td>\n",
       "      <td>2.0</td>\n",
       "    </tr>\n",
       "    <tr>\n",
       "      <th>13111</th>\n",
       "      <td>False</td>\n",
       "      <td>1.500000</td>\n",
       "      <td>2.0</td>\n",
       "    </tr>\n",
       "    <tr>\n",
       "      <th>13112</th>\n",
       "      <td>False</td>\n",
       "      <td>1.400000</td>\n",
       "      <td>1.0</td>\n",
       "    </tr>\n",
       "    <tr>\n",
       "      <th>13113</th>\n",
       "      <td>False</td>\n",
       "      <td>1.166667</td>\n",
       "      <td>1.0</td>\n",
       "    </tr>\n",
       "    <tr>\n",
       "      <th>13116</th>\n",
       "      <td>False</td>\n",
       "      <td>1.600000</td>\n",
       "      <td>2.0</td>\n",
       "    </tr>\n",
       "    <tr>\n",
       "      <th>...</th>\n",
       "      <td>...</td>\n",
       "      <td>...</td>\n",
       "      <td>...</td>\n",
       "    </tr>\n",
       "    <tr>\n",
       "      <th>53803</th>\n",
       "      <td>False</td>\n",
       "      <td>2.000000</td>\n",
       "      <td>2.0</td>\n",
       "    </tr>\n",
       "    <tr>\n",
       "      <th>53945</th>\n",
       "      <td>False</td>\n",
       "      <td>2.000000</td>\n",
       "      <td>2.0</td>\n",
       "    </tr>\n",
       "    <tr>\n",
       "      <th>54096</th>\n",
       "      <td>False</td>\n",
       "      <td>2.000000</td>\n",
       "      <td>2.0</td>\n",
       "    </tr>\n",
       "    <tr>\n",
       "      <th>54166</th>\n",
       "      <td>False</td>\n",
       "      <td>2.000000</td>\n",
       "      <td>2.0</td>\n",
       "    </tr>\n",
       "    <tr>\n",
       "      <th>54195</th>\n",
       "      <td>True</td>\n",
       "      <td>2.400000</td>\n",
       "      <td>2.0</td>\n",
       "    </tr>\n",
       "  </tbody>\n",
       "</table>\n",
       "<p>1202 rows × 3 columns</p>\n",
       "</div>"
      ],
      "text/plain": [
       "         contains_3  average_rate  most_common_rate\n",
       "Session                                            \n",
       "13107         False      1.666667               2.0\n",
       "13111         False      1.500000               2.0\n",
       "13112         False      1.400000               1.0\n",
       "13113         False      1.166667               1.0\n",
       "13116         False      1.600000               2.0\n",
       "...             ...           ...               ...\n",
       "53803         False      2.000000               2.0\n",
       "53945         False      2.000000               2.0\n",
       "54096         False      2.000000               2.0\n",
       "54166         False      2.000000               2.0\n",
       "54195          True      2.400000               2.0\n",
       "\n",
       "[1202 rows x 3 columns]"
      ]
     },
     "execution_count": 84,
     "metadata": {},
     "output_type": "execute_result"
    }
   ],
   "source": [
    "rate_matrix = pd.DataFrame(session_to_rate_scores.keys()).rename(columns={0: 'Session'})\n",
    "rate_matrix['contains_3'] = rate_matrix.Session.apply(lambda session: 3 in session_to_rate_scores[session])\n",
    "rate_matrix['average_rate'] = rate_matrix.Session.apply(lambda session: statistics.mean(session_to_rate_scores[session]))\n",
    "rate_matrix['most_common_rate'] = rate_matrix.Session.apply(lambda session: Counter(session_to_rate_scores[session]).most_common()[0][0])\n",
    "\n",
    "# rate_matrix = rate_matrix.sample(frac=1).reset_index(drop=True)\n",
    "rate_matrix = rate_matrix.sort_values(by=['Session']).reset_index(drop=True).set_index('Session')\n",
    "rate_matrix"
   ]
  },
  {
   "cell_type": "code",
   "execution_count": 85,
   "metadata": {},
   "outputs": [],
   "source": [
    "additional_data = pd.read_csv('../tr-regression/full_matrix_for_prediction.csv').set_index('Session')"
   ]
  },
  {
   "cell_type": "code",
   "execution_count": 119,
   "metadata": {},
   "outputs": [],
   "source": [
    "full_matrix = rate_matrix.join(additional_data)\n",
    "full_matrix = full_matrix.drop([c for c in full_matrix.columns if c.startswith('gyor')], axis=1)\n",
    "# label = full_matrix.contains_3\n",
    "\n",
    "X_train, X_test, y_train, y_test = train_test_split(full_matrix.drop(['contains_3', 'average_rate', 'most_common_rate',], axis=1), full_matrix.contains_3, test_size=.3)"
   ]
  },
  {
   "cell_type": "code",
   "execution_count": 125,
   "metadata": {},
   "outputs": [
    {
     "data": {
      "text/plain": [
       "RandomForestClassifier(bootstrap=True, ccp_alpha=0.0, class_weight=None,\n",
       "                       criterion='gini', max_depth=None, max_features='auto',\n",
       "                       max_leaf_nodes=None, max_samples=None,\n",
       "                       min_impurity_decrease=0.0, min_impurity_split=None,\n",
       "                       min_samples_leaf=1, min_samples_split=2,\n",
       "                       min_weight_fraction_leaf=0.0, n_estimators=100,\n",
       "                       n_jobs=None, oob_score=False, random_state=None,\n",
       "                       verbose=0, warm_start=False)"
      ]
     },
     "execution_count": 125,
     "metadata": {},
     "output_type": "execute_result"
    }
   ],
   "source": [
    "# predict\n",
    "\n",
    "contains_3_clf = RandomForestClassifier()\n",
    "contains_3_clf.fit(X_train, y_train)"
   ]
  },
  {
   "cell_type": "code",
   "execution_count": 126,
   "metadata": {},
   "outputs": [
    {
     "name": "stdout",
     "output_type": "stream",
     "text": [
      "      |   F     |\n",
      "      |   a   T |\n",
      "      |   l   r |\n",
      "      |   s   u |\n",
      "      |   e   e |\n",
      "------+---------+\n",
      "False |<238> 27 |\n",
      " True |  55 <41>|\n",
      "------+---------+\n",
      "(row = reference; col = test)\n",
      "\n",
      "Raw accuracy: 0.773%\n"
     ]
    },
    {
     "name": "stderr",
     "output_type": "stream",
     "text": [
      "/Users/ycm/opt/miniconda3/lib/python3.7/site-packages/pandas/core/computation/expressions.py:178: UserWarning: evaluating in Python space because the '+' operator is not supported by numexpr for the bool dtype, use '|' instead\n",
      "  f\"evaluating in Python space because the {repr(op_str)} \"\n"
     ]
    }
   ],
   "source": [
    "pred = contains_3_clf.predict(X_test)\n",
    "cm = ConfusionMatrix(y_test, pred)\n",
    "print(str(cm))\n",
    "print('Raw accuracy: {:.3f}%'.format(sum(1 for x, y in zip(y_test, pred) if x == y) / len(y_test)))"
   ]
  },
  {
   "cell_type": "code",
   "execution_count": 133,
   "metadata": {},
   "outputs": [
    {
     "data": {
      "text/plain": [
       "<BarContainer object of 13 artists>"
      ]
     },
     "execution_count": 133,
     "metadata": {},
     "output_type": "execute_result"
    },
    {
     "data": {
      "image/png": "[encoded data removed]",
      "text/plain": [
       "<Figure size 432x288 with 1 Axes>"
      ]
     },
     "metadata": {
      "needs_background": "light"
     },
     "output_type": "display_data"
    }
   ],
   "source": [
    "plt.title('Feature importances for predicting \"contains 3\"')\n",
    "plt.barh(X_train.columns, contains_3_clf.feature_importances_)"
   ]
  },
  {
   "cell_type": "code",
   "execution_count": null,
   "metadata": {},
   "outputs": [],
   "source": []
  }
 ],
 "metadata": {
  "kernelspec": {
   "display_name": "Python 3",
   "language": "python",
   "name": "python3"
  },
  "language_info": {
   "codemirror_mode": {
    "name": "ipython",
    "version": 3
   },
   "file_extension": ".py",
   "mimetype": "text/x-python",
   "name": "python",
   "nbconvert_exporter": "python",
   "pygments_lexer": "ipython3",
   "version": "3.7.4"
  }
 },
 "nbformat": 4,
 "nbformat_minor": 4
}
