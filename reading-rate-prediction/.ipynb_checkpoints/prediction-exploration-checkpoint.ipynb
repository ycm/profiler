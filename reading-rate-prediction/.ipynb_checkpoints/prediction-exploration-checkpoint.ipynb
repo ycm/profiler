{
 "cells": [
  {
   "cell_type": "markdown",
   "metadata": {},
   "source": [
    "# Preliminary prediction task for RATE\n",
    "\n",
    "Profiles have a field dedicated to **rate**. (Fast=3, Good=2, Slow=1)\n",
    "\n",
    "Our goal is to predict rate from automatically derived features. This task is complicated by the fact that a single reading can have a variable number of **rate** annotations."
   ]
  },
  {
   "cell_type": "code",
   "execution_count": 1,
   "metadata": {},
   "outputs": [],
   "source": [
    "import numpy as np\n",
    "import pandas as pd\n",
    "import matplotlib.pyplot as plt\n",
    "\n",
    "from collections import defaultdict\n",
    "from sklearn.model_selection import train_test_split\n",
    "from sklearn.ensemble import RandomForestClassifier"
   ]
  },
  {
   "cell_type": "code",
   "execution_count": 2,
   "metadata": {},
   "outputs": [],
   "source": [
    "df = pd.read_csv('scores.tsv', sep='\\t', skiprows=1)\n",
    "\n",
    "# Keep certain rows\n",
    "df = df[[\n",
    "    'Session',\n",
    "    'WCPM',\n",
    "    'Acc',\n",
    "    'Comp',\n",
    "    'Exp',\n",
    "    'level',\n",
    "    'Form',\n",
    "    'Response',\n",
    "    'WCPM.1',\n",
    "    'Comp.1',\n",
    "    'Name A',\n",
    "    '11']]\n",
    "\n",
    "# Keep rows that have a value in the \"Rate column\"\n",
    "df = df[df['11'].notna()]\n",
    "\n",
    "# Fix datatypes of certain rows\n",
    "df = df.astype({'Session': 'int', 'level': 'int32', 'Response': 'int', '11': 'int32'})\n",
    "df = df.astype({'Session': 'str', 'Response': 'str'})\n",
    "\n",
    "# Drop duplicate rows\n",
    "df = df.drop_duplicates()"
   ]
  },
  {
   "cell_type": "code",
   "execution_count": 3,
   "metadata": {},
   "outputs": [],
   "source": [
    "# Only care about Grade2Spring data for now (974 annotations kept)\n",
    "df_grade2spring = df.loc[df.Form == 'Grade2Spring']\n",
    "\n",
    "# 283 responses\n",
    "response_to_scores = defaultdict(list)\n",
    "for response, score in zip(list(df_grade2spring.Response), list(df_grade2spring['11'])):\n",
    "    response_to_scores[response].append(score)"
   ]
  },
  {
   "cell_type": "code",
   "execution_count": 4,
   "metadata": {},
   "outputs": [
    {
     "data": {
      "text/plain": [
       "[('782748', [3, 2, 1, 2, 1]),\n",
       " ('679527', [3, 1, 1, 2, 3]),\n",
       " ('764258', [3, 2, 1]),\n",
       " ('553406', [3, 1, 1]),\n",
       " ('679531', [3, 1, 1]),\n",
       " ('754877', [3, 1, 2]),\n",
       " ('718450', [3, 2, 1])]"
      ]
     },
     "execution_count": 4,
     "metadata": {},
     "output_type": "execute_result"
    }
   ],
   "source": [
    "# Responses with strange annotations\n",
    "[\n",
    "    (response, score)\n",
    "    for response, score in response_to_scores.items()\n",
    "    if 1 in score and 3 in score\n",
    "]"
   ]
  },
  {
   "cell_type": "markdown",
   "metadata": {},
   "source": [
    "Label categories:\n",
    "- 1_unanimous\n",
    "- 1_or_2\n",
    "- 2_unanimous\n",
    "- 2_or_3\n",
    "- 3_unanimous\n",
    "- undetermined"
   ]
  },
  {
   "cell_type": "code",
   "execution_count": 5,
   "metadata": {},
   "outputs": [
    {
     "name": "stdout",
     "output_type": "stream",
     "text": [
      "Works!\n"
     ]
    }
   ],
   "source": [
    "label_and_indicator = {\n",
    "    '1_unanimous': lambda x: set(x) == {1},\n",
    "    '1_or_2':      lambda x: set(x) == {1, 2},\n",
    "    '2_unanimous': lambda x: set(x) == {2},\n",
    "    '2_or_3':      lambda x: set(x) == {2, 3},\n",
    "    '3_unanimous': lambda x: set(x) == {3},\n",
    "    'undetermined': lambda x: 1 in x and 3 in x\n",
    "}\n",
    "all_labels = [label for label in label_and_indicator]\n",
    "\n",
    "# Sanity check: make sure indicators disjointly cover all responses\n",
    "for response, score in response_to_scores.items():\n",
    "    passed = 0\n",
    "    for _, indicator in label_and_indicator.items():\n",
    "        if indicator(score):\n",
    "            passed += 1\n",
    "    assert passed == 1\n",
    "print('Works!')"
   ]
  },
  {
   "cell_type": "code",
   "execution_count": 6,
   "metadata": {},
   "outputs": [],
   "source": [
    "# Add label column to dataframe and one-hot encode\n",
    "\n",
    "label_column = []\n",
    "for response in df_grade2spring.Response:\n",
    "    score = response_to_scores[response]\n",
    "    for label, indicator in label_and_indicator.items():\n",
    "        if indicator(score):\n",
    "            label_column.append(label)\n",
    "            continue\n",
    "            \n",
    "assert len(label_column) == df_grade2spring.shape[0]\n",
    "\n",
    "df_grade2spring = df_grade2spring.copy(deep=True)\n",
    "df_grade2spring['label'] = label_column\n",
    "one_hot = pd.get_dummies(df_grade2spring.label)\n",
    "df_grade2spring = df_grade2spring.join(one_hot)"
   ]
  },
  {
   "cell_type": "code",
   "execution_count": 7,
   "metadata": {},
   "outputs": [
    {
     "data": {
      "image/png": "[encoded data removed]",
      "text/plain": [
       "<Figure size 576x432 with 1 Axes>"
      ]
     },
     "metadata": {
      "needs_background": "light"
     },
     "output_type": "display_data"
    }
   ],
   "source": [
    "counts = []\n",
    "for label in all_labels:\n",
    "    counts.append(label_column.count(label))\n",
    "\n",
    "plt.figure(figsize=(8, 6))\n",
    "plt.barh(all_labels, counts)\n",
    "plt.show()"
   ]
  },
  {
   "cell_type": "code",
   "execution_count": 8,
   "metadata": {},
   "outputs": [],
   "source": [
    "# Keep only columns that are useful for learning (drop columns like session, evaluator, etc.)\n",
    "\n",
    "df_grade2spring_X = df_grade2spring[[\n",
    "    'WCPM',\n",
    "    'Acc',\n",
    "    'Comp',\n",
    "    'Exp',\n",
    "    'level',\n",
    "    'WCPM.1',\n",
    "    'Comp.1'\n",
    "]]\n",
    "df_grade2spring_Y = df_grade2spring[all_labels]"
   ]
  },
  {
   "cell_type": "code",
   "execution_count": 9,
   "metadata": {},
   "outputs": [],
   "source": [
    "X_train, X_test, Y_train, Y_test = train_test_split(\n",
    "    df_grade2spring_X, df_grade2spring_Y, test_size=0.33, random_state=0)"
   ]
  },
  {
   "cell_type": "code",
   "execution_count": 10,
   "metadata": {},
   "outputs": [
    {
     "name": "stdout",
     "output_type": "stream",
     "text": [
      "1_unanimous  0.991\n",
      "1_or_2       0.978\n",
      "2_unanimous  0.969\n",
      "2_or_3       0.981\n",
      "3_unanimous  0.997\n",
      "undetermined 0.997\n"
     ]
    }
   ],
   "source": [
    "PLT_accuracies = []\n",
    "PLT_feature_importances = []\n",
    "\n",
    "for label in all_labels:    \n",
    "    clf = RandomForestClassifier()\n",
    "    y_train = Y_train[label]\n",
    "    y_test = Y_test[label]\n",
    "    clf.fit(X_train, y_train)\n",
    "    importances = list(clf.feature_importances_)\n",
    "    \n",
    "    score = clf.score(X_test, y_test)\n",
    "    PLT_accuracies.append(score)\n",
    "    PLT_feature_importances.append(importances)\n",
    "    print('{:12s} {:.3f}'.format(label, score))"
   ]
  },
  {
   "cell_type": "code",
   "execution_count": 11,
   "metadata": {},
   "outputs": [
    {
     "data": {
      "image/png": "[encoded data removed]",
      "text/plain": [
       "<Figure size 576x432 with 1 Axes>"
      ]
     },
     "metadata": {
      "needs_background": "light"
     },
     "output_type": "display_data"
    }
   ],
   "source": [
    "plt.figure(figsize=(8, 6))\n",
    "plt.title('Raw accuracies using vanilla random forest model')\n",
    "plt.barh(all_labels, PLT_accuracies)\n",
    "plt.show()"
   ]
  },
  {
   "cell_type": "code",
   "execution_count": 12,
   "metadata": {},
   "outputs": [
    {
     "data": {
      "image/png": "[encoded data removed]",
      "text/plain": [
       "<Figure size 432x288 with 1 Axes>"
      ]
     },
     "metadata": {
      "needs_background": "light"
     },
     "output_type": "display_data"
    }
   ],
   "source": [
    "df = pd.DataFrame(np.c_[PLT_feature_importances].transpose(), index=df_grade2spring_X.columns)\n",
    "df.plot.barh()\n",
    "plt.title('Feature importances')\n",
    "plt.show()"
   ]
  }
 ],
 "metadata": {
  "kernelspec": {
   "display_name": "Python 3",
   "language": "python",
   "name": "python3"
  },
  "language_info": {
   "codemirror_mode": {
    "name": "ipython",
    "version": 3
   },
   "file_extension": ".py",
   "mimetype": "text/x-python",
   "name": "python",
   "nbconvert_exporter": "python",
   "pygments_lexer": "ipython3",
   "version": "3.7.4"
  }
 },
 "nbformat": 4,
 "nbformat_minor": 4
}
