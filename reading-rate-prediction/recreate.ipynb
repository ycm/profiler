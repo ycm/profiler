{
 "cells": [
  {
   "cell_type": "code",
   "execution_count": 31,
   "metadata": {},
   "outputs": [],
   "source": [
    "import json\n",
    "import pandas as pd\n",
    "import matplotlib.pyplot as plt\n",
    "\n",
    "from collections import defaultdict"
   ]
  },
  {
   "cell_type": "code",
   "execution_count": 12,
   "metadata": {},
   "outputs": [],
   "source": [
    "df_alignment_child = pd.read_csv('../data/moby/ReadingProfile_Data/184_ASR/word_alignments.csv')\n",
    "df_alignment_gold  = pd.read_csv('../data/moby/ReadingProfile_Data/182_ASR/word_alignments.csv')"
   ]
  },
  {
   "cell_type": "code",
   "execution_count": 94,
   "metadata": {},
   "outputs": [],
   "source": [
    "annotes = pd.read_csv('../reading-rate-prediction/scores.tsv', sep='\\t', skiprows=1).drop_duplicates()"
   ]
  },
  {
   "cell_type": "code",
   "execution_count": 95,
   "metadata": {},
   "outputs": [],
   "source": [
    "annotes.to_csv('../data/moby/annotates.csv', index=False)"
   ]
  },
  {
   "cell_type": "code",
   "execution_count": 96,
   "metadata": {},
   "outputs": [],
   "source": [
    "session_to_annotate_category_to_scores = defaultdict(lambda: defaultdict(list))\n",
    "for idx, row in annotes.iterrows():\n",
    "    try:\n",
    "        session = int(row.Session)\n",
    "        for i in range(1, 21):\n",
    "            score = row[str(i)]\n",
    "            if score == score:\n",
    "                session_to_annotate_category_to_scores[session][i].append(score)\n",
    "    except:\n",
    "        pass"
   ]
  },
  {
   "cell_type": "code",
   "execution_count": 116,
   "metadata": {},
   "outputs": [],
   "source": [
    "response_to_annote_category_to_scores = defaultdict(lambda: defaultdict(list))\n",
    "for idx, row in annotes.iterrows():\n",
    "    try:\n",
    "        response = int(row.Response)\n",
    "        for i in range(1, 21):\n",
    "            score = row[str(i)]\n",
    "            if score == score:\n",
    "                response_to_annote_category_to_scores[response][i].append(score)\n",
    "    except:\n",
    "        pass"
   ]
  },
  {
   "cell_type": "code",
   "execution_count": 32,
   "metadata": {},
   "outputs": [],
   "source": [
    "def get_response_to_words(df):\n",
    "    response_to_words = defaultdict(list)\n",
    "    for idx, (session, item, response, sframe, nframes, word) in df.iterrows():\n",
    "        response_to_words[response].append([word, sframe, nframes])\n",
    "    return response_to_words\n",
    "def get_response_to_session(df):\n",
    "    response_to_session = {}\n",
    "    for idx, (session, item, response, sframe, nframes, word) in df.iterrows():\n",
    "        response_to_session[response] = session\n",
    "    return response_to_session\n",
    "def get_response_to_item(df):\n",
    "    response_to_item = {}\n",
    "    for idx, (session, item, response, sframe, nframes, word) in df.iterrows():\n",
    "        response_to_item[response] = item\n",
    "    return response_to_item"
   ]
  },
  {
   "cell_type": "code",
   "execution_count": 44,
   "metadata": {},
   "outputs": [],
   "source": [
    "def get_session_to_responses(df):\n",
    "    session_to_responses = defaultdict(set)\n",
    "    for idx, (session, item, response, sframe, nframes, word) in df.iterrows():\n",
    "        session_to_responses[session].add(response)\n",
    "    return {k: list(v) for k, v in session_to_responses.items()}"
   ]
  },
  {
   "cell_type": "code",
   "execution_count": 39,
   "metadata": {},
   "outputs": [],
   "source": [
    "child_response_to_words = get_response_to_words(df_alignment_child)\n",
    "child_response_to_session = get_response_to_session(df_alignment_child)\n",
    "child_response_to_item = get_response_to_item(df_alignment_child)\n",
    "gold_response_to_words = get_response_to_words(df_alignment_gold)\n",
    "gold_response_to_session = get_response_to_session(df_alignment_gold)\n",
    "gold_response_to_item = get_response_to_item(df_alignment_gold)"
   ]
  },
  {
   "cell_type": "code",
   "execution_count": 45,
   "metadata": {},
   "outputs": [],
   "source": [
    "child_session_to_responses = get_session_to_responses(df_alignment_child)\n",
    "gold_session_to_responses = get_session_to_responses(df_alignment_gold)"
   ]
  },
  {
   "cell_type": "code",
   "execution_count": 34,
   "metadata": {},
   "outputs": [],
   "source": [
    "def jsondump(thing, path):\n",
    "    with open('../data/moby/jsons/' + path, 'w') as f:\n",
    "        json.dump(thing, f)"
   ]
  },
  {
   "cell_type": "code",
   "execution_count": 46,
   "metadata": {},
   "outputs": [],
   "source": [
    "jsondump(child_session_to_responses, 'child_session_to_responses.json')\n",
    "jsondump(gold_session_to_responses, 'gold_session_to_responses.json')"
   ]
  },
  {
   "cell_type": "code",
   "execution_count": 71,
   "metadata": {},
   "outputs": [],
   "source": [
    "jsondump(child_response_to_words, 'child_response_to_words.json')\n",
    "jsondump(child_response_to_session, 'child_response_to_session.json')\n",
    "jsondump(child_response_to_item, 'child_response_to_item.json')\n",
    "jsondump(gold_response_to_words, 'gold_response_to_words.json')\n",
    "jsondump(gold_response_to_session, 'gold_response_to_session.json')\n",
    "jsondump(gold_response_to_item, 'gold_response_to_item.json')"
   ]
  },
  {
   "cell_type": "code",
   "execution_count": 121,
   "metadata": {},
   "outputs": [],
   "source": [
    "jsondump(response_to_annote_category_to_scores, 'response_to_annote_category_to_scores.json')\n",
    "jsondump(session_to_annotate_category_to_scores, 'session_to_annote_category_to_scores.json')"
   ]
  }
 ],
 "metadata": {
  "kernelspec": {
   "display_name": "Python 3",
   "language": "python",
   "name": "python3"
  },
  "language_info": {
   "codemirror_mode": {
    "name": "ipython",
    "version": 3
   },
   "file_extension": ".py",
   "mimetype": "text/x-python",
   "name": "python",
   "nbconvert_exporter": "python",
   "pygments_lexer": "ipython3",
   "version": "3.7.4"
  }
 },
 "nbformat": 4,
 "nbformat_minor": 4
}
