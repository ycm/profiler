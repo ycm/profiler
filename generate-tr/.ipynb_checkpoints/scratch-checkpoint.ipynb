{
 "cells": [
  {
   "cell_type": "code",
   "execution_count": 1,
   "metadata": {},
   "outputs": [],
   "source": [
    "import pandas as pd\n",
    "from collections import defaultdict"
   ]
  },
  {
   "cell_type": "code",
   "execution_count": 2,
   "metadata": {},
   "outputs": [],
   "source": [
    "def subtract_1(value):\n",
    "    if value != value:\n",
    "        return value\n",
    "    return int(int(value) - 1)\n",
    "\n",
    "def turn_1_to_0(value):\n",
    "    if value != value:\n",
    "        return value\n",
    "    v = int(value)\n",
    "    if v == 1:\n",
    "        return 0\n",
    "    return v\n",
    "\n",
    "def turn_1_and_3_to_0(value):\n",
    "    if value != value:\n",
    "        return value\n",
    "    v = int(value)\n",
    "    if v != 2:\n",
    "        return 0\n",
    "    return v\n",
    "\n",
    "def accept_3_or_2(value):\n",
    "    if value != value:\n",
    "        return value\n",
    "    v = int(value)\n",
    "    if v >= 2:\n",
    "        return 2\n",
    "    return 0"
   ]
  },
  {
   "cell_type": "code",
   "execution_count": 3,
   "metadata": {},
   "outputs": [],
   "source": [
    "df = pd.read_csv('annotations.csv')\n",
    "df['1'] = df['1'].apply(subtract_1)\n",
    "df['2'] = df['2'].apply(subtract_1)\n",
    "df['3'] = df['3'].apply(subtract_1)\n",
    "df['4'] = df['4'].apply(subtract_1)\n",
    "df['5'] = df['5'].apply(subtract_1)\n",
    "df['6'] = df['6'].apply(subtract_1)\n",
    "df['7'] = df['7'].apply(turn_1_to_0)\n",
    "df['8'] = df['8'].apply(turn_1_to_0)\n",
    "df['9'] = df['9'].apply(turn_1_to_0)\n",
    "df['10'] = df['10'].apply(turn_1_to_0)\n",
    "df['11'] = df['11'].apply(turn_1_and_3_to_0)\n",
    "df['12'] = df['12'].apply(subtract_1)\n",
    "df['13'] = df['13'].apply(subtract_1)\n",
    "df['14'] = df['14'].apply(subtract_1)\n",
    "df['15'] = df['15'].apply(subtract_1)\n",
    "df['16'] = df['16'].apply(accept_3_or_2)\n",
    "df['17'] = df['17'].apply(accept_3_or_2)\n",
    "df['18'] = df['18'].apply(accept_3_or_2)\n",
    "df['19'] = df['19'].apply(turn_1_to_0)\n",
    "df['20'] = df['20'].apply(subtract_1)"
   ]
  },
  {
   "cell_type": "code",
   "execution_count": 4,
   "metadata": {},
   "outputs": [],
   "source": [
    "df.to_csv('adjusted.csv', index=None)"
   ]
  },
  {
   "cell_type": "code",
   "execution_count": 5,
   "metadata": {},
   "outputs": [],
   "source": [
    "session_to_rows = defaultdict(list)\n",
    "iterrows = df.iterrows()\n",
    "for _ in range(4):\n",
    "    next(iterrows)\n",
    "for idx, row in iterrows:\n",
    "    session = row.Session\n",
    "    if session == session:\n",
    "        session_to_rows[session].append(row)"
   ]
  },
  {
   "cell_type": "code",
   "execution_count": 6,
   "metadata": {},
   "outputs": [],
   "source": [
    "categories = [str(i) for i in range(1, 21)]"
   ]
  },
  {
   "cell_type": "code",
   "execution_count": 7,
   "metadata": {},
   "outputs": [],
   "source": [
    "session_to_category_to_valuelist = defaultdict(dict)\n",
    "for session, rows in session_to_rows.items():\n",
    "    for category in categories:\n",
    "        valuelist = []\n",
    "        for row in rows:\n",
    "            value = row[category]\n",
    "            if value == value:\n",
    "                valuelist.append(value)\n",
    "        session_to_category_to_valuelist[session][category] = valuelist"
   ]
  },
  {
   "cell_type": "code",
   "execution_count": 8,
   "metadata": {},
   "outputs": [],
   "source": [
    "# for session, category_to_valuelist in session_to_category_to_valuelist.items():\n",
    "#     for category, valuelist in category_to_valuelist.items():\n",
    "#         if not valuelist:\n",
    "#             print(session, category)"
   ]
  },
  {
   "cell_type": "code",
   "execution_count": 9,
   "metadata": {},
   "outputs": [],
   "source": [
    "session_to_category_to_average = defaultdict(dict)\n",
    "for session, category_to_valuelist in session_to_category_to_valuelist.items():\n",
    "    for category, valuelist in category_to_valuelist.items():\n",
    "        if not valuelist:\n",
    "            average = 0\n",
    "        else:\n",
    "            average = sum(valuelist) / len(valuelist)\n",
    "    \n",
    "        session_to_category_to_average[session][category] = average / 2"
   ]
  },
  {
   "cell_type": "code",
   "execution_count": 10,
   "metadata": {},
   "outputs": [],
   "source": [
    "# for idx, score in enumerate(pd.DataFrame(session_to_category_to_average).T.loc['24191']):\n",
    "#     print('{} {:.2f}'.format(idx + 1, score))"
   ]
  },
  {
   "cell_type": "code",
   "execution_count": 12,
   "metadata": {},
   "outputs": [
    {
     "name": "stderr",
     "output_type": "stream",
     "text": [
      "/Users/ycm/opt/miniconda3/lib/python3.7/site-packages/ipykernel_launcher.py:33: RuntimeWarning: invalid value encountered in double_scalars\n",
      "/Users/ycm/opt/miniconda3/lib/python3.7/site-packages/ipykernel_launcher.py:33: RuntimeWarning: divide by zero encountered in double_scalars\n"
     ]
    }
   ],
   "source": [
    "retell_saq_scores_df = pd.read_csv('../docs/Profiler Response-level Scores Updated Sept 24.csv')\n",
    "session_to_retell_scores = defaultdict(list)\n",
    "session_to_saq_scores = defaultdict(list)\n",
    "session_to_wcpms = defaultdict(list)\n",
    "for idx, row in retell_saq_scores_df.iterrows():\n",
    "    session = str(int(row.Session))\n",
    "    retell = row.Retell\n",
    "    saq1 = row.SAQ1\n",
    "    saq2 = row.SAQ2\n",
    "    wcpm = row.WCPM\n",
    "    \n",
    "    if retell != retell:\n",
    "        retell = 0\n",
    "    if saq1 != saq1:\n",
    "        saq1 = 0\n",
    "    if saq2 != saq2:\n",
    "        saq2 = 0\n",
    "    if wcpm != wcpm:\n",
    "        wcpm = 0\n",
    "    \n",
    "    session_to_retell_scores[session].append(retell)\n",
    "    session_to_saq_scores[session].append(saq1)\n",
    "    session_to_saq_scores[session].append(saq2)\n",
    "    session_to_wcpms[session].append(wcpm)\n",
    "\n",
    "session_to_wcpm_consistency = {\n",
    "    session: sorted(wcpms)\n",
    "    for session, wcpms in session_to_wcpms.items()\n",
    "}\n",
    "\n",
    "session_to_wcpm_consistency = {\n",
    "    session: max(abs(wcpms[0] - wcpms[1]), abs(wcpms[1] - wcpms[-1]), abs(wcpms[0] - wcpms[-1])) / wcpms[1]\n",
    "    for session, wcpms in session_to_wcpm_consistency.items()\n",
    "}\n",
    "    \n",
    "session_to_average_retell_score = {\n",
    "    session: sum(retell_scores) / len(retell_scores)\n",
    "    for session, retell_scores in session_to_retell_scores.items()\n",
    "}\n",
    "\n",
    "session_to_average_saq_score = {\n",
    "    session: sum(saq_scores) / len(saq_scores) / 2\n",
    "    for session, saq_scores in session_to_saq_scores.items()\n",
    "}"
   ]
  },
  {
   "cell_type": "code",
   "execution_count": 13,
   "metadata": {},
   "outputs": [
    {
     "data": {
      "text/plain": [
       "[65.1, 55.2, 47.1]"
      ]
     },
     "execution_count": 13,
     "metadata": {},
     "output_type": "execute_result"
    }
   ],
   "source": [
    "session_to_wcpms['45506']"
   ]
  },
  {
   "cell_type": "code",
   "execution_count": 14,
   "metadata": {},
   "outputs": [],
   "source": [
    "temp_df = pd.DataFrame(session_to_category_to_average).T\n",
    "temp_df.index.name = 'Session'\n",
    "\n",
    "retell_column = [session_to_average_retell_score[session] for session in temp_df.index]\n",
    "saq_column  = [session_to_average_saq_score[session] for session in temp_df.index]\n",
    "wcpm_consistency_column = [session_to_wcpm_consistency[session] for session in temp_df.index]\n",
    "\n",
    "temp_df['Retell'] = retell_column\n",
    "temp_df['SAQ'] = saq_column\n",
    "temp_df['WCPM_consistency'] = wcpm_consistency_column\n",
    "\n",
    "temp_df.to_csv('session_to_numeric_TR_scores.csv')"
   ]
  },
  {
   "cell_type": "code",
   "execution_count": 15,
   "metadata": {},
   "outputs": [],
   "source": [
    "def GYOR_1_thru_19(v):\n",
    "    if v > .83:\n",
    "        return 3\n",
    "    if .58 < v <= .83:\n",
    "        return 2\n",
    "    if .33 <= v <= .58:\n",
    "        return 1\n",
    "    if v < .33:\n",
    "        return 0\n",
    "\n",
    "def GYOR_detail(v):\n",
    "    if v > .66:\n",
    "        return 3\n",
    "    if .58 < v <= .66:\n",
    "        return 2\n",
    "    if .5 <= v <= .58:\n",
    "        return 1\n",
    "    if v < .5:\n",
    "        return 0\n",
    "    \n",
    "def GYOR_retell(v):\n",
    "    if v > 2.5:\n",
    "        return 3\n",
    "    if 1.75 < v <= 2.5:\n",
    "        return 2\n",
    "    if 1 <= v <= 1.75:\n",
    "        return 1\n",
    "    if v < 1:\n",
    "        return 0\n",
    "\n",
    "def GYOR_consistent_in_passage(v):\n",
    "    if v > .66:\n",
    "        return 3\n",
    "    if .5 < v <= .66:\n",
    "        return 2\n",
    "    if .33 <= v <= .5:\n",
    "        return 1\n",
    "    if v < .33:\n",
    "        return 0\n",
    "\n",
    "def GYOR_consistent_across_passages(v):\n",
    "    if v < .25:\n",
    "        return 3\n",
    "    if .25 <= v < .46:\n",
    "        return 2\n",
    "    if .46 <= v <= .66:\n",
    "        return 1\n",
    "    if v > .66:\n",
    "        return 0"
   ]
  },
  {
   "cell_type": "code",
   "execution_count": 16,
   "metadata": {},
   "outputs": [],
   "source": [
    "def bucketted(v):\n",
    "    if v > .83:\n",
    "        return 1\n",
    "    if v > .58:\n",
    "        return .8\n",
    "    if v >= .33:\n",
    "        return .5\n",
    "    return 0\n",
    "def bucketted_19(v):\n",
    "    if v > .66:\n",
    "        return 1\n",
    "    if v > .5:\n",
    "        return .8\n",
    "    if v >= .33:\n",
    "        return .5\n",
    "    return 0"
   ]
  },
  {
   "cell_type": "code",
   "execution_count": 17,
   "metadata": {},
   "outputs": [],
   "source": [
    "final_df = pd.read_csv('session_to_numeric_TR_scores.csv')\n",
    "final_df = final_df.set_index('Session')\n",
    "\n",
    "final_df['1_new'] = final_df['1'].apply(bucketted)\n",
    "final_df['2_new'] = final_df['2'].apply(bucketted)\n",
    "final_df['3_new'] = final_df['3'].apply(bucketted)\n",
    "final_df['4_new'] = final_df['4'].apply(bucketted)\n",
    "final_df['5_new'] = final_df['5'].apply(bucketted)\n",
    "final_df['6_new'] = final_df['6'].apply(bucketted)\n",
    "final_df['7_new'] = final_df['7'].apply(bucketted)\n",
    "final_df['8_new'] = final_df['8'].apply(bucketted)\n",
    "final_df['9_new'] = final_df['9'].apply(bucketted)\n",
    "final_df['10_new'] = final_df['10'].apply(bucketted)\n",
    "final_df['11_new'] = final_df['11'].apply(bucketted)\n",
    "final_df['12_new'] = final_df['12'].apply(bucketted)\n",
    "final_df['13_new'] = final_df['13'].apply(bucketted)\n",
    "final_df['14_new'] = final_df['14'].apply(bucketted)\n",
    "final_df['15_new'] = final_df['15'].apply(bucketted)\n",
    "final_df['16_new'] = final_df['16'].apply(bucketted)\n",
    "final_df['17_new'] = final_df['17'].apply(bucketted)\n",
    "final_df['18_new'] = final_df['18'].apply(bucketted)\n",
    "final_df['19_new'] = final_df['19'].apply(bucketted_19)\n",
    "final_df['20_new'] = final_df['20'].apply(bucketted)\n",
    "\n",
    "final_df['catB'] = (final_df['1_new'] + final_df['2_new']) / 2\n",
    "final_df['catC'] = (final_df['3_new'] + final_df['4_new'] + final_df['5_new'] + final_df['6_new']) / 4\n",
    "final_df['catE'] = (final_df['16_new']) / 1\n",
    "final_df['catF'] = ((final_df['7_new'] + final_df['8_new'] + final_df['9_new']) * 2 + final_df['10_new']) / 7\n",
    "final_df['catG'] = final_df['15_new']\n",
    "final_df['catH'] = final_df['17_new']\n",
    "final_df['catJ'] = (final_df['11_new'] + final_df['18_new']) / 2\n",
    "final_df['catK'] = final_df['14_new']\n",
    "final_df['catL'] = final_df['12_new']\n",
    "final_df['catM'] = final_df['13_new']\n",
    "final_df['catN'] = final_df['SAQ']\n",
    "final_df['catO'] = final_df['Retell']\n",
    "final_df['catP'] = final_df['19_new']\n",
    "final_df['catQ'] = final_df['WCPM_consistency']\n",
    "\n",
    "final_df['gyorB'] = final_df['catB'].apply(GYOR_1_thru_19)\n",
    "final_df['gyorC'] = final_df['catC'].apply(GYOR_1_thru_19)\n",
    "final_df['gyorE'] = final_df['catE'].apply(GYOR_1_thru_19)\n",
    "final_df['gyorF'] = final_df['catF'].apply(GYOR_1_thru_19)\n",
    "final_df['gyorG'] = final_df['catG'].apply(GYOR_1_thru_19)\n",
    "final_df['gyorH'] = final_df['catH'].apply(GYOR_1_thru_19)\n",
    "final_df['gyorJ'] = final_df['catJ'].apply(GYOR_1_thru_19)\n",
    "final_df['gyorK'] = final_df['catK'].apply(GYOR_1_thru_19)\n",
    "final_df['gyorL'] = final_df['catL'].apply(GYOR_1_thru_19)\n",
    "final_df['gyorM'] = final_df['catM'].apply(GYOR_1_thru_19)\n",
    "final_df['gyorN'] = final_df['catN'].apply(GYOR_detail)\n",
    "final_df['gyorO'] = final_df['catO'].apply(GYOR_retell)\n",
    "final_df['gyorP'] = final_df['catP'].apply(GYOR_consistent_in_passage)\n",
    "final_df['gyorQ'] = final_df['catQ'].apply(GYOR_consistent_across_passages)"
   ]
  },
  {
   "cell_type": "code",
   "execution_count": 18,
   "metadata": {},
   "outputs": [],
   "source": [
    "# list(zip(final_df.loc[42844].index, list(final_df.loc[42844])))"
   ]
  },
  {
   "cell_type": "code",
   "execution_count": 19,
   "metadata": {},
   "outputs": [
    {
     "data": {
      "text/plain": [
       "1.0"
      ]
     },
     "execution_count": 19,
     "metadata": {},
     "output_type": "execute_result"
    }
   ],
   "source": [
    "final_df.loc[45506]['10']"
   ]
  },
  {
   "cell_type": "code",
   "execution_count": 20,
   "metadata": {},
   "outputs": [
    {
     "data": {
      "text/plain": [
       "0.7142857142857143"
      ]
     },
     "execution_count": 20,
     "metadata": {},
     "output_type": "execute_result"
    }
   ],
   "source": [
    "final_df.loc[45506]['catF']"
   ]
  },
  {
   "cell_type": "code",
   "execution_count": 21,
   "metadata": {},
   "outputs": [],
   "source": [
    "final_df_cat_gyor = final_df[[x for x in final_df.columns if 'gyor' in x or 'cat' in x]]\n",
    "final_df_gyor = final_df[[x for x in final_df.columns if 'gyor' in x]]\n",
    "final_df_cat = final_df[[x for x in final_df.columns if 'cat' in x]]\n",
    "\n",
    "final_df_cat_gyor.to_csv('final_df_cat_score_and_gyor.csv')\n",
    "final_df_cat.to_csv('final_df_cat_score.csv')\n",
    "final_df_gyor.to_csv('final_df_gyor.csv')"
   ]
  }
 ],
 "metadata": {
  "kernelspec": {
   "display_name": "Python 3",
   "language": "python",
   "name": "python3"
  },
  "language_info": {
   "codemirror_mode": {
    "name": "ipython",
    "version": 3
   },
   "file_extension": ".py",
   "mimetype": "text/x-python",
   "name": "python",
   "nbconvert_exporter": "python",
   "pygments_lexer": "ipython3",
   "version": "3.7.4"
  }
 },
 "nbformat": 4,
 "nbformat_minor": 4
}
