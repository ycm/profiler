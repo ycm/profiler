{
 "cells": [
  {
   "cell_type": "code",
   "execution_count": 1,
   "metadata": {},
   "outputs": [],
   "source": [
    "import json\n",
    "import statistics\n",
    "import pandas as pd\n",
    "import matplotlib.pyplot as plt\n",
    "from collections import defaultdict"
   ]
  },
  {
   "cell_type": "code",
   "execution_count": 19,
   "metadata": {},
   "outputs": [],
   "source": [
    "def load_json(path):\n",
    "    with open('../data/moby/jsons/' + path) as f:\n",
    "        return json.load(f)\n",
    "\n",
    "response_to_item = load_json('child_response_to_item.json')\n",
    "item_to_form = load_json('item_to_form.json')\n",
    "form_to_grade = load_json('form_to_grade.json')\n",
    "\n",
    "session_to_annote_category_to_scores = load_json('session_to_annote_category_to_scores.json')\n",
    "response_to_annote_category_to_score = load_json('response_to_annote_category_to_scores.json')\n",
    "\n",
    "response_to_session = load_json('child_response_to_session.json')\n",
    "\n",
    "# child_response_to_words = load_json('child_response_to_words.json')\n",
    "# child_session_to_responses = load_json('child_session_to_responses.json')\n",
    "\n",
    "# gold_response_to_words = load_json('gold_response_to_words.json')\n",
    "# gold_session_to_responses = load_json('gold_session_to_responses.json')"
   ]
  },
  {
   "cell_type": "code",
   "execution_count": 22,
   "metadata": {},
   "outputs": [],
   "source": [
    "col_response = []\n",
    "col_session = []\n",
    "col_perfect = []\n",
    "col_not_too_slow = []\n",
    "col_not_too_fast = []\n",
    "col_item = []\n",
    "col_form = []\n",
    "col_grade = []\n",
    "\n",
    "for response, annotate_category_to_score in response_to_annote_category_to_score.items():\n",
    "    if '11' not in annotate_category_to_score:\n",
    "        continue\n",
    "    \n",
    "    annotes = annotate_category_to_score['11']\n",
    "    \n",
    "    perfect = 1 if all(annote == 2 for annote in annotes) else 0\n",
    "    not_too_slow = 1 if 1 not in annotes else 0\n",
    "    not_too_fast = 1 if 3 not in annotes else 0\n",
    "    \n",
    "    \n",
    "    \n",
    "    if response in response_to_item and response in response_to_session:\n",
    "        session = response_to_session[response]\n",
    "        item = response_to_item[response]\n",
    "        form = item_to_form[str(item)]\n",
    "        grade = form_to_grade[form]\n",
    "        \n",
    "        col_response.append(response)\n",
    "        col_session.append(session)\n",
    "        col_perfect.append(perfect)\n",
    "        col_not_too_slow.append(not_too_slow)\n",
    "        col_not_too_fast.append(not_too_fast)\n",
    "        col_item.append(item)\n",
    "        col_form.append(form)\n",
    "        col_grade.append(grade)"
   ]
  },
  {
   "cell_type": "code",
   "execution_count": 24,
   "metadata": {},
   "outputs": [],
   "source": [
    "df = pd.DataFrame({\n",
    "    'response': col_response,\n",
    "    'session': col_session,\n",
    "    'is_perfect': col_perfect,\n",
    "    'not_too_slow': col_not_too_slow,\n",
    "    'not_too_fast': col_not_too_fast,\n",
    "    'item': col_item,\n",
    "    'form': col_form,\n",
    "    'grade': col_grade\n",
    "})"
   ]
  },
  {
   "cell_type": "code",
   "execution_count": 27,
   "metadata": {},
   "outputs": [],
   "source": [
    "df.to_csv('../reading-rate-prediction/better_table_for_predicting_rate.csv', index=None)"
   ]
  }
 ],
 "metadata": {
  "kernelspec": {
   "display_name": "Python 3",
   "language": "python",
   "name": "python3"
  },
  "language_info": {
   "codemirror_mode": {
    "name": "ipython",
    "version": 3
   },
   "file_extension": ".py",
   "mimetype": "text/x-python",
   "name": "python",
   "nbconvert_exporter": "python",
   "pygments_lexer": "ipython3",
   "version": "3.7.4"
  }
 },
 "nbformat": 4,
 "nbformat_minor": 4
}
