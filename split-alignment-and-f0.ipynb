{
 "cells": [
  {
   "cell_type": "markdown",
   "metadata": {},
   "source": [
    "Split alignment/F0 data in separate directories"
   ]
  },
  {
   "cell_type": "code",
   "execution_count": 37,
   "metadata": {},
   "outputs": [],
   "source": [
    "import json\n",
    "import pandas as pd"
   ]
  },
  {
   "cell_type": "code",
   "execution_count": 38,
   "metadata": {},
   "outputs": [],
   "source": [
    "with open('data/moby/jsons/item_to_form.json') as f:\n",
    "    item_to_form = json.load(f)\n",
    "    items_list = set(int(x) for x in item_to_form.keys())"
   ]
  },
  {
   "cell_type": "code",
   "execution_count": 39,
   "metadata": {},
   "outputs": [],
   "source": [
    "def extract_and_dump_to_dir(filepath, outpath, suff):\n",
    "    df = pd.read_csv(filepath)\n",
    "    for item in items_list:\n",
    "        df_for_item = df.loc[df['item'] == item]\n",
    "        df_for_item.drop('item', axis=1).to_csv(outpath + str(item) + suff, index=False)"
   ]
  },
  {
   "cell_type": "code",
   "execution_count": 41,
   "metadata": {},
   "outputs": [],
   "source": [
    "extract_and_dump_to_dir(\n",
    "    'data/moby/ReadingProfile_Data/182_ASR/f0s.csv',\n",
    "    'data/moby/all-alignments-and-f0s/182/',\n",
    "    '_f0.csv')\n",
    "extract_and_dump_to_dir(\n",
    "    'data/moby/ReadingProfile_Data/182_ASR/word_alignments.csv',\n",
    "    'data/moby/all-alignments-and-f0s/182/',\n",
    "    '_alignment.csv')\n",
    "extract_and_dump_to_dir(\n",
    "    'data/moby/ReadingProfile_Data/184_ASR/f0s.csv',\n",
    "    'data/moby/all-alignments-and-f0s/184/',\n",
    "    '_f0.csv')\n",
    "extract_and_dump_to_dir(\n",
    "    'data/moby/ReadingProfile_Data/184_ASR/word_alignments.csv',\n",
    "    'data/moby/all-alignments-and-f0s/184/',\n",
    "    '_alignment.csv')"
   ]
  }
 ],
 "metadata": {
  "kernelspec": {
   "display_name": "Python 3",
   "language": "python",
   "name": "python3"
  },
  "language_info": {
   "codemirror_mode": {
    "name": "ipython",
    "version": 3
   },
   "file_extension": ".py",
   "mimetype": "text/x-python",
   "name": "python",
   "nbconvert_exporter": "python",
   "pygments_lexer": "ipython3",
   "version": "3.7.4"
  }
 },
 "nbformat": 4,
 "nbformat_minor": 4
}
