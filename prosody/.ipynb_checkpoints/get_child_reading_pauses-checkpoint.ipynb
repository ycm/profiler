{
 "cells": [
  {
   "cell_type": "code",
   "execution_count": 1,
   "metadata": {},
   "outputs": [],
   "source": [
    "import os\n",
    "import numpy as np\n",
    "import pandas as pd\n",
    "import pickle as pkl\n",
    "from collections import defaultdict"
   ]
  },
  {
   "cell_type": "code",
   "execution_count": 2,
   "metadata": {},
   "outputs": [],
   "source": [
    "gold_punct_df = pd.read_csv('gold_punct_metrics_updated.csv')"
   ]
  },
  {
   "cell_type": "code",
   "execution_count": 3,
   "metadata": {},
   "outputs": [],
   "source": [
    "item_to_pause_idxs = defaultdict(list)\n",
    "for _, row in gold_punct_df.iterrows():\n",
    "    item_to_pause_idxs[row['item']].append(row.perfmat_idx)"
   ]
  },
  {
   "cell_type": "code",
   "execution_count": 4,
   "metadata": {},
   "outputs": [],
   "source": [
    "def get_average_pause_length_over_span(perfmat):\n",
    "    pausenan = {'<pause>', 'nan'}\n",
    "    rows = []\n",
    "    for _, row in perfmat.iterrows():\n",
    "        rows.append((row.token, row.nframes))\n",
    "    rows = rows[1:-1]\n",
    "    \n",
    "    while rows and rows[0][1] == 0:\n",
    "        rows = rows[2:]\n",
    "    while rows and rows[-1][1] == 0:\n",
    "        rows = rows[:-2]\n",
    "    \n",
    "    pauses = [x for x in rows[1::2] if str(x[0]) in pausenan]\n",
    "    \n",
    "    if pauses:\n",
    "        pause_median = np.median([x[1] for x in pauses])\n",
    "        pause_mean = np.mean([x[1] for x in pauses])\n",
    "        return pause_median, pause_mean\n",
    "    return 0, 0"
   ]
  },
  {
   "cell_type": "code",
   "execution_count": 20,
   "metadata": {},
   "outputs": [],
   "source": [
    "session_to_data = defaultdict(list)\n",
    "\n",
    "perfmat_dirs = '../output/performance-matrix/all-fixed/'\n",
    "for perfmat_dir in os.listdir(perfmat_dirs):\n",
    "    if perfmat_dir.endswith('184'):\n",
    "        item = int(perfmat_dir.replace('-184', ''))\n",
    "        for perfmat_file in os.listdir(os.path.join(perfmat_dirs, perfmat_dir)):\n",
    "            pause_lengths_for_response = []\n",
    "            correct_word_read_flag = []\n",
    "            is_pause_flag = []\n",
    "\n",
    "            perfmat = pd.read_csv(os.path.join(perfmat_dirs, perfmat_dir, perfmat_file), sep='\\t')\n",
    "            for idx in item_to_pause_idxs[item]:\n",
    "                pause_lengths_for_response.append(perfmat.iloc[idx + 1].nframes)\n",
    "                \n",
    "                if perfmat.iloc[idx].matches_expected:\n",
    "                    correct_word_read_flag.append(1)\n",
    "                else:\n",
    "                    correct_word_read_flag.append(0)\n",
    "                \n",
    "                if str(perfmat.iloc[idx + 1].token) in {'nan', '<pause>'}:\n",
    "                    is_pause_flag.append(1)\n",
    "                else:\n",
    "                    is_pause_flag.append(0)\n",
    "            \n",
    "            perfmat2 = perfmat.copy(deep=True)\n",
    "            for idx in item_to_pause_idxs[item][::-1]:\n",
    "                perfmat2 = perfmat2.drop(idx + 1)\n",
    "            \n",
    "            median_span_pause_length, mean_span_pause_length = get_average_pause_length_over_span(perfmat2)\n",
    "            \n",
    "            response_pause_data = {\n",
    "                'pause_len': pause_lengths_for_response,\n",
    "                'correct_word_read': correct_word_read_flag,\n",
    "                'is_pause': is_pause_flag,\n",
    "                'median_span_pause_len': median_span_pause_length,\n",
    "                'mean_span_pause_len': mean_span_pause_length\n",
    "            }\n",
    "            \n",
    "            session_to_data[perfmat_file.replace('.tsv', '')].append((item, response_pause_data))"
   ]
  },
  {
   "cell_type": "code",
   "execution_count": 28,
   "metadata": {},
   "outputs": [],
   "source": [
    "with open('../data/moby/pkls/session_to_pause_length_data-updated.pkl', 'wb') as f:\n",
    "    pkl.dump(session_to_data, f)"
   ]
  }
 ],
 "metadata": {
  "kernelspec": {
   "display_name": "Python 3",
   "language": "python",
   "name": "python3"
  },
  "language_info": {
   "codemirror_mode": {
    "name": "ipython",
    "version": 3
   },
   "file_extension": ".py",
   "mimetype": "text/x-python",
   "name": "python",
   "nbconvert_exporter": "python",
   "pygments_lexer": "ipython3",
   "version": "3.7.4"
  }
 },
 "nbformat": 4,
 "nbformat_minor": 4
}
