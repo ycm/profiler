{
 "cells": [
  {
   "cell_type": "markdown",
   "metadata": {},
   "source": [
    "# Compile machine scores"
   ]
  },
  {
   "cell_type": "code",
   "execution_count": 27,
   "metadata": {},
   "outputs": [],
   "source": [
    "import os\n",
    "import json\n",
    "import constituency_retrieval_util\n",
    "\n",
    "import pandas as pd"
   ]
  },
  {
   "cell_type": "code",
   "execution_count": 28,
   "metadata": {},
   "outputs": [],
   "source": [
    "with open('data/moby-passages-36/item_to_level_to_constituency_ids.json') as f:\n",
    "    item_to_level_to_constituency_ids = json.load(f)"
   ]
  },
  {
   "cell_type": "code",
   "execution_count": 29,
   "metadata": {},
   "outputs": [],
   "source": [
    "ITEM_NUMBER = '330'\n",
    "CHILD_PERFORMANCE_DIR = 'output/performance_matrix/330_child_updated_20200729'\n",
    "GOLD_PERFORMANCE_DIR = 'output/performance_matrix/330_gold_updated_20200729'"
   ]
  },
  {
   "cell_type": "code",
   "execution_count": 12,
   "metadata": {},
   "outputs": [],
   "source": [
    "session_to_child_df = {}\n",
    "for file in os.listdir(CHILD_PERFORMANCE_DIR):\n",
    "    session = file.split('.')[0]\n",
    "    child_df = pd.read_csv(os.path.join(CHILD_PERFORMANCE_DIR, file), sep='\\t')\n",
    "    session_to_child_df[session] = child_df\n",
    "    \n",
    "session_to_gold_df = {}\n",
    "for file in os.listdir(GOLD_PERFORMANCE_DIR):\n",
    "    session = file.split('.')[0]\n",
    "    gold_df = pd.read_csv(os.path.join(GOLD_PERFORMANCE_DIR, file), sep='\\t')\n",
    "    session_to_gold_df[session] = gold_df"
   ]
  },
  {
   "cell_type": "code",
   "execution_count": 31,
   "metadata": {},
   "outputs": [
    {
     "name": "stdout",
     "output_type": "stream",
     "text": [
      "    Unnamed: 0    token  matches_expected  sframe  nframes  pitch_mean  \\\n",
      "0      <pause>  <pause>                 0       0       94 -131.728421   \n",
      "1          sam      sam                 1      94       31   15.253494   \n",
      "2      <pause>      NaN                 0       0        0    0.000000   \n",
      "3          and      and                 1     125       25    5.681494   \n",
      "4      <pause>      NaN                 0       0        0    0.000000   \n",
      "..         ...      ...               ...     ...      ...         ...   \n",
      "174    <pause>      NaN                 0       0        0    0.000000   \n",
      "175      their    their                 1    5910       25    3.789494   \n",
      "176    <pause>      NaN                 0       0        0    0.000000   \n",
      "177     mother   mother                 1    5935      115  -63.676941   \n",
      "178    <pause>  <pause>                 1    6050        3 -155.346506   \n",
      "\n",
      "     pitch_start   pitch_end  pitch_high   pitch_low  pitch_slope  \n",
      "0    -175.946506  -31.646506  -31.646506 -175.946506     1.535106  \n",
      "1     -27.346506   37.053494   57.453494  -27.346506     2.077419  \n",
      "2       0.000000    0.000000    0.000000    0.000000     0.000000  \n",
      "3      32.853494  -12.746506   32.853494  -12.746506    -1.824000  \n",
      "4       0.000000    0.000000    0.000000    0.000000     0.000000  \n",
      "..           ...         ...         ...         ...          ...  \n",
      "174     0.000000    0.000000    0.000000    0.000000     0.000000  \n",
      "175    -0.946506    7.753494    9.053494   -0.946506     0.348000  \n",
      "176     0.000000    0.000000    0.000000    0.000000     0.000000  \n",
      "177    10.253494 -174.146506   48.553494 -189.846506    -1.603478  \n",
      "178  -155.946506 -155.046506 -155.046506 -155.946506     0.300000  \n",
      "\n",
      "[179 rows x 11 columns]\n"
     ]
    }
   ],
   "source": [
    "for session, child_df in session_to_child_df.items():\n",
    "    print(child_df)\n",
    "    break"
   ]
  },
  {
   "cell_type": "code",
   "execution_count": null,
   "metadata": {},
   "outputs": [],
   "source": []
  },
  {
   "cell_type": "code",
   "execution_count": null,
   "metadata": {},
   "outputs": [],
   "source": []
  },
  {
   "cell_type": "code",
   "execution_count": null,
   "metadata": {},
   "outputs": [],
   "source": []
  },
  {
   "cell_type": "code",
   "execution_count": null,
   "metadata": {},
   "outputs": [],
   "source": []
  },
  {
   "cell_type": "code",
   "execution_count": null,
   "metadata": {},
   "outputs": [],
   "source": []
  },
  {
   "cell_type": "code",
   "execution_count": null,
   "metadata": {},
   "outputs": [],
   "source": []
  },
  {
   "cell_type": "code",
   "execution_count": null,
   "metadata": {},
   "outputs": [],
   "source": []
  },
  {
   "cell_type": "code",
   "execution_count": null,
   "metadata": {},
   "outputs": [],
   "source": []
  },
  {
   "cell_type": "code",
   "execution_count": null,
   "metadata": {},
   "outputs": [],
   "source": []
  },
  {
   "cell_type": "code",
   "execution_count": null,
   "metadata": {},
   "outputs": [],
   "source": []
  },
  {
   "cell_type": "code",
   "execution_count": null,
   "metadata": {},
   "outputs": [],
   "source": []
  }
 ],
 "metadata": {
  "kernelspec": {
   "display_name": "Python 3",
   "language": "python",
   "name": "python3"
  },
  "language_info": {
   "codemirror_mode": {
    "name": "ipython",
    "version": 3
   },
   "file_extension": ".py",
   "mimetype": "text/x-python",
   "name": "python",
   "nbconvert_exporter": "python",
   "pygments_lexer": "ipython3",
   "version": "3.7.4"
  }
 },
 "nbformat": 4,
 "nbformat_minor": 4
}
