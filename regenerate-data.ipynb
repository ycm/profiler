{
 "cells": [
  {
   "cell_type": "code",
   "execution_count": 29,
   "metadata": {},
   "outputs": [],
   "source": [
    "import json\n",
    "import pandas as pd"
   ]
  },
  {
   "cell_type": "code",
   "execution_count": 3,
   "metadata": {},
   "outputs": [],
   "source": [
    "passages = pd.read_csv('data/moby/passages.tsv', sep='\\t')"
   ]
  },
  {
   "cell_type": "code",
   "execution_count": 44,
   "metadata": {},
   "outputs": [],
   "source": [
    "item_to_passage = {}\n",
    "for item, passage in zip(passages.Item, passages['PASSAGE Text']):\n",
    "    passage_no_breaks = (passage.replace('$', ' ')\n",
    "        .replace('    ', ' ')\n",
    "        .replace('   ', ' ')\n",
    "        .replace('  ', ' ')\n",
    "        .replace('45', 'forty five'))\n",
    "    passage_no_breaks = passage_no_breaks[:passage_no_breaks.index('#')]\n",
    "    item_to_passage[item] = passage_no_breaks\n",
    "with open('data/moby/jsons/item_to_passage.json', 'w') as f:\n",
    "    json.dump(item_to_passage, f)"
   ]
  },
  {
   "cell_type": "code",
   "execution_count": 77,
   "metadata": {},
   "outputs": [
    {
     "name": "stdout",
     "output_type": "stream",
     "text": [
      "2101\n",
      "Jill and Sam stood in the snow. They watched the snowflakes falling. First they caught snowflakes in their mouths. Then Jill looked at the snowflakes on her sleeve. She wondered if the snowflakes were all the same. Sam ran inside and came back with a magnifying glass. When they looked through it, they saw the snowflakes had six points. They looked like tiny sparkling stars, each one different from the next.\n",
      "jill and sam stood in the snow they watched the snowflakes falling first they caught snowflakes in their mouths then jill looked at the snowflakes on her sleeve she wondered if the snowflakes were all the same sam ran inside and came back with a magnifying glass when they looked through it they saw that the snowflakes had six points the snowflakes looked like tiny sparkling stars each one different from the next\n",
      "3106\n",
      "A ship is sailing across the sea. The water starts to get rough, and the ship begins to sway. Without warning, the skies grow darker as enormous black clouds move in, and the wind begins to gust. The ship is heading straight into the storm. A turbulent night awaits them, and the crew prepares, scrambling to their posts to secure equipment and stow the gear below the deck. As the rain begins to pelt the decks, angry waves crash hard against the sides of the ship. The storm worsens, growing stronger and fiercer as the evening goes on. In the morning, the crew is relieved when the light of the sun breaks through the clouds and onto the calm sea.\n",
      "a ship is sailing across the sea the water starts to get rough and the ship begins to sway without warning the skies grow darker as enormous black clouds move in and the wind begins to gust the ship is heading straight into the storm a turbulent night awaits them and the crew prepares scrambling to secure equipment and stow the gear below the deck as the rain begins to pelt the decks angry waves crash hard against the sides of the ship the storm worsens growing stronger and fiercer as the evening goes on in the morning the crew is relieved when the light of the sun breaks through the clouds and onto the calm sea\n"
     ]
    }
   ],
   "source": [
    "for item, recstring in zip(passages.Item, passages['Rec String']):\n",
    "    passage = item_to_passage[item]\n",
    "    if len(passage.split()) != len(recstring.split()):\n",
    "        print(item)\n",
    "        print(passage)\n",
    "        print(recstring)\n"
   ]
  },
  {
   "cell_type": "code",
   "execution_count": 72,
   "metadata": {},
   "outputs": [],
   "source": [
    "item_to_recstring = {}\n",
    "for item, recstring in zip(passages.Item, passages['Rec String']):\n",
    "    item_to_recstring[item] = recstring\n",
    "with open('data/moby/jsons/item_to_recstring.json', 'w') as f:\n",
    "    json.dump(item_to_recstring, f)"
   ]
  }
 ],
 "metadata": {
  "kernelspec": {
   "display_name": "Python 3",
   "language": "python",
   "name": "python3"
  },
  "language_info": {
   "codemirror_mode": {
    "name": "ipython",
    "version": 3
   },
   "file_extension": ".py",
   "mimetype": "text/x-python",
   "name": "python",
   "nbconvert_exporter": "python",
   "pygments_lexer": "ipython3",
   "version": "3.7.4"
  }
 },
 "nbformat": 4,
 "nbformat_minor": 4
}
