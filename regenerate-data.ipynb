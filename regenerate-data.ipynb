{
 "cells": [
  {
   "cell_type": "code",
   "execution_count": 15,
   "metadata": {},
   "outputs": [],
   "source": [
    "import json\n",
    "import pandas as pd"
   ]
  },
  {
   "cell_type": "code",
   "execution_count": 36,
   "metadata": {},
   "outputs": [],
   "source": [
    "passages = pd.read_csv('data/moby/passages.tsv', sep='\\t')"
   ]
  },
  {
   "cell_type": "code",
   "execution_count": 37,
   "metadata": {},
   "outputs": [],
   "source": [
    "item_to_passage = {}\n",
    "for item, passage in zip(passages.Item, passages['PASSAGE Text']):\n",
    "    passage_no_breaks = (passage.replace('$', ' ')\n",
    "        .replace('    ', ' ')\n",
    "        .replace('   ', ' ')\n",
    "        .replace('  ', ' ')\n",
    "        .replace('45', 'forty five'))\n",
    "    passage_no_breaks = passage_no_breaks[:passage_no_breaks.index('#')]\n",
    "    item_to_passage[item] = passage_no_breaks\n",
    "with open('data/moby/jsons/item_to_passage.json', 'w') as f:\n",
    "    json.dump(item_to_passage, f)"
   ]
  },
  {
   "cell_type": "code",
   "execution_count": 19,
   "metadata": {},
   "outputs": [],
   "source": [
    "item_to_recstring = {}\n",
    "for item, recstring in zip(passages.Item, passages['Rec String']):\n",
    "    item_to_recstring[item] = recstring\n",
    "with open('data/moby/jsons/item_to_recstring.json', 'w') as f:\n",
    "    json.dump(item_to_recstring, f, indent=1)"
   ]
  },
  {
   "cell_type": "code",
   "execution_count": null,
   "metadata": {},
   "outputs": [],
   "source": []
  }
 ],
 "metadata": {
  "kernelspec": {
   "display_name": "Python 3",
   "language": "python",
   "name": "python3"
  },
  "language_info": {
   "codemirror_mode": {
    "name": "ipython",
    "version": 3
   },
   "file_extension": ".py",
   "mimetype": "text/x-python",
   "name": "python",
   "nbconvert_exporter": "python",
   "pygments_lexer": "ipython3",
   "version": "3.7.4"
  }
 },
 "nbformat": 4,
 "nbformat_minor": 4
}
