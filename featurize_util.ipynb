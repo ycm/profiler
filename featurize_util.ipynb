{
 "cells": [
  {
   "cell_type": "markdown",
   "metadata": {},
   "source": [
    "# Utility functions for featurizing passages"
   ]
  },
  {
   "cell_type": "markdown",
   "metadata": {},
   "source": [
    "## Retrieve n-gram frequency\n",
    "\n",
    "Google n-grams takes a while to load. Idea is to create an n-gram 'retriever' class that saves past queries."
   ]
  },
  {
   "cell_type": "code",
   "execution_count": 6,
   "metadata": {},
   "outputs": [],
   "source": [
    "import json\n",
    "# from google_ngram_downloader import readline_google_store\n",
    "import google_ngram\n",
    "import urllib.request"
   ]
  },
  {
   "cell_type": "code",
   "execution_count": 17,
   "metadata": {},
   "outputs": [],
   "source": [
    "class NgramFetcher:\n",
    "    def __init__(self, jsonpath, years=[1940, 2000], case_insensitive=True):\n",
    "        self.path = jsonpath\n",
    "        try:\n",
    "            with open(self.path) as f:\n",
    "                self.store = json.load(f)\n",
    "                self.years = self.store['__years']\n",
    "                self.case_insensitive = self.store['__case_insensitive']\n",
    "            print('Finished loading', jsonpath)\n",
    "        except:\n",
    "            print('Failed to open path', jsonpath)\n",
    "            print('Creating new json instead.')\n",
    "            self.years = years\n",
    "            self.case_insensitive = case_insensitive\n",
    "            self.store = {\n",
    "                '__years': years,\n",
    "                '__case_insensitive': case_insensitive}\n",
    "    def fetch(self, words): # words <- str (e.g. 'children played with')\n",
    "        try:\n",
    "            g = google_ngram.Gngram([words], years=self.years, case_insensitive=self.case_insensitive)\n",
    "            mean = float(g.df_parents.mean())\n",
    "        except urllib.request.HTTPError:\n",
    "            print('Ngram not found for:', words)\n",
    "            mean = 0\n",
    "        words_key = '*'.join([w.strip() for w in words.split()]) # _START_ the children jumped -> _START_*the*children\n",
    "        self.store[words_key] = mean\n",
    "        return mean\n",
    "    \n",
    "    def save(self, fp=None):\n",
    "        path = fp if fp else self.path\n",
    "        with open(path, 'w') as f:\n",
    "            json.dump(self.store, f)\n",
    "            print('File saved to', path)"
   ]
  },
  {
   "cell_type": "code",
   "execution_count": 11,
   "metadata": {},
   "outputs": [
    {
     "name": "stdout",
     "output_type": "stream",
     "text": [
      "Finished loading data/staging/ngram_freqs.json\n"
     ]
    }
   ],
   "source": [
    "fetcher = NgramFetcher('data/staging/ngram_freqs.json')"
   ]
  },
  {
   "cell_type": "code",
   "execution_count": 12,
   "metadata": {},
   "outputs": [
    {
     "name": "stdout",
     "output_type": "stream",
     "text": [
      "ngram not found for: the childrenadfja sdjf ask were\n"
     ]
    }
   ],
   "source": [
    "fetcher.fetch('the childrenadfja sdjf ask were')"
   ]
  },
  {
   "cell_type": "code",
   "execution_count": 14,
   "metadata": {},
   "outputs": [
    {
     "name": "stdout",
     "output_type": "stream",
     "text": [
      "File saved to data/staging/ngram_freqs.json\n"
     ]
    }
   ],
   "source": [
    "fetcher.save()"
   ]
  },
  {
   "cell_type": "code",
   "execution_count": 30,
   "metadata": {},
   "outputs": [
    {
     "data": {
      "text/plain": [
       "{'__years': [1940, 2000],\n",
       " '__case_insensitive': True,\n",
       " 'the*children*were': 2.4748987450456315}"
      ]
     },
     "execution_count": 30,
     "metadata": {},
     "output_type": "execute_result"
    }
   ],
   "source": [
    "fetcher.store"
   ]
  },
  {
   "cell_type": "code",
   "execution_count": 16,
   "metadata": {},
   "outputs": [],
   "source": [
    "sentences = [['_START_', 'Sam', 'and', 'Jo', 'went', 'for', 'a', 'hike', '.', '_END_'],  ['_START_',   'They',   'took',   'a',   'path',   'through',   'the',   'woods',   '.',   '_END_'],  ['_START_',   'Suddenly',   ',',   'Sam',   'heard',   'a',   'noise',   'coming',   'from',   'the',   'tree',   'above',   'their',   'heads',   '.',   '_END_'],  ['_START_',   'Jo',   'climbed',   'up',   'to',   'see',   'what',   'the',   'noise',   'was',   'and',   'found',   'two',   'baby',   'squirrels',   '.',   '_END_'],  ['_START_',   'The',   'babies',   'were',   'alone',   ',',   'but',   'their',   'mother',   'must',   'be',   'somewhere',   'near',   '.',   '_END_'],  ['_START_', 'The', 'children', 'watched', 'and', 'waited', '.', '_END_'],  ['_START_',   'Sure',   'enough',   ',',   'the',   'mother',   'soon',   'returned',   'with',   'a',   'mouthful',   'of',   'nuts',   '.',   '_END_'],  ['_START_',   'The',   'noises',   'stopped',   'as',   'the',   'baby',   'squirrels',   'began',   'to',   'eat',   '.',   '_END_'],  ['_START_',   'Sam',   'and',   'Jo',   'smiled',   ',',   'knowing',   'the',   'squirrels',   'were',   'safe',   'with',   'their',   'mother',   '.',   '_END_']]"
   ]
  },
  {
   "cell_type": "code",
   "execution_count": null,
   "metadata": {},
   "outputs": [],
   "source": []
  }
 ],
 "metadata": {
  "kernelspec": {
   "display_name": "Python 3",
   "language": "python",
   "name": "python3"
  },
  "language_info": {
   "codemirror_mode": {
    "name": "ipython",
    "version": 3
   },
   "file_extension": ".py",
   "mimetype": "text/x-python",
   "name": "python",
   "nbconvert_exporter": "python",
   "pygments_lexer": "ipython3",
   "version": "3.7.4"
  }
 },
 "nbformat": 4,
 "nbformat_minor": 4
}
