{
 "cells": [
  {
   "cell_type": "markdown",
   "metadata": {},
   "source": [
    "# Add machine-generated features (duration/f0 similarity) to tables"
   ]
  },
  {
   "cell_type": "code",
   "execution_count": 25,
   "metadata": {},
   "outputs": [],
   "source": [
    "import json\n",
    "import pandas as pd"
   ]
  },
  {
   "cell_type": "code",
   "execution_count": 26,
   "metadata": {},
   "outputs": [],
   "source": [
    "PATH_330 = '../output/performance-scores/330_20200907.json'\n",
    "PATH_2201 = '../output/performance-scores/2201_20200907.json'\n",
    "PATH_2202 = '../output/performance-scores/2202_20200907.json'"
   ]
  },
  {
   "cell_type": "code",
   "execution_count": 27,
   "metadata": {},
   "outputs": [],
   "source": [
    "df = pd.read_csv('../predicting-annotation-fields/annotations-complete.tsv', sep='\\t', skiprows=4)\n",
    "df = df.loc[df.Form == 'Grade2Spring'].drop_duplicates()"
   ]
  },
  {
   "cell_type": "code",
   "execution_count": 28,
   "metadata": {},
   "outputs": [],
   "source": [
    "response_to_item = {}\n",
    "response_to_session = {}\n",
    "for session, item, response in zip(df.Session, df.Item, df.Response):\n",
    "    response_to_item[str(int(response))] = str(int(item))\n",
    "    response_to_session[str(int(response))] = str(int(session))"
   ]
  },
  {
   "cell_type": "code",
   "execution_count": 42,
   "metadata": {},
   "outputs": [],
   "source": [
    "with open(PATH_330) as f:\n",
    "    perf_scores_330 = json.load(f)\n",
    "with open(PATH_2201) as f:\n",
    "    perf_scores_2201 = json.load(f)\n",
    "with open(PATH_2202) as f:\n",
    "    perf_scores_2202 = json.load(f)\n",
    "\n",
    "scores_to_add = {\n",
    "    '330': perf_scores_330,\n",
    "    '2201': perf_scores_2201,\n",
    "    '2202': perf_scores_2202\n",
    "}"
   ]
  },
  {
   "cell_type": "code",
   "execution_count": 41,
   "metadata": {},
   "outputs": [],
   "source": [
    "new_feature_names = list(list(perf_scores_330.values())[0].keys())"
   ]
  },
  {
   "cell_type": "code",
   "execution_count": 50,
   "metadata": {},
   "outputs": [],
   "source": [
    "for i in range(1, 21):\n",
    "    CSV = '../predicting-annotation-fields/{}_table.csv'.format(i)\n",
    "    df = pd.read_csv(CSV)\n",
    "    \n",
    "    for feature in new_feature_names:\n",
    "        \n",
    "        new_column = []\n",
    "        \n",
    "        for response in df.Response:\n",
    "            item = response_to_item[str(int(response))]\n",
    "            session = response_to_session[str(int(response))]\n",
    "            \n",
    "            value = scores_to_add[item][session][feature]\n",
    "            new_column.append(value)\n",
    "        \n",
    "        df[feature] = new_column\n",
    "    df.to_csv('tables/{}_table.csv'.format(i), index=False)"
   ]
  },
  {
   "cell_type": "code",
   "execution_count": 51,
   "metadata": {},
   "outputs": [
    {
     "data": {
      "text/plain": [
       "Index(['Response', 'WCPM', 'Acc', 'Comp', 'Exp', 'level', 'WCPM_response',\n",
       "       'Comp_response', 'Exp_response', 'undetermined', '1_unanimous',\n",
       "       '1_or_2', '2_unanimous', '2_or_3', '3_unanimous',\n",
       "       'best_pitch_slope_score_lower_constituents_with_pauses',\n",
       "       'best_pitch_slope_score_lower_constituents_no_pauses',\n",
       "       'best_pitch_slope_score_middle_constituents_with_pauses',\n",
       "       'best_pitch_slope_score_middle_constituents_no_pauses',\n",
       "       'best_pitch_slope_score_higher_constituents_with_pauses',\n",
       "       'best_pitch_slope_score_higher_constituents_no_pauses',\n",
       "       'best_duration_score_lower_constituents_with_pauses',\n",
       "       'best_duration_score_lower_constituents_no_pauses',\n",
       "       'best_duration_score_middle_constituents_with_pauses',\n",
       "       'best_duration_score_middle_constituents_no_pauses',\n",
       "       'best_duration_score_higher_constituents_with_pauses',\n",
       "       'best_duration_score_higher_constituents_no_pauses'],\n",
       "      dtype='object')"
      ]
     },
     "execution_count": 51,
     "metadata": {},
     "output_type": "execute_result"
    }
   ],
   "source": [
    "list(df.columns)[(df.columns)]"
   ]
  },
  {
   "cell_type": "code",
   "execution_count": null,
   "metadata": {},
   "outputs": [],
   "source": []
  }
 ],
 "metadata": {
  "kernelspec": {
   "display_name": "Python 3",
   "language": "python",
   "name": "python3"
  },
  "language_info": {
   "codemirror_mode": {
    "name": "ipython",
    "version": 3
   },
   "file_extension": ".py",
   "mimetype": "text/x-python",
   "name": "python",
   "nbconvert_exporter": "python",
   "pygments_lexer": "ipython3",
   "version": "3.7.4"
  }
 },
 "nbformat": 4,
 "nbformat_minor": 4
}
