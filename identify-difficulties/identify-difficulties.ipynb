{
 "cells": [
  {
   "cell_type": "markdown",
   "metadata": {},
   "source": [
    "# Identifying difficulties in a single reading session using text-analysis and performance matrices\n",
    "\n",
    "Inputs:\n",
    "- Text-analysis matrix for a passage\n",
    "- Performance matrix for session (three readings)\n",
    "\n",
    "Output:\n",
    "- Report of text-analysis fields where problems are detected\n",
    "\n",
    "*Methodological hurdles*: \n",
    "\n",
    "1. Linguistic: How do we distinguish words on which a reader struggles?\n",
    "2. Computational: How do we decide if a reader is struggling on a particular text-analysis field enough for us to consider it a 'problem-area?'\n",
    "\n",
    "## Solution to linguistic hurdle (very naive)\n",
    "Define\n",
    "- $d$: threshold duration for a `<pause>` marker to count as a pause, say 25 (frames).\n",
    "\n",
    "If a reader misses a word, we label that word as \"difficult.\" If a reader pauses for $d$ frames or more before a word in which \n",
    "\n",
    "**Future consideration**: Readers may pause at the beginning of a small phrase (**NP**s or **PP**s) if the phrase contains a difficult word. (For instance, pausing before reading the phrase \"*of the organization*\".) To account for this, we can devise a way to incorporate constituency parses into the above methodology.\n",
    "\n",
    "## Solution to computational hurdle (less naive)\n",
    "*Assume we can accurately identify words that a reader struggles on, and we wish to determine if the reader is struggling on words for a quality $Q$.*\n",
    "\n",
    "Define \n",
    "- $D_i$: the set of words that a reader has trouble on reading $i$\n",
    "- $Q_i$ the set of words in reading $i$ with quality $Q$.\n",
    "- $n_{\\text{readings}}$: the threshold number of readings in which a reader needs to show difficulty, say 1 or 2\n",
    "- $p$: the threshold overlap proportion for words in a particular reading on which a reader needs to show difficulty, say 0.5.\n",
    "\n",
    "If $Q$ is a binary-valued (e.g. $Q=$ words that are decodable at the reader's grade level), we can reduce this task to:\n",
    "\n",
    "If for at least $n_{\\text{readings}}$ of readings $i$ we observe that\n",
    "$$\n",
    "\\frac{|D_i\\cap Q_i|}{Q_i}>p\\quad\\text{or}\\quad\\frac{|D_i\\cap Q_i^c|}{Q_i^c}>p,\n",
    "$$\n",
    "then we report that the reader is struggling on quality $Q$.\n",
    "\n",
    "If $Q$ is discrete but not binary-valued (e.g. number of letters), we modify this approach. Suppose $Q$ takes on values $\\{q_1,\\dots,q_k\\}$. Then we report each $q_m$ for which\n",
    "$$\n",
    "\\frac{|D_i\\cap Q^{(m)}_i|}{Q^{(m)}_i}>p\\quad\\text{or}\\quad\\frac{|D_i\\cap Q_i^{(m)c}|}{Q_i^{(m)c}}>p,\n",
    "$$\n",
    "where $Q^{(m)}_i$ is the set of words in reading $i$ whose value for quality $Q$ falls in the range $<q_m$.\n",
    "\n",
    "If $Q$ is continuous and ranges from $[a,b]$, we repeat the above process with a fixed partition of $[a,b]$."
   ]
  },
  {
   "cell_type": "code",
   "execution_count": 1,
   "metadata": {},
   "outputs": [],
   "source": [
    "THRESHOLD_PAUSE_DURATION = 25\n",
    "THRESHOLD_NUMBER_OF_DIFFICULT_READINGS = 1\n",
    "THRESHOLD_OVERLAP_PROPORTION = .5\n",
    "\n",
    "# Do gold readers pause for noticeably different lengths of time?\n",
    "THRESHOLD_PAUSE_DURATION_FOR_GOLD_READINGS = 5"
   ]
  },
  {
   "cell_type": "code",
   "execution_count": 2,
   "metadata": {},
   "outputs": [],
   "source": [
    "import sys, os, json\n",
    "import pandas as pd\n",
    "import identify_difficulties_util as IDU"
   ]
  },
  {
   "cell_type": "code",
   "execution_count": 3,
   "metadata": {},
   "outputs": [],
   "source": [
    "TEXT_ANALYSIS_MATRIX_1 = '../output/text-analysis-matrix/20200822_330.tsv'\n",
    "TEXT_ANALYSIS_MATRIX_2 = '../output/text-analysis-matrix/20200822_2201.tsv'\n",
    "TEXT_ANALYSIS_MATRIX_3 = '../output/text-analysis-matrix/20200822_2202.tsv'\n",
    "\n",
    "PERFORMANCE_MATRIX_1 = '../output/performance-matrix/330_child_updated_20200823/30908.tsv'\n",
    "PERFORMANCE_MATRIX_2 = '../output/performance-matrix/2201_child_updated_20200823/30908.tsv'\n",
    "PERFORMANCE_MATRIX_3 = '../output/performance-matrix/2202_child_updated_20200823/30908.tsv'\n",
    "\n",
    "GOLD_PERFORMANCE_MATRIX_DIR_1 = '../output/performance-matrix/330_gold_updated_20200823/'\n",
    "GOLD_PERFORMANCE_MATRIX_DIR_2 = '../output/performance-matrix/2201_gold_updated_20200823/'\n",
    "GOLD_PERFORMANCE_MATRIX_DIR_3 = '../output/performance-matrix/2202_gold_updated_20200823/'"
   ]
  },
  {
   "cell_type": "code",
   "execution_count": 4,
   "metadata": {},
   "outputs": [],
   "source": [
    "text_analysis_df_1 = pd.read_csv(TEXT_ANALYSIS_MATRIX_1, sep='\\t')\n",
    "text_analysis_df_2 = pd.read_csv(TEXT_ANALYSIS_MATRIX_2, sep='\\t')\n",
    "text_analysis_df_3 = pd.read_csv(TEXT_ANALYSIS_MATRIX_3, sep='\\t')\n",
    "\n",
    "performance_df_1 = pd.read_csv(PERFORMANCE_MATRIX_1, sep='\\t')\n",
    "performance_df_2 = pd.read_csv(PERFORMANCE_MATRIX_2, sep='\\t')\n",
    "performance_df_3 = pd.read_csv(PERFORMANCE_MATRIX_3, sep='\\t')"
   ]
  },
  {
   "cell_type": "code",
   "execution_count": 5,
   "metadata": {},
   "outputs": [],
   "source": [
    "def find_expected_pauses_from_dir(directory):\n",
    "    rv = set()\n",
    "    for filename in os.listdir(directory):\n",
    "        gold_df = pd.read_csv(os.path.join(directory, filename), sep='\\t')\n",
    "        nframes_list = list(gold_df.nframes)\n",
    "        matches_expected_list = list(gold_df.matches_expected)\n",
    "        for idx, val in enumerate(matches_expected_list):\n",
    "            # filter for only pauses\n",
    "            # not necessary, but maybe this is good to have\n",
    "            if idx % 2 == 0: \n",
    "                if nframes_list[idx] >= THRESHOLD_PAUSE_DURATION_FOR_GOLD_READINGS:\n",
    "                    rv.add(idx)\n",
    "    return sorted(list(rv))"
   ]
  },
  {
   "cell_type": "code",
   "execution_count": 6,
   "metadata": {
    "tags": []
   },
   "outputs": [],
   "source": [
    "gold_expected_pauses_1 = find_expected_pauses_from_dir(GOLD_PERFORMANCE_MATRIX_DIR_1)\n",
    "gold_expected_pauses_2 = find_expected_pauses_from_dir(GOLD_PERFORMANCE_MATRIX_DIR_2)\n",
    "gold_expected_pauses_3 = find_expected_pauses_from_dir(GOLD_PERFORMANCE_MATRIX_DIR_3)"
   ]
  },
  {
   "cell_type": "code",
   "execution_count": 7,
   "metadata": {
    "tags": []
   },
   "outputs": [],
   "source": [
    "TEST_difficult_words = IDU.find_problem_words_given_df_naive(\n",
    "    performance_df_1,\n",
    "    THRESHOLD_PAUSE_DURATION,\n",
    "    gold_expected_pauses_1\n",
    ")"
   ]
  },
  {
   "cell_type": "code",
   "execution_count": 8,
   "metadata": {},
   "outputs": [
    {
     "output_type": "execute_result",
     "data": {
      "text/plain": "   Unnamed: 0  word_is_start_of_line  word_is_end_of_line  \\\n0         sam                   True                False   \n1         and                  False                False   \n2          jo                  False                False   \n3        went                  False                False   \n4         for                  False                False   \n..        ...                    ...                  ...   \n84       were                  False                False   \n85       safe                  False                False   \n86       with                  False                 True   \n87      their                   True                False   \n88     mother                  False                 True   \n\n    word_is_start_of_paragraph  word_is_end_of_paragraph  \\\n0                         True                     False   \n1                        False                     False   \n2                        False                     False   \n3                        False                     False   \n4                        False                     False   \n..                         ...                       ...   \n84                       False                     False   \n85                       False                     False   \n86                       False                     False   \n87                       False                     False   \n88                       False                      True   \n\n    word_contains_punctuation  word_is_start_of_sentence  \\\n0                       False                       True   \n1                       False                      False   \n2                       False                      False   \n3                       False                      False   \n4                       False                      False   \n..                        ...                        ...   \n84                      False                      False   \n85                      False                      False   \n86                      False                      False   \n87                      False                      False   \n88                       True                      False   \n\n    word_is_end_of_sentence  word_length  CMU_length  ...  lts_8  lts_9  \\\n0                     False            3           3  ...  False  False   \n1                     False            3           3  ...  False  False   \n2                     False            2           2  ...  False  False   \n3                     False            4           4  ...  False  False   \n4                     False            3           3  ...   True  False   \n..                      ...          ...         ...  ...    ...    ...   \n84                    False            4           2  ...  False  False   \n85                    False            4           3  ...  False  False   \n86                    False            4           3  ...  False  False   \n87                    False            5           3  ...  False  False   \n88                     True            6           4  ...  False  False   \n\n    lts_10  lts_11  lts_12  n_morphs  is_decodable_at_grade_level  \\\n0    False   False   False         1                         True   \n1    False   False   False         1                         True   \n2    False   False   False         1                        False   \n3    False   False   False         1                         True   \n4    False   False   False         1                         True   \n..     ...     ...     ...       ...                          ...   \n84   False   False   False         1                        False   \n85   False   False   False         1                         True   \n86   False   False   False         1                         True   \n87   False   False   False         1                        False   \n88   False   False   False         1                        False   \n\n    sightword_pp  sightword_p  sightword_1  \n0          False        False        False  \n1           True         True         True  \n2          False        False        False  \n3          False         True         True  \n4           True         True         True  \n..           ...          ...          ...  \n84         False         True         True  \n85         False        False        False  \n86          True         True         True  \n87         False        False         True  \n88         False         True         True  \n\n[89 rows x 27 columns]",
      "text/html": "<div>\n<style scoped>\n    .dataframe tbody tr th:only-of-type {\n        vertical-align: middle;\n    }\n\n    .dataframe tbody tr th {\n        vertical-align: top;\n    }\n\n    .dataframe thead th {\n        text-align: right;\n    }\n</style>\n<table border=\"1\" class=\"dataframe\">\n  <thead>\n    <tr style=\"text-align: right;\">\n      <th></th>\n      <th>Unnamed: 0</th>\n      <th>word_is_start_of_line</th>\n      <th>word_is_end_of_line</th>\n      <th>word_is_start_of_paragraph</th>\n      <th>word_is_end_of_paragraph</th>\n      <th>word_contains_punctuation</th>\n      <th>word_is_start_of_sentence</th>\n      <th>word_is_end_of_sentence</th>\n      <th>word_length</th>\n      <th>CMU_length</th>\n      <th>...</th>\n      <th>lts_8</th>\n      <th>lts_9</th>\n      <th>lts_10</th>\n      <th>lts_11</th>\n      <th>lts_12</th>\n      <th>n_morphs</th>\n      <th>is_decodable_at_grade_level</th>\n      <th>sightword_pp</th>\n      <th>sightword_p</th>\n      <th>sightword_1</th>\n    </tr>\n  </thead>\n  <tbody>\n    <tr>\n      <th>0</th>\n      <td>sam</td>\n      <td>True</td>\n      <td>False</td>\n      <td>True</td>\n      <td>False</td>\n      <td>False</td>\n      <td>True</td>\n      <td>False</td>\n      <td>3</td>\n      <td>3</td>\n      <td>...</td>\n      <td>False</td>\n      <td>False</td>\n      <td>False</td>\n      <td>False</td>\n      <td>False</td>\n      <td>1</td>\n      <td>True</td>\n      <td>False</td>\n      <td>False</td>\n      <td>False</td>\n    </tr>\n    <tr>\n      <th>1</th>\n      <td>and</td>\n      <td>False</td>\n      <td>False</td>\n      <td>False</td>\n      <td>False</td>\n      <td>False</td>\n      <td>False</td>\n      <td>False</td>\n      <td>3</td>\n      <td>3</td>\n      <td>...</td>\n      <td>False</td>\n      <td>False</td>\n      <td>False</td>\n      <td>False</td>\n      <td>False</td>\n      <td>1</td>\n      <td>True</td>\n      <td>True</td>\n      <td>True</td>\n      <td>True</td>\n    </tr>\n    <tr>\n      <th>2</th>\n      <td>jo</td>\n      <td>False</td>\n      <td>False</td>\n      <td>False</td>\n      <td>False</td>\n      <td>False</td>\n      <td>False</td>\n      <td>False</td>\n      <td>2</td>\n      <td>2</td>\n      <td>...</td>\n      <td>False</td>\n      <td>False</td>\n      <td>False</td>\n      <td>False</td>\n      <td>False</td>\n      <td>1</td>\n      <td>False</td>\n      <td>False</td>\n      <td>False</td>\n      <td>False</td>\n    </tr>\n    <tr>\n      <th>3</th>\n      <td>went</td>\n      <td>False</td>\n      <td>False</td>\n      <td>False</td>\n      <td>False</td>\n      <td>False</td>\n      <td>False</td>\n      <td>False</td>\n      <td>4</td>\n      <td>4</td>\n      <td>...</td>\n      <td>False</td>\n      <td>False</td>\n      <td>False</td>\n      <td>False</td>\n      <td>False</td>\n      <td>1</td>\n      <td>True</td>\n      <td>False</td>\n      <td>True</td>\n      <td>True</td>\n    </tr>\n    <tr>\n      <th>4</th>\n      <td>for</td>\n      <td>False</td>\n      <td>False</td>\n      <td>False</td>\n      <td>False</td>\n      <td>False</td>\n      <td>False</td>\n      <td>False</td>\n      <td>3</td>\n      <td>3</td>\n      <td>...</td>\n      <td>True</td>\n      <td>False</td>\n      <td>False</td>\n      <td>False</td>\n      <td>False</td>\n      <td>1</td>\n      <td>True</td>\n      <td>True</td>\n      <td>True</td>\n      <td>True</td>\n    </tr>\n    <tr>\n      <th>...</th>\n      <td>...</td>\n      <td>...</td>\n      <td>...</td>\n      <td>...</td>\n      <td>...</td>\n      <td>...</td>\n      <td>...</td>\n      <td>...</td>\n      <td>...</td>\n      <td>...</td>\n      <td>...</td>\n      <td>...</td>\n      <td>...</td>\n      <td>...</td>\n      <td>...</td>\n      <td>...</td>\n      <td>...</td>\n      <td>...</td>\n      <td>...</td>\n      <td>...</td>\n      <td>...</td>\n    </tr>\n    <tr>\n      <th>84</th>\n      <td>were</td>\n      <td>False</td>\n      <td>False</td>\n      <td>False</td>\n      <td>False</td>\n      <td>False</td>\n      <td>False</td>\n      <td>False</td>\n      <td>4</td>\n      <td>2</td>\n      <td>...</td>\n      <td>False</td>\n      <td>False</td>\n      <td>False</td>\n      <td>False</td>\n      <td>False</td>\n      <td>1</td>\n      <td>False</td>\n      <td>False</td>\n      <td>True</td>\n      <td>True</td>\n    </tr>\n    <tr>\n      <th>85</th>\n      <td>safe</td>\n      <td>False</td>\n      <td>False</td>\n      <td>False</td>\n      <td>False</td>\n      <td>False</td>\n      <td>False</td>\n      <td>False</td>\n      <td>4</td>\n      <td>3</td>\n      <td>...</td>\n      <td>False</td>\n      <td>False</td>\n      <td>False</td>\n      <td>False</td>\n      <td>False</td>\n      <td>1</td>\n      <td>True</td>\n      <td>False</td>\n      <td>False</td>\n      <td>False</td>\n    </tr>\n    <tr>\n      <th>86</th>\n      <td>with</td>\n      <td>False</td>\n      <td>True</td>\n      <td>False</td>\n      <td>False</td>\n      <td>False</td>\n      <td>False</td>\n      <td>False</td>\n      <td>4</td>\n      <td>3</td>\n      <td>...</td>\n      <td>False</td>\n      <td>False</td>\n      <td>False</td>\n      <td>False</td>\n      <td>False</td>\n      <td>1</td>\n      <td>True</td>\n      <td>True</td>\n      <td>True</td>\n      <td>True</td>\n    </tr>\n    <tr>\n      <th>87</th>\n      <td>their</td>\n      <td>True</td>\n      <td>False</td>\n      <td>False</td>\n      <td>False</td>\n      <td>False</td>\n      <td>False</td>\n      <td>False</td>\n      <td>5</td>\n      <td>3</td>\n      <td>...</td>\n      <td>False</td>\n      <td>False</td>\n      <td>False</td>\n      <td>False</td>\n      <td>False</td>\n      <td>1</td>\n      <td>False</td>\n      <td>False</td>\n      <td>False</td>\n      <td>True</td>\n    </tr>\n    <tr>\n      <th>88</th>\n      <td>mother</td>\n      <td>False</td>\n      <td>True</td>\n      <td>False</td>\n      <td>True</td>\n      <td>True</td>\n      <td>False</td>\n      <td>True</td>\n      <td>6</td>\n      <td>4</td>\n      <td>...</td>\n      <td>False</td>\n      <td>False</td>\n      <td>False</td>\n      <td>False</td>\n      <td>False</td>\n      <td>1</td>\n      <td>False</td>\n      <td>False</td>\n      <td>True</td>\n      <td>True</td>\n    </tr>\n  </tbody>\n</table>\n<p>89 rows × 27 columns</p>\n</div>"
     },
     "metadata": {},
     "execution_count": 8
    }
   ],
   "source": [
    "text_analysis_df_1"
   ]
  },
  {
   "cell_type": "code",
   "execution_count": 9,
   "metadata": {
    "tags": []
   },
   "outputs": [
    {
     "output_type": "stream",
     "name": "stdout",
     "text": "went 7 went\na 11 a\ntook 17 took\nthrough 23 through\nsuddenly 29 nan\nsam 31 nan\nheard 33 heard\nfrom 41 from\ntheir 49 their\nclimbed 55 <pause>\nup 57 up\nto 59 to\nthe 65 the\nwas 69 was\nfound 73 found\nnoises 137 noises\nstopped 139 stopped\nand 157 and\nwith 173 with\nmother 177 mother\n"
    }
   ],
   "source": [
    "for i in TEST_difficult_words:\n",
    "    print(performance_df_1['Unnamed: 0'][i], i, performance_df_1.token[i])"
   ]
  },
  {
   "cell_type": "code",
   "execution_count": 10,
   "metadata": {
    "tags": []
   },
   "outputs": [],
   "source": [
    "TEST_proportions = IDU.compute_difficult_words_overlap_proportion(\n",
    "    TEST_difficult_words,\n",
    "    list(text_analysis_df_1.is_decodable_at_grade_level),\n",
    "    mode='binary'\n",
    ")"
   ]
  },
  {
   "cell_type": "code",
   "execution_count": 11,
   "metadata": {},
   "outputs": [
    {
     "output_type": "execute_result",
     "data": {
      "text/plain": "{'true_overlap_proportion': 0.2,\n 'false_overlap_proportion': 0.24074074074074073}"
     },
     "metadata": {},
     "execution_count": 11
    }
   ],
   "source": [
    "TEST_proportions"
   ]
  },
  {
   "cell_type": "code",
   "execution_count": null,
   "metadata": {},
   "outputs": [],
   "source": []
  }
 ],
 "metadata": {
  "kernelspec": {
   "display_name": "Python 3",
   "language": "python",
   "name": "python3"
  },
  "language_info": {
   "codemirror_mode": {
    "name": "ipython",
    "version": 3
   },
   "file_extension": ".py",
   "mimetype": "text/x-python",
   "name": "python",
   "nbconvert_exporter": "python",
   "pygments_lexer": "ipython3",
   "version": "3.7.4-final"
  }
 },
 "nbformat": 4,
 "nbformat_minor": 4
}