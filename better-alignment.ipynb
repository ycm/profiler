{
 "cells": [
  {
   "cell_type": "markdown",
   "metadata": {},
   "source": [
    "Better alignment?"
   ]
  },
  {
   "cell_type": "code",
   "execution_count": 1,
   "metadata": {},
   "outputs": [],
   "source": [
    "import difflib"
   ]
  },
  {
   "cell_type": "code",
   "execution_count": 2,
   "metadata": {},
   "outputs": [],
   "source": [
    "child = [['<pause>', 0, 42], ['how', 42, 6], ['<pause>', 48, 12], ['do', 60, 29], ['<pause>', 89, 44], ['<pause>', 133, 21], ['<pause>', 154, 235], ['how', 389, 29], ['do', 418, 52], ['<pause>', 470, 3], ['plants', 473, 58], ['<pause>', 531, 11], ['find', 542, 36], ['homes', 578, 51], ['<pause>', 629, 216], ['i', 845, 16], ['saw', 861, 7], ['a', 868, 40], ['<pause>', 908, 26], ['how', 934, 27], ['do', 961, 24], ['plants', 985, 48], ['find', 1033, 39], ['homes', 1072, 29], ['<pause>', 1101, 63], ['i', 1164, 12], ['saw', 1176, 51], ['<pause>', 1227, 3], ['a', 1230, 12], ['flower', 1242, 56], ['<pause>', 1298, 32], ['growing', 1330, 46], ['in', 1376, 24], ['<pause>', 1400, 3], ['a', 1403, 43], ['<pause>', 1446, 18], ['sidewalk', 1464, 79], ['<pause>', 1543, 4], ['i', 1547, 24], ['wondered', 1571, 76], ['how', 1647, 23], ['the', 1670, 12], ['<pause>', 1682, 3], ['plant', 1685, 25], ['<pause>', 1710, 26], ['got', 1736, 44], ['<pause>', 1780, 7], ['there', 1787, 23], ['<pause>', 1810, 25], ['the', 1835, 11], ['plant', 1846, 32], ['got', 1878, 27], ['there', 1905, 41], ['<pause>', 1946, 158], ['seeds', 2104, 60], ['<pause>', 2164, 7], ['travel', 2171, 35], ['<pause>', 2206, 4], ['<pause>', 2210, 11], ['travel', 2221, 68], ['<pause>', 2289, 32], ['in', 2321, 21], ['different', 2342, 58], ['ways', 2400, 54], ['<pause>', 2454, 22], ['some', 2476, 44], ['seeds', 2520, 79], ['<pause>', 2599, 36], ['just', 2635, 52], ['<pause>', 2687, 37], ['drop', 2724, 59], ['to', 2783, 25], ['the', 2808, 13], ['ground', 2821, 73], ['<pause>', 2894, 85], ['the', 2979, 9], ['wind', 2988, 59], ['<pause>', 3047, 27], ['or', 3074, 17], ['birds', 3091, 72], ['<pause>', 3163, 34], ['carry', 3197, 53], ['<pause>', 3250, 52], ['seeds', 3302, 65], ['<pause>', 3367, 25], ['to', 3392, 48], ['<pause>', 3440, 29], ['new', 3469, 54], ['places', 3523, 108], ['<pause>', 3631, 95], ['nearby', 3726, 71], ['<pause>', 3797, 3], ['plants', 3800, 48], ['find', 3848, 57], ['<pause>', 3905, 6], ['away', 3911, 73], ['<pause>', 3984, 102], ['water', 4086, 39], ['can', 4125, 44], ['<pause>', 4169, 3], ['take', 4172, 47], ['seeds', 4219, 44], ['<pause>', 4263, 14], ['on', 4277, 32], ['a', 4309, 8], ['journey', 4317, 54], ['<pause>', 4371, 74], ['some', 4445, 58], ['animals', 4503, 72], ['hide', 4575, 44], ['<pause>', 4619, 26], ['seeds', 4645, 66], ['<pause>', 4711, 10], ['in', 4721, 37], ['the', 4758, 35], ['<pause>', 4793, 8], ['ground', 4801, 72], ['<pause>', 4873, 3], ['ground', 4876, 87], ['<pause>', 4963, 28], ['the', 4991, 13], ['<pause>', 5004, 99], ['<pause>', 5103, 14], ['<pause>', 5117, 50], ['the', 5167, 38], ['<pause>', 5205, 33], ['ground', 5238, 56], ['seeds', 5294, 27], ['<pause>', 5321, 63], ['can', 5384, 26], ['<pause>', 5410, 97], ['<pause>', 5507, 18], ['<pause>', 5525, 87], ['seeds', 5612, 147], ['<pause>', 5759, 6], ['travel', 5765, 71], ['<pause>', 5836, 5], ['in', 5841, 90], ['<pause>', 5931, 3], [\"animal's\", 5934, 71], ['fur', 6005, 39], ['<pause>', 6044, 174], ['or', 6218, 31], ['to', 6249, 33], ['<pause>', 6282, 3], ['a', 6285, 19], [\"person's\", 6304, 66], ['socks', 6370, 96], ['<pause>', 6466, 330], ['when', 6796, 30], ['the', 6826, 16], ['seeds', 6842, 49], ['fall', 6891, 54], ['<pause>', 6945, 4], ['on', 6949, 31], ['the', 6980, 15], ['ground', 6995, 51], ['<pause>', 7046, 105], ['they', 7151, 21], ['wait', 7172, 61], ['for', 7233, 32], ['sun', 7265, 52], ['and', 7317, 38], ['water', 7355, 49], ['to', 7404, 78], ['<pause>', 7482, 61], ['grow', 7543, 63], ['<pause>', 7606, 77], ['<pause>', 7683, 40], ['seeds', 7723, 63], ['<pause>', 7786, 30], ['fall', 7816, 34], ['on', 7850, 7]]"
   ]
  },
  {
   "cell_type": "code",
   "execution_count": 3,
   "metadata": {},
   "outputs": [],
   "source": [
    "gold = ['<pause>', 'how', '<pause>', 'do', '<pause>', 'plants', '<pause>', 'find', '<pause>', 'homes', '<pause>', 'i', '<pause>', 'saw', '<pause>', 'a', '<pause>', 'flower', '<pause>', 'growing', '<pause>', 'in', '<pause>', 'a', '<pause>', 'sidewalk', '<pause>', 'i', '<pause>', 'wondered', '<pause>', 'how', '<pause>', 'the', '<pause>', 'plant', '<pause>', 'got', '<pause>', 'there', '<pause>', 'seeds', '<pause>', 'travel', '<pause>', 'in', '<pause>', 'different', '<pause>', 'ways', '<pause>', 'some', '<pause>', 'seeds', '<pause>', 'just', '<pause>', 'drop', '<pause>', 'to', '<pause>', 'the', '<pause>', 'ground', '<pause>', 'the', '<pause>', 'wind', '<pause>', 'or', '<pause>', 'birds', '<pause>', 'carry', '<pause>', 'seeds', '<pause>', 'to', '<pause>', 'new', '<pause>', 'places', '<pause>', 'nearby', '<pause>', 'or', '<pause>', 'far', '<pause>', 'away', '<pause>', 'water', '<pause>', 'can', '<pause>', 'take', '<pause>', 'seeds', '<pause>', 'on', '<pause>', 'a', '<pause>', 'journey', '<pause>', 'some', '<pause>', 'animals', '<pause>', 'hide', '<pause>', 'seeds', '<pause>', 'in', '<pause>', 'the', '<pause>', 'ground', '<pause>', 'seeds', '<pause>', 'can', '<pause>', 'stick', '<pause>', 'to', '<pause>', 'an', '<pause>', \"animal's\", '<pause>', 'fur', '<pause>', 'or', '<pause>', 'to', '<pause>', 'a', '<pause>', \"person's\", '<pause>', 'socks', '<pause>', 'when', '<pause>', 'the', '<pause>', 'seeds', '<pause>', 'fall', '<pause>', 'on', '<pause>', 'the', '<pause>', 'ground', '<pause>', 'they', '<pause>', 'wait', '<pause>', 'for', '<pause>', 'sun', '<pause>', 'and', '<pause>', 'water', '<pause>', 'to', '<pause>', 'grow', '<pause>']"
   ]
  },
  {
   "cell_type": "code",
   "execution_count": 4,
   "metadata": {},
   "outputs": [],
   "source": [
    "Differ = difflib.Differ()"
   ]
  },
  {
   "cell_type": "code",
   "execution_count": 5,
   "metadata": {},
   "outputs": [],
   "source": [
    "child_token = [x[0] for x in child]\n",
    "gold_token = gold\n",
    "child_token_np = [x for x in child_token if '<pause>' not in x]\n",
    "gold_token_np = [x for x in gold_token if '<pause>' not in x]\n",
    "recstring_330_with_pauses = gold_token_np"
   ]
  },
  {
   "cell_type": "code",
   "execution_count": 6,
   "metadata": {},
   "outputs": [],
   "source": [
    "diff = Differ.compare(child_token_np, gold_token_np)\n",
    "# -: child said extra word\n",
    "# +: child did not say this word\n",
    "#  : match\n",
    "diff = [x for x in list(diff) if x[0] != '?']"
   ]
  },
  {
   "cell_type": "code",
   "execution_count": 7,
   "metadata": {},
   "outputs": [
    {
     "data": {
      "text/plain": [
       "['- how', '- do', '- how', '- do', '- plants']"
      ]
     },
     "execution_count": 7,
     "metadata": {},
     "output_type": "execute_result"
    }
   ],
   "source": [
    "diff[:5]"
   ]
  },
  {
   "cell_type": "code",
   "execution_count": 8,
   "metadata": {},
   "outputs": [
    {
     "ename": "ValueError",
     "evalue": "too many values to unpack (expected 2)",
     "output_type": "error",
     "traceback": [
      "\u001b[0;31m---------------------------------------------------------------------------\u001b[0m",
      "\u001b[0;31mValueError\u001b[0m                                Traceback (most recent call last)",
      "\u001b[0;32m<ipython-input-8-96636154d63d>\u001b[0m in \u001b[0;36m<module>\u001b[0;34m\u001b[0m\n\u001b[1;32m     37\u001b[0m \u001b[0;34m\u001b[0m\u001b[0m\n\u001b[1;32m     38\u001b[0m \u001b[0mchild_token_ordering_fully_numbered\u001b[0m \u001b[0;34m=\u001b[0m \u001b[0;34m[\u001b[0m\u001b[0;34m]\u001b[0m\u001b[0;34m\u001b[0m\u001b[0;34m\u001b[0m\u001b[0m\n\u001b[0;32m---> 39\u001b[0;31m \u001b[0;32mfor\u001b[0m \u001b[0midx\u001b[0m\u001b[0;34m,\u001b[0m \u001b[0;34m(\u001b[0m\u001b[0mgroup_idx\u001b[0m\u001b[0;34m,\u001b[0m \u001b[0m_\u001b[0m\u001b[0;34m,\u001b[0m \u001b[0mtoken\u001b[0m\u001b[0;34m)\u001b[0m \u001b[0;32min\u001b[0m \u001b[0mchild_token_ordering\u001b[0m\u001b[0;34m:\u001b[0m\u001b[0;34m\u001b[0m\u001b[0;34m\u001b[0m\u001b[0m\n\u001b[0m\u001b[1;32m     40\u001b[0m     \u001b[0;32mif\u001b[0m \u001b[0mgroup_idx\u001b[0m \u001b[0;32mis\u001b[0m \u001b[0;32mnot\u001b[0m \u001b[0;32mNone\u001b[0m\u001b[0;34m:\u001b[0m\u001b[0;34m\u001b[0m\u001b[0;34m\u001b[0m\u001b[0m\n\u001b[1;32m     41\u001b[0m         \u001b[0mchild_token_ordering_fully_numbered\u001b[0m\u001b[0;34m.\u001b[0m\u001b[0mappend\u001b[0m\u001b[0;34m(\u001b[0m\u001b[0;34m(\u001b[0m\u001b[0mgroup_idx\u001b[0m\u001b[0;34m)\u001b[0m\u001b[0;34m)\u001b[0m\u001b[0;34m\u001b[0m\u001b[0;34m\u001b[0m\u001b[0m\n",
      "\u001b[0;31mValueError\u001b[0m: too many values to unpack (expected 2)"
     ]
    }
   ],
   "source": [
    "collapsed = [[]]\n",
    "for token in reversed(diff):\n",
    "    if token[0] == ' ':\n",
    "#         print('\\n' + token, end='')\n",
    "        collapsed.append([token])\n",
    "    if token[0] == '+':\n",
    "#         print('\\n' + token, end='')\n",
    "        collapsed.append([])\n",
    "    if token[0] == '-':\n",
    "#         print(token, end='')\n",
    "        collapsed[-1].append(token)\n",
    "collapsed = [list(reversed(x)) for x in reversed(collapsed)]\n",
    "\n",
    "i = 1\n",
    "while i < len(collapsed) - 1:\n",
    "    collapsed.insert(i, ['PAUSEBLOCK'])\n",
    "    i += 2\n",
    "if any(x[0] != '-' for x in collapsed[0]):\n",
    "    collapsed.insert(0, ['PAUSEBLOCK'])\n",
    "if any(x[0] != '-' for x in collapsed[-1]):\n",
    "    collapsed.insert(-1, ['PAUSEBLOCK'])\n",
    "\n",
    "collapsed_token_positions = []\n",
    "for group_idx in range(len(collapsed)):\n",
    "    for token_idx in range(len(collapsed[group_idx])):\n",
    "        curr_token = collapsed[group_idx][token_idx]\n",
    "        if curr_token != 'PAUSEBLOCK':\n",
    "            collapsed_token_positions.append((group_idx, token_idx, curr_token[2:]))\n",
    "\n",
    "collapsed_token_positions_gen = (x for x in collapsed_token_positions)\n",
    "child_token_ordering = []\n",
    "for token in child_token:\n",
    "    if token == '<pause>':\n",
    "        child_token_ordering.append((None, None, token))\n",
    "    else:\n",
    "        child_token_ordering.append(next(collapsed_token_positions_gen))\n",
    "\n",
    "child_token_ordering_fully_numbered = []\n",
    "for idx, (group_idx, _, token) in child_token_ordering:\n",
    "    if group_idx is not None:\n",
    "        child_token_ordering_fully_numbered.append((group_idx))\n"
   ]
  },
  {
   "cell_type": "code",
   "execution_count": 28,
   "metadata": {},
   "outputs": [],
   "source": [
    "def better_align(rec_tokens, gold_tokens):\n",
    "    assert rec_tokens[0] == '<pause>'\n",
    "    rec_no_pause = [x for x in rec_tokens if x != '<pause>']\n",
    "    gold_no_pause = [x for x in gold_tokens if x != '<pause>']\n",
    "    \n",
    "    diff_alignment = list(difflib.Differ().compare(rec_no_pause, gold_no_pause))\n",
    "    \n",
    "    print('\\n'.join(diff_alignment))"
   ]
  },
  {
   "cell_type": "code",
   "execution_count": 29,
   "metadata": {},
   "outputs": [
    {
     "name": "stdout",
     "output_type": "stream",
     "text": [
      "- how\n",
      "- do\n",
      "- how\n",
      "- do\n",
      "- plants\n",
      "- find\n",
      "- homes\n",
      "- i\n",
      "- saw\n",
      "- a\n",
      "  how\n",
      "  do\n",
      "  plants\n",
      "  find\n",
      "  homes\n",
      "  i\n",
      "  saw\n",
      "  a\n",
      "  flower\n",
      "  growing\n",
      "  in\n",
      "  a\n",
      "  sidewalk\n",
      "  i\n",
      "  wondered\n",
      "  how\n",
      "  the\n",
      "  plant\n",
      "  got\n",
      "  there\n",
      "- the\n",
      "- plant\n",
      "- got\n",
      "- there\n",
      "  seeds\n",
      "- travel\n",
      "  travel\n",
      "  in\n",
      "  different\n",
      "  ways\n",
      "  some\n",
      "  seeds\n",
      "  just\n",
      "  drop\n",
      "  to\n",
      "  the\n",
      "  ground\n",
      "  the\n",
      "  wind\n",
      "  or\n",
      "  birds\n",
      "  carry\n",
      "  seeds\n",
      "  to\n",
      "  new\n",
      "  places\n",
      "  nearby\n",
      "- plants\n",
      "- find\n",
      "+ or\n",
      "+ far\n",
      "  away\n",
      "  water\n",
      "  can\n",
      "  take\n",
      "  seeds\n",
      "  on\n",
      "  a\n",
      "  journey\n",
      "  some\n",
      "  animals\n",
      "  hide\n",
      "  seeds\n",
      "  in\n",
      "  the\n",
      "  ground\n",
      "- ground\n",
      "- the\n",
      "- the\n",
      "- ground\n",
      "  seeds\n",
      "  can\n",
      "- seeds\n",
      "- travel\n",
      "- in\n",
      "+ stick\n",
      "+ to\n",
      "+ an\n",
      "  animal's\n",
      "  fur\n",
      "  or\n",
      "  to\n",
      "  a\n",
      "  person's\n",
      "  socks\n",
      "  when\n",
      "  the\n",
      "  seeds\n",
      "  fall\n",
      "  on\n",
      "  the\n",
      "  ground\n",
      "  they\n",
      "  wait\n",
      "  for\n",
      "  sun\n",
      "  and\n",
      "  water\n",
      "  to\n",
      "  grow\n",
      "- seeds\n",
      "- fall\n",
      "- on\n"
     ]
    }
   ],
   "source": [
    "better_align(child_token, gold_token)"
   ]
  },
  {
   "cell_type": "code",
   "execution_count": null,
   "metadata": {},
   "outputs": [],
   "source": []
  }
 ],
 "metadata": {
  "kernelspec": {
   "display_name": "Python 3",
   "language": "python",
   "name": "python3"
  },
  "language_info": {
   "codemirror_mode": {
    "name": "ipython",
    "version": 3
   },
   "file_extension": ".py",
   "mimetype": "text/x-python",
   "name": "python",
   "nbconvert_exporter": "python",
   "pygments_lexer": "ipython3",
   "version": "3.7.4"
  }
 },
 "nbformat": 4,
 "nbformat_minor": 4
}
