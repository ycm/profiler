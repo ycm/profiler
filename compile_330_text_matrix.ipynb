{
 "cells": [
  {
   "cell_type": "code",
   "execution_count": 1,
   "metadata": {},
   "outputs": [],
   "source": [
    "import json\n",
    "import pandas as pd"
   ]
  },
  {
   "cell_type": "code",
   "execution_count": 2,
   "metadata": {},
   "outputs": [],
   "source": [
    "df = pd.read_csv('output/20200624_text_matrix-330.tsv', sep='\\t')"
   ]
  },
  {
   "cell_type": "code",
   "execution_count": 3,
   "metadata": {},
   "outputs": [],
   "source": [
    "with open('data/raw/all-lts-sw.json') as f:\n",
    "    all_lts = json.load(f)"
   ]
  },
  {
   "cell_type": "code",
   "execution_count": 4,
   "metadata": {},
   "outputs": [],
   "source": [
    "tokens = list(df.token)"
   ]
  },
  {
   "cell_type": "code",
   "execution_count": 5,
   "metadata": {},
   "outputs": [],
   "source": [
    "LST_sight_word_PP = []\n",
    "LST_sight_word_P = []\n",
    "LST_sight_word_1 = []\n",
    "LST_lts_1 = []\n",
    "LST_lts_2 = []\n",
    "LST_lts_3 = []\n",
    "LST_lts_4 = []\n",
    "LST_lts_5 = []\n",
    "LST_lts_6 = []\n",
    "LST_lts_7 = []\n",
    "LST_lts_8 = []\n",
    "LST_lts_9 = []\n",
    "LST_lts_10 = []\n",
    "LST_lts_11 = []\n",
    "LST_lts_12 = []\n",
    "LST_grade_1_if_decodable = []\n",
    "LST_grade_2_if_decodable = []\n",
    "LST_grade_3_if_decodable = []\n",
    "LST_is_compound = []\n",
    "LST_decodable = []\n",
    "LST_n_morphs = []\n",
    "\n",
    "for token in tokens:\n",
    "    tkn = token.lower()\n",
    "    if tkn in all_lts:\n",
    "        D = all_lts[tkn]\n",
    "        sight_word_PP = 1 if -1 in D['sight_word'] else 0\n",
    "        sight_word_P = 1 if 0 in D['sight_word'] else 0\n",
    "        sight_word_1 = 1 if 1 in D['sight_word'] else 0\n",
    "        \n",
    "        lts_1 = 1 if 1 in D['lts'] else 0\n",
    "        lts_2 = 1 if 2 in D['lts'] else 0\n",
    "        lts_3 = 1 if 3 in D['lts'] else 0\n",
    "        lts_4 = 1 if 4 in D['lts'] else 0\n",
    "        lts_5 = 1 if 5 in D['lts'] else 0\n",
    "        lts_6 = 1 if 6 in D['lts'] else 0\n",
    "        lts_7 = 1 if 7 in D['lts'] else 0\n",
    "        lts_8 = 1 if 8 in D['lts'] else 0\n",
    "        lts_9 = 1 if 9 in D['lts'] else 0\n",
    "        lts_10 = 1 if 10 in D['lts'] else 0\n",
    "        lts_11 = 1 if 11 in D['lts'] else 0\n",
    "        lts_12 = 1 if 12 in D['lts'] else 0\n",
    "        \n",
    "        grade_1_if_decodable = 1 if D['grade_level_if_decodable'] == 1 else 0\n",
    "        grade_2_if_decodable = 1 if D['grade_level_if_decodable'] == 2 else 0\n",
    "        grade_3_if_decodable = 1 if D['grade_level_if_decodable'] == 3 else 0\n",
    "        grade_4_if_decodable = 1 if D['grade_level_if_decodable'] == 4 else 0\n",
    "        is_compound = D['is_compound']\n",
    "        decodable = D['decodable']\n",
    "        n_morphs = D['n_morphs']\n",
    "        \n",
    "    else:\n",
    "        sight_word_PP = sight_word_P = sight_word_1 = 0\n",
    "        lts_1 = lts_2 = lts_3 = lts_4 = lts_5 = lts_6 = lts_7 = lts_8 = lts_9 = lts_10 = lts_11 = lts_12 = 0\n",
    "        grade_1_if_decodable = grade_2_if_decodable = grade_3_if_decodable = grade_4_if_decodable = 0\n",
    "        is_compound = decodable = n_morphs = 0\n",
    "        \n",
    "    LST_sight_word_PP.append(sight_word_PP)\n",
    "    LST_sight_word_P.append(sight_word_P)\n",
    "    LST_sight_word_1.append(sight_word_1)\n",
    "    LST_lts_1.append(lts_1)\n",
    "    LST_lts_2.append(lts_2)\n",
    "    LST_lts_3.append(lts_3)\n",
    "    LST_lts_4.append(lts_4)\n",
    "    LST_lts_5.append(lts_5)\n",
    "    LST_lts_6.append(lts_6)\n",
    "    LST_lts_7.append(lts_7)\n",
    "    LST_lts_8.append(lts_8)\n",
    "    LST_lts_9.append(lts_9)\n",
    "    LST_lts_10.append(lts_10)\n",
    "    LST_lts_11.append(lts_11)\n",
    "    LST_lts_12.append(lts_12)\n",
    "    LST_grade_1_if_decodable.append(grade_1_if_decodable)\n",
    "    LST_grade_2_if_decodable.append(grade_2_if_decodable)\n",
    "    LST_grade_3_if_decodable.append(grade_3_if_decodable)\n",
    "    LST_is_compound.append(is_compound)\n",
    "    LST_decodable.append(decodable)\n",
    "    LST_n_morphs.append(n_morphs)"
   ]
  },
  {
   "cell_type": "code",
   "execution_count": 6,
   "metadata": {},
   "outputs": [],
   "source": [
    "df['is_compound'] = LST_is_compound\n",
    "df['decodable'] = LST_decodable\n",
    "df['n_morphs'] = LST_n_morphs\n",
    "df['sight_word_PP'] = LST_sight_word_PP\n",
    "df['sight_word_P'] = LST_sight_word_P\n",
    "df['sight_word_1'] = LST_sight_word_1\n",
    "df['lts_1'] = LST_lts_1\n",
    "df['lts_2'] = LST_lts_2\n",
    "df['lts_3'] = LST_lts_3\n",
    "df['lts_4'] = LST_lts_4\n",
    "df['lts_5'] = LST_lts_5\n",
    "df['lts_6'] = LST_lts_6\n",
    "df['lts_7'] = LST_lts_7\n",
    "df['lts_8'] = LST_lts_8\n",
    "df['lts_9'] = LST_lts_9\n",
    "df['lts_10'] = LST_lts_10\n",
    "df['lts_11'] = LST_lts_11\n",
    "df['lts_12'] = LST_lts_12\n",
    "df['grade_1_if_decodable'] = LST_grade_1_if_decodable\n",
    "df['grade_2_if_decodable'] = LST_grade_2_if_decodable\n",
    "df['grade_3_if_decodable'] = LST_grade_3_if_decodable"
   ]
  },
  {
   "cell_type": "code",
   "execution_count": 7,
   "metadata": {},
   "outputs": [],
   "source": [
    "df.to_csv('output/20200702_text_matrix-330.tsv', sep='\\t', index=False)"
   ]
  }
 ],
 "metadata": {
  "kernelspec": {
   "display_name": "Python 3",
   "language": "python",
   "name": "python3"
  },
  "language_info": {
   "codemirror_mode": {
    "name": "ipython",
    "version": 3
   },
   "file_extension": ".py",
   "mimetype": "text/x-python",
   "name": "python",
   "nbconvert_exporter": "python",
   "pygments_lexer": "ipython3",
   "version": "3.7.4"
  }
 },
 "nbformat": 4,
 "nbformat_minor": 4
}
