{
 "cells": [
  {
   "cell_type": "markdown",
   "metadata": {},
   "source": [
    "# Compile constituency parse info\n",
    "\n",
    "(one-time)"
   ]
  },
  {
   "cell_type": "code",
   "execution_count": 1,
   "metadata": {},
   "outputs": [
    {
     "name": "stdout",
     "output_type": "stream",
     "text": [
      "WARNING:tensorflow:From /Users/ycm/opt/miniconda3/lib/python3.7/site-packages/tensorflow_core/python/compat/v2_compat.py:65: disable_resource_variables (from tensorflow.python.ops.variable_scope) is deprecated and will be removed in a future version.\n",
      "Instructions for updating:\n",
      "non-resource variables are not supported in the long term\n"
     ]
    }
   ],
   "source": [
    "import sys, os, json, string\n",
    "import spacy\n",
    "import numpy as np\n",
    "import pandas as pd\n",
    "from collections import defaultdict\n",
    "from benepar.spacy_plugin import BeneparComponent\n",
    "\n",
    "nlp = spacy.load('en_core_web_sm')\n",
    "nlp.add_pipe(BeneparComponent('benepar_en'))"
   ]
  },
  {
   "cell_type": "code",
   "execution_count": 2,
   "metadata": {},
   "outputs": [],
   "source": [
    "with open('data/moby-passages-36/item_to_passage_final.json') as f:\n",
    "    item_to_passage_cleaned = json.load(f)\n",
    "item_to_doc = {}\n",
    "for item, passage in item_to_passage_cleaned.items():\n",
    "#     print('processing', item)\n",
    "    __doc = nlp(passage)\n",
    "    item_to_doc[item] = __doc"
   ]
  },
  {
   "cell_type": "code",
   "execution_count": 3,
   "metadata": {},
   "outputs": [],
   "source": [
    "item_to_recstring_list = {}\n",
    "with open('data/moby-passages-36/passages-with-line-break-and-recstring.tsv') as f:\n",
    "    next(f)\n",
    "    for line in f:\n",
    "        _, _, item, _, recstring = line.strip().split('\\t')\n",
    "        item_to_recstring_list[item] = recstring.split()"
   ]
  },
  {
   "cell_type": "code",
   "execution_count": 4,
   "metadata": {},
   "outputs": [],
   "source": [
    "item_to_doc_id_to_recstring_id = {}\n",
    "for item, doc in item_to_doc.items():\n",
    "#     print('\\n\\n\\n', item)\n",
    "    doc_id_to_recstring = {}\n",
    "    curr_idx = 0\n",
    "#     matched = 0\n",
    "    for idx, x in enumerate(doc):\n",
    "        if all(y in string.punctuation for y in str(x)):\n",
    "            continue\n",
    "        elif ((str(x)[0] not in {'\"'} and any(y in string.punctuation for y in str(x)))\\\n",
    "                and (str(x) not in {'Mrs.', 'Ms.', 'Dr.'}))\\\n",
    "                or (str(x) == 'not' and str(doc[idx - 1]) == 'can'):\n",
    "            assert curr_idx > 0\n",
    "            curr_idx -= 1\n",
    "        doc_id_to_recstring[x.i] = curr_idx\n",
    "        \n",
    "#         if str(x).lower() == item_to_recstring_list[item][curr_idx]:\n",
    "#             matched += 1\n",
    "        \n",
    "        curr_idx += 1\n",
    "    assert 1 + max(v for k, v in doc_id_to_recstring.items()) == len(item_to_recstring_list[item])\n",
    "#     print(item, 'matched', matched / len(item_to_recstring_list[item]))\n",
    "    item_to_doc_id_to_recstring_id[item] = doc_id_to_recstring"
   ]
  },
  {
   "cell_type": "code",
   "execution_count": 5,
   "metadata": {},
   "outputs": [],
   "source": [
    "def bottom_up_representation(sent):\n",
    "    constituent_to_depth = {}\n",
    "    token_to_parents = {}\n",
    "    for token in sent:\n",
    "        curr = token\n",
    "        depth = 1\n",
    "        parents = set()\n",
    "        while curr._.parent:\n",
    "            curr = curr._.parent\n",
    "            parents.add(curr)\n",
    "            if curr not in constituent_to_depth:\n",
    "                constituent_to_depth[curr] = depth\n",
    "            constituent_to_depth[curr] = max(depth, constituent_to_depth[curr])\n",
    "            depth += 1\n",
    "        token_to_parents[token] = parents\n",
    "    return constituent_to_depth, token_to_parents\n",
    "\n",
    "def bottom_up_feature_vector(sent, k=1):\n",
    "    rv = [0]\n",
    "    constituent_to_depth, token_to_parents = bottom_up_representation(sent)\n",
    "    for idx, token in enumerate(sent):\n",
    "        if idx == 0:\n",
    "            continue\n",
    "        prev_token = sent[idx - 1]\n",
    "        \n",
    "        common_ancestors = token_to_parents[token] & token_to_parents[prev_token]\n",
    "        common_ancestors_depths = set(constituent_to_depth[anc] for anc in common_ancestors)\n",
    "        \n",
    "        if k in common_ancestors_depths:\n",
    "            rv.append(1)\n",
    "        else:\n",
    "            rv.append(0)\n",
    "    return rv\n",
    "\n",
    "def pretty_print_sisters_bottom_up(sent, k):\n",
    "    x = bottom_up_feature_vector(sent, k)\n",
    "    print(x)\n",
    "    for idx, val in enumerate(x):\n",
    "        if val == 0:\n",
    "            print('\\n' + str(sent[idx]), end=' ')\n",
    "        else:\n",
    "            print(sent[idx], end=' ')"
   ]
  },
  {
   "cell_type": "code",
   "execution_count": 6,
   "metadata": {},
   "outputs": [],
   "source": [
    "def get_sentence_depth(sentence):\n",
    "    k = 20\n",
    "    while True:\n",
    "        feature_vector = bottom_up_feature_vector(sentence, k)\n",
    "        assert sum(feature_vector) in {0, len(sentence) - 1}\n",
    "        if sum(feature_vector) == len(sentence) - 1:\n",
    "            return k\n",
    "        k -= 1"
   ]
  },
  {
   "cell_type": "code",
   "execution_count": 7,
   "metadata": {},
   "outputs": [],
   "source": [
    "# wow this logic was tricky\n",
    "\n",
    "MAX_DEPTH = 30\n",
    "\n",
    "item_to_level_to_constituency_ids = {}\n",
    "\n",
    "for item, doc in item_to_doc.items():\n",
    "    level_to_constituency_ids = defaultdict(list)\n",
    "    sentences = list(doc.sents)\n",
    "    recstring = item_to_recstring_list[item]\n",
    "    doc_id_to_recstring_id = item_to_doc_id_to_recstring_id[item]\n",
    "#     print(doc_id_to_recstring_id)\n",
    "    for sentence in sentences:\n",
    "        sentence_depth = get_sentence_depth(sentence)\n",
    "        \n",
    "        for k in range(1, sentence_depth + 1):\n",
    "            feature_vector = list(reversed(bottom_up_feature_vector(sentence, k)))\n",
    "            reversed_sentence = reversed(sentence)\n",
    "            token = next(reversed_sentence)\n",
    "            prev = feature_vector[0]\n",
    "            if prev == 0:\n",
    "                clusters = [[]]\n",
    "            else:\n",
    "                clusters = [[token]]\n",
    "            \n",
    "            for val in feature_vector[1:]:\n",
    "                token = next(reversed_sentence)\n",
    "                if val == 1:\n",
    "                    clusters[-1].append(token)\n",
    "                if val == 0:\n",
    "                    if prev == 1:\n",
    "                        clusters[-1].append(token)\n",
    "                    clusters.append([])\n",
    "                prev = val\n",
    "            clusters = [x[::-1] for x in clusters if x][::-1]\n",
    "            assert all(len(x) > 1 for x in clusters)\n",
    "            \n",
    "            for cluster in clusters:\n",
    "                if not str(cluster[0])[0].isalpha():\n",
    "                    cluster = cluster[1:]\n",
    "                \n",
    "                cluster_ids = [token.i for token in cluster]\n",
    "#                 selected_recstring_tokens = [recstring[item_to_doc_id_to_recstring_id[item][i]] for i in cluster_ids]\n",
    "                recstring_ids = [doc_id_to_recstring_id[i] for i in cluster_ids if i in doc_id_to_recstring_id]\n",
    "#                 recstring_tokens = [recstring[i] for i in recstring_ids]\n",
    "                if len(recstring_ids) > 1:\n",
    "                    level_to_constituency_ids[sentence_depth].append(recstring_ids)\n",
    "\n",
    "#         break\n",
    "    item_to_level_to_constituency_ids[item] = level_to_constituency_ids\n",
    "#     break"
   ]
  },
  {
   "cell_type": "code",
   "execution_count": 8,
   "metadata": {},
   "outputs": [],
   "source": [
    "with open('data/moby-passages-36/item_to_level_to_constituency_ids.json', 'w') as f:\n",
    "    json.dump(item_to_level_to_constituency_ids, f, indent=1)"
   ]
  }
 ],
 "metadata": {
  "kernelspec": {
   "display_name": "Python 3",
   "language": "python",
   "name": "python3"
  },
  "language_info": {
   "codemirror_mode": {
    "name": "ipython",
    "version": 3
   },
   "file_extension": ".py",
   "mimetype": "text/x-python",
   "name": "python",
   "nbconvert_exporter": "python",
   "pygments_lexer": "ipython3",
   "version": "3.7.4"
  }
 },
 "nbformat": 4,
 "nbformat_minor": 4
}
