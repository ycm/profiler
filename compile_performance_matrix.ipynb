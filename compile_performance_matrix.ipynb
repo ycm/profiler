{
 "cells": [
  {
   "cell_type": "markdown",
   "metadata": {},
   "source": [
    "# Compiling performance matrix\n",
    "\n",
    "This notebook should be self-contained."
   ]
  },
  {
   "cell_type": "code",
   "execution_count": 138,
   "metadata": {},
   "outputs": [],
   "source": [
    "import string\n",
    "import pandas as pd\n",
    "import json\n",
    "import difflib\n",
    "from collections import defaultdict"
   ]
  },
  {
   "cell_type": "markdown",
   "metadata": {},
   "source": [
    "**For each item, load recstring and token-by-token representation**"
   ]
  },
  {
   "cell_type": "code",
   "execution_count": 76,
   "metadata": {},
   "outputs": [],
   "source": [
    "df_full_texts_and_recstrings = pd.read_csv('data/moby-passages-36/passages-with-line-break-and-recstring.tsv', sep='\\t')\n",
    "item_number_to_recstring = dict(zip(df_full_texts_and_recstrings.Item, df_full_texts_and_recstrings['Rec String']))\n",
    "df_text_with_line_breaks = pd.read_csv(\n",
    "    'data/moby-passages-36/passages-with-line-breaks.tsv',\n",
    "    sep='\\t',\n",
    "    names=['Item', 'Passage']\n",
    ")\n",
    "item_number_to_text_with_line_breaks = dict(zip(df_text_with_line_breaks.Item, df_text_with_line_breaks.Passage))\n",
    "item_number_to_text_with_line_breaks = {\n",
    "    k: v[:v.index('#')].replace('$$', ' PARBREAK ').replace('$', ' LINEBREAK ').replace(' 45 ', ' forty five ')\n",
    "    for k, v in item_number_to_text_with_line_breaks.items()\n",
    "}"
   ]
  },
  {
   "cell_type": "markdown",
   "metadata": {},
   "source": [
    "Sanity check that the token-by-token representation minus line/paragraph breaks matches the recstring."
   ]
  },
  {
   "cell_type": "code",
   "execution_count": 77,
   "metadata": {},
   "outputs": [
    {
     "data": {
      "text/plain": [
       "'Meg wanted to bake a pie. She asked her mother for help. PARBREAK They measured the flour, sugar, and butter for the crust.  LINEBREAK Her mother showed her how to roll out the crust. Meg sliced  LINEBREAK the apples and put them in the pie pan. They put the pie  LINEBREAK in the hot oven and waited forty five minutes. PARBREAK As the pie baked, a delicious smell filled the kitchen. When  LINEBREAK the timer rang, they took the pie out of the oven and  LINEBREAK set it on the window sill to cool.'"
      ]
     },
     "execution_count": 77,
     "metadata": {},
     "output_type": "execute_result"
    }
   ],
   "source": [
    "item_number_to_text_with_line_breaks[310]"
   ]
  },
  {
   "cell_type": "code",
   "execution_count": 78,
   "metadata": {},
   "outputs": [],
   "source": [
    "def get_processed_token(token):\n",
    "    rv = token\n",
    "    while rv[0] in string.punctuation:\n",
    "        rv = rv[1:]\n",
    "    while rv[-1] in string.punctuation:\n",
    "        rv = rv[:-1]\n",
    "    return rv.lower()\n",
    "\n",
    "for item, text_with_breaks in item_number_to_text_with_line_breaks.items():\n",
    "    recstring = item_number_to_recstring[item]\n",
    "    text_with_breaks_processed = [\n",
    "        get_processed_token(token)\n",
    "        for token in text_with_breaks.split()\n",
    "        if token != 'LINEBREAK' and token != 'PARBREAK'\n",
    "    ]\n",
    "    assert recstring.split() == text_with_breaks_processed"
   ]
  },
  {
   "cell_type": "code",
   "execution_count": 81,
   "metadata": {},
   "outputs": [],
   "source": [
    "gen = lambda lst: (x for x in lst)"
   ]
  },
  {
   "cell_type": "markdown",
   "metadata": {},
   "source": [
    "**Compile relevant information about a reading first, before aligning to recstring.**"
   ]
  },
  {
   "cell_type": "code",
   "execution_count": 90,
   "metadata": {},
   "outputs": [],
   "source": [
    "df_alignment_child = pd.read_csv('data/moby-passages-36/data-330-child/Alignment.csv', sep=',')\n",
    "session, sframe, nframes, word = df_alignment_child.session, df_alignment_child.sframe, df_alignment_child.nframes, df_alignment_child.word\n",
    "session, sframe, nframes, word = gen(session), gen(sframe), gen(nframes), gen(word)\n",
    "\n",
    "session_to_alignment = defaultdict(list)\n",
    "for session_id in session:\n",
    "    sframe_val, nframes_val, word_val = next(sframe), next(nframes), next(word)\n",
    "    if word_val[0] == '<':\n",
    "        word_val = '<pause>'\n",
    "    session_to_alignment[session_id].append([word_val, sframe_val, nframes_val])"
   ]
  },
  {
   "cell_type": "markdown",
   "metadata": {},
   "source": [
    "## Process dependencies"
   ]
  },
  {
   "cell_type": "markdown",
   "metadata": {},
   "source": [
    "Load $F_0$ information."
   ]
  },
  {
   "cell_type": "code",
   "execution_count": 106,
   "metadata": {},
   "outputs": [],
   "source": [
    "df_f0_child = pd.read_csv('data/moby-passages-36/data-330-child/f0_184.csv', sep=',')\n",
    "df_f0_child.value = [[float(y.split(':')[0]) for y in x.split()] for x in df_f0_child.value]"
   ]
  },
  {
   "cell_type": "code",
   "execution_count": 107,
   "metadata": {},
   "outputs": [],
   "source": [
    "session, value = df_f0_child.session, df_f0_child.value\n",
    "session, value = gen(session), gen(value)\n",
    "session_to_f0 = {}\n",
    "for session_id in session:\n",
    "    session_to_f0[session_id] = next(value)"
   ]
  },
  {
   "cell_type": "markdown",
   "metadata": {},
   "source": [
    "## Compile into full data matrix"
   ]
  },
  {
   "cell_type": "code",
   "execution_count": 116,
   "metadata": {},
   "outputs": [],
   "source": [
    "session_to_features = {}\n",
    "new_feature_names = [\n",
    "    'token',\n",
    "    'sframe',\n",
    "    'nframes',\n",
    "    'pitch_mean',\n",
    "    'pitch_start',\n",
    "    'pitch_end',\n",
    "    'pitch_high',\n",
    "    'pitch_low',\n",
    "    'pitch_slope'\n",
    "]\n",
    "\n",
    "for session, alignment in session_to_alignment.items():\n",
    "    recording_mean = sum(session_to_f0[session]) / len(session_to_f0[session])\n",
    "    session_to_features[session] = []\n",
    "    for token, sframe, nframes in alignment:\n",
    "        f0s = session_to_f0[session][sframe:sframe + nframes]\n",
    "        f0s = [x - recording_mean for x in f0s] # center\n",
    "        pitch_mean = sum(f0s) / len(f0s)\n",
    "        pitch_start = f0s[0]\n",
    "        pitch_end = f0s[-1]\n",
    "        pitch_high = max(f0s)\n",
    "        pitch_low = min(f0s)\n",
    "        pitch_slope = (pitch_end - pitch_start) / len(f0s)        \n",
    "        new_features = [\n",
    "            token,\n",
    "            sframe,\n",
    "            nframes,\n",
    "            pitch_mean,\n",
    "            pitch_start,\n",
    "            pitch_end,\n",
    "            pitch_high,\n",
    "            pitch_low,\n",
    "            pitch_slope\n",
    "        ]\n",
    "        session_to_features[session].append(new_features)"
   ]
  },
  {
   "cell_type": "markdown",
   "metadata": {},
   "source": [
    "## Align readings with recstrings"
   ]
  },
  {
   "cell_type": "code",
   "execution_count": 140,
   "metadata": {},
   "outputs": [
    {
     "data": {
      "text/plain": [
       "['<pause>', 'sam', '<pause>', 'and', '<pause>']"
      ]
     },
     "execution_count": 140,
     "metadata": {},
     "output_type": "execute_result"
    }
   ],
   "source": [
    "recstring_330_with_pauses = ('<pause> ' + ' <pause> '.join(item_number_to_recstring[330].split()) + ' <pause>').split()\n",
    "recstring_330_with_pauses[:5]"
   ]
  },
  {
   "cell_type": "code",
   "execution_count": 148,
   "metadata": {},
   "outputs": [
    {
     "name": "stdout",
     "output_type": "stream",
     "text": [
      "  <pause>\n",
      "  sam\n",
      "+ <pause>\n",
      "  and\n",
      "+ <pause>\n",
      "  jo\n",
      "  <pause>\n",
      "  went\n",
      "+ <pause>\n",
      "  for\n",
      "  <pause>\n",
      "  a\n",
      "+ <pause>\n",
      "  hike\n",
      "  <pause>\n",
      "  they\n",
      "  <pause>\n",
      "- took\n",
      "- a\n",
      "- path\n",
      "- <pause>\n",
      "- through\n",
      "- the\n",
      "- woods\n",
      "- <pause>\n",
      "- <pause>\n",
      "- their\n",
      "- heads\n",
      "- <pause>\n",
      "- <pause>\n",
      "- <pause>\n",
      "- through\n",
      "- the\n",
      "- <pause>\n",
      "- <pause>\n",
      "- they\n",
      "  took\n",
      "  <pause>\n",
      "  a\n",
      "  <pause>\n",
      "  path\n",
      "  <pause>\n",
      "  through\n",
      "  <pause>\n",
      "- their\n",
      "+ the\n",
      "  <pause>\n",
      "- mother\n",
      "+ woods\n",
      "+ <pause>\n",
      "+ suddenly\n",
      "+ <pause>\n",
      "+ sam\n",
      "  <pause>\n",
      "  heard\n",
      "+ <pause>\n",
      "  a\n",
      "+ <pause>\n",
      "  noise\n",
      "+ <pause>\n",
      "  coming\n",
      "  <pause>\n",
      "  from\n",
      "+ <pause>\n",
      "  the\n",
      "+ <pause>\n",
      "  tree\n",
      "  <pause>\n",
      "  above\n",
      "  <pause>\n",
      "  their\n",
      "+ <pause>\n",
      "  heads\n",
      "+ <pause>\n",
      "  jo\n",
      "+ <pause>\n",
      "+ climbed\n",
      "+ <pause>\n",
      "+ up\n",
      "+ <pause>\n",
      "+ to\n",
      "+ <pause>\n",
      "+ see\n",
      "  <pause>\n",
      "  what\n",
      "  <pause>\n",
      "  the\n",
      "  <pause>\n",
      "- and\n",
      "- jo\n",
      "- went\n",
      "- <pause>\n",
      "- for\n",
      "- a\n",
      "- <pause>\n",
      "- hike\n",
      "- <pause>\n",
      "- <pause>\n",
      "- up\n",
      "- <pause>\n",
      "- to\n",
      "- see\n",
      "- what\n",
      "- <pause>\n",
      "- the\n",
      "  noise\n",
      "  <pause>\n",
      "  was\n",
      "  <pause>\n",
      "  and\n",
      "  <pause>\n",
      "  found\n",
      "+ <pause>\n",
      "  two\n",
      "+ <pause>\n",
      "  baby\n",
      "+ <pause>\n",
      "  squirrels\n",
      "  <pause>\n",
      "  the\n",
      "+ <pause>\n",
      "  babies\n",
      "+ <pause>\n",
      "  were\n",
      "+ <pause>\n",
      "  alone\n",
      "  <pause>\n",
      "  but\n",
      "+ <pause>\n",
      "  their\n",
      "  <pause>\n",
      "  mother\n",
      "  <pause>\n",
      "  must\n",
      "+ <pause>\n",
      "  be\n",
      "+ <pause>\n",
      "  somewhere\n",
      "+ <pause>\n",
      "  near\n",
      "  <pause>\n",
      "  the\n",
      "  <pause>\n",
      "  children\n",
      "  <pause>\n",
      "  watched\n",
      "+ <pause>\n",
      "  and\n",
      "+ <pause>\n",
      "  waited\n",
      "  <pause>\n",
      "  sure\n",
      "+ <pause>\n",
      "  enough\n",
      "+ <pause>\n",
      "  the\n",
      "+ <pause>\n",
      "  mother\n",
      "+ <pause>\n",
      "  soon\n",
      "+ <pause>\n",
      "  returned\n",
      "  <pause>\n",
      "  with\n",
      "  <pause>\n",
      "  a\n",
      "+ <pause>\n",
      "  mouthful\n",
      "+ <pause>\n",
      "  of\n",
      "+ <pause>\n",
      "  nuts\n",
      "  <pause>\n",
      "  the\n",
      "  <pause>\n",
      "  noises\n",
      "  <pause>\n",
      "- <pause>\n",
      "- babies\n",
      "- <pause>\n",
      "  stopped\n",
      "  <pause>\n",
      "  as\n",
      "+ <pause>\n",
      "  the\n",
      "+ <pause>\n",
      "  baby\n",
      "+ <pause>\n",
      "  squirrels\n",
      "+ <pause>\n",
      "  began\n",
      "+ <pause>\n",
      "  to\n",
      "  <pause>\n",
      "  eat\n",
      "  <pause>\n",
      "  sam\n",
      "  <pause>\n",
      "  and\n",
      "  <pause>\n",
      "  jo\n",
      "+ <pause>\n",
      "  smiled\n",
      "+ <pause>\n",
      "  knowing\n",
      "  <pause>\n",
      "  the\n",
      "+ <pause>\n",
      "  squirrels\n",
      "+ <pause>\n",
      "  were\n",
      "- safe\n",
      "- <pause>\n",
      "  <pause>\n",
      "  safe\n",
      "  <pause>\n",
      "  with\n",
      "+ <pause>\n",
      "  their\n",
      "  <pause>\n",
      "  mother\n",
      "  <pause>\n"
     ]
    }
   ],
   "source": [
    "differ = difflib.Differ()\n",
    "\n",
    "for session, features in session_to_features.items():\n",
    "    transcribed_tokens = [x[0] for x in features]\n",
    "    diff = differ.compare(transcribed_tokens, recstring_330_with_pauses)\n",
    "    \n",
    "    # remove '?' lines\n",
    "    diff = (x for x in list(diff) if x[0] != '?')\n",
    "    \n",
    "    # +: in full recstring but not in transcribed tokens (often, dummy <pause>s)\n",
    "    # -: in transcribed tokens but not in full recstring (child added words)\n",
    "    \n",
    "    naive_alignment = [[] for x in recstring_330_with_pauses]\n",
    "    for idx in range(len(naive_alignment)):\n",
    "        diff_next = next(diff)\n",
    "        if diff_next[0] == ' ':\n",
    "            naive_alignment[idx].append(diff_next.strip())\n",
    "            continue\n",
    "        if diff_next[0] == '+':\n",
    "            continue\n",
    "        \n",
    "    break"
   ]
  },
  {
   "cell_type": "code",
   "execution_count": 149,
   "metadata": {},
   "outputs": [
    {
     "data": {
      "text/plain": [
       "'<pause> sam and jo <pause> went for <pause> a hike <pause> they <pause> took a path <pause> through the woods <pause> <pause> their heads <pause> <pause> <pause> through the <pause> <pause> they took <pause> a <pause> path <pause> through <pause> their <pause> mother <pause> heard a noise coming <pause> from the tree <pause> above <pause> their heads jo <pause> what <pause> the <pause> and jo went <pause> for a <pause> hike <pause> <pause> up <pause> to see what <pause> the noise <pause> was <pause> and <pause> found two baby squirrels <pause> the babies were alone <pause> but their <pause> mother <pause> must be somewhere near <pause> the <pause> children <pause> watched and waited <pause> sure enough the mother soon returned <pause> with <pause> a mouthful of nuts <pause> the <pause> noises <pause> <pause> babies <pause> stopped <pause> as the baby squirrels began to <pause> eat <pause> sam <pause> and <pause> jo smiled knowing <pause> the squirrels were safe <pause> <pause> safe <pause> with their <pause> mother <pause>'"
      ]
     },
     "execution_count": 149,
     "metadata": {},
     "output_type": "execute_result"
    }
   ],
   "source": [
    "' '.join(transcribed_tokens)"
   ]
  },
  {
   "cell_type": "code",
   "execution_count": 153,
   "metadata": {},
   "outputs": [
    {
     "data": {
      "text/plain": [
       "'sam and jo went for a hike they took a path through the woods suddenly sam heard a noise coming from the tree above their heads jo climbed up to see what the noise was and found two baby squirrels the babies were alone but their mother must be somewhere near the children watched and waited sure enough the mother soon returned with a mouthful of nuts the noises stopped as the baby squirrels began to eat sam and jo smiled knowing the squirrels were safe with their mother'"
      ]
     },
     "execution_count": 153,
     "metadata": {},
     "output_type": "execute_result"
    }
   ],
   "source": [
    "item_number_to_recstring[330]"
   ]
  },
  {
   "cell_type": "code",
   "execution_count": null,
   "metadata": {},
   "outputs": [],
   "source": []
  }
 ],
 "metadata": {
  "kernelspec": {
   "display_name": "Python 3",
   "language": "python",
   "name": "python3"
  },
  "language_info": {
   "codemirror_mode": {
    "name": "ipython",
    "version": 3
   },
   "file_extension": ".py",
   "mimetype": "text/x-python",
   "name": "python",
   "nbconvert_exporter": "python",
   "pygments_lexer": "ipython3",
   "version": "3.7.4"
  }
 },
 "nbformat": 4,
 "nbformat_minor": 4
}
