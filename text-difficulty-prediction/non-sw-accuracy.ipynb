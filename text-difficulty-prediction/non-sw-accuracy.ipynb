{
 "cells": [
  {
   "cell_type": "code",
   "execution_count": 1,
   "metadata": {},
   "outputs": [],
   "source": [
    "import os\n",
    "import json\n",
    "import numpy as np\n",
    "import pandas as pd"
   ]
  },
  {
   "cell_type": "code",
   "execution_count": 2,
   "metadata": {},
   "outputs": [],
   "source": [
    "Dir = '../data/moby/from-diego-session-to-nonsw-acc/'\n",
    "session_to_acc_over_span = {}\n",
    "for f in os.listdir(Dir):\n",
    "    df = pd.read_csv(os.path.join(Dir, f))\n",
    "    words = set(x.replace('.t', '').replace('.c', '') for x in df.columns) - {'Session'}\n",
    "    \n",
    "    for _, row in df.iterrows():\n",
    "        session = str(int(row.Session))\n",
    "        numerator = 0\n",
    "        denominator = 0\n",
    "        for word in words:\n",
    "            acc = row[word + '.c']\n",
    "            total_occurrences = row[word + '.t']\n",
    "            \n",
    "            numerator += (total_occurrences * acc)\n",
    "            denominator += total_occurrences\n",
    "        acc_over_span = numerator / denominator\n",
    "        session_to_acc_over_span[session] = acc_over_span"
   ]
  },
  {
   "cell_type": "code",
   "execution_count": 3,
   "metadata": {},
   "outputs": [],
   "source": [
    "with open('../data/moby/jsons/session_to_non_sightword_accuracy_over_span.json', 'w') as f:\n",
    "    json.dump(session_to_acc_over_span, f)"
   ]
  }
 ],
 "metadata": {
  "kernelspec": {
   "display_name": "Python 3",
   "language": "python",
   "name": "python3"
  },
  "language_info": {
   "codemirror_mode": {
    "name": "ipython",
    "version": 3
   },
   "file_extension": ".py",
   "mimetype": "text/x-python",
   "name": "python",
   "nbconvert_exporter": "python",
   "pygments_lexer": "ipython3",
   "version": "3.7.4"
  }
 },
 "nbformat": 4,
 "nbformat_minor": 4
}
