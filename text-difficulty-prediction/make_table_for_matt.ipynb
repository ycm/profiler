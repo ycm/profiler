{
 "cells": [
  {
   "cell_type": "code",
   "execution_count": 1,
   "metadata": {},
   "outputs": [],
   "source": [
    "import numpy as np\n",
    "import pandas as pd"
   ]
  },
  {
   "cell_type": "code",
   "execution_count": 37,
   "metadata": {},
   "outputs": [],
   "source": [
    "df = pd.read_csv('table_for_prediction_updated_with_diff_target.csv')"
   ]
  },
  {
   "cell_type": "code",
   "execution_count": 38,
   "metadata": {},
   "outputs": [],
   "source": [
    "df['AccOverSpanNonSW2'] = df['AccOverSpanNonSW'] ** 2"
   ]
  },
  {
   "cell_type": "code",
   "execution_count": 39,
   "metadata": {},
   "outputs": [],
   "source": [
    "df = df[['Session', 'Form', 'WCPM', 'AccOverSpanNonSW2', 'Comp', 'AvgSpan', 'DiffTarget']].dropna()"
   ]
  },
  {
   "cell_type": "code",
   "execution_count": 41,
   "metadata": {},
   "outputs": [],
   "source": [
    "df.to_csv('raw_table_for_matt.csv', index=False)"
   ]
  },
  {
   "cell_type": "code",
   "execution_count": 42,
   "metadata": {},
   "outputs": [],
   "source": [
    "dfs = []\n",
    "for grade in ('Grade1', 'Grade2', 'Grade3', 'Grade4'):\n",
    "    for term in ('Fall', 'Winter', 'Spring'):\n",
    "        df_grade = df.loc[df.Form == grade + term].copy(deep=True)\n",
    "        \n",
    "        for metric in ('WCPM', 'AccOverSpanNonSW2', 'Comp', 'AvgSpan'):\n",
    "            df_grade[metric + '_scaled'] = np.interp(\n",
    "                df_grade[metric],\n",
    "                (df_grade[metric].min(), df_grade[metric].max()),\n",
    "                (0, 1)\n",
    "            )\n",
    "        \n",
    "        dfs.append(df_grade)"
   ]
  },
  {
   "cell_type": "code",
   "execution_count": 46,
   "metadata": {},
   "outputs": [],
   "source": [
    "df_scaled = pd.concat(dfs)"
   ]
  },
  {
   "cell_type": "code",
   "execution_count": 48,
   "metadata": {},
   "outputs": [],
   "source": [
    "df_scaled = df_scaled[['Session', 'Form', 'WCPM_scaled', 'AccOverSpanNonSW2_scaled', 'Comp_scaled', 'AvgSpan_scaled', 'DiffTarget']]"
   ]
  },
  {
   "cell_type": "code",
   "execution_count": 50,
   "metadata": {},
   "outputs": [],
   "source": [
    "df_scaled.to_csv('scaled_table_for_matt.csv', index=False)"
   ]
  },
  {
   "cell_type": "code",
   "execution_count": null,
   "metadata": {},
   "outputs": [],
   "source": []
  }
 ],
 "metadata": {
  "kernelspec": {
   "display_name": "Python 3",
   "language": "python",
   "name": "python3"
  },
  "language_info": {
   "codemirror_mode": {
    "name": "ipython",
    "version": 3
   },
   "file_extension": ".py",
   "mimetype": "text/x-python",
   "name": "python",
   "nbconvert_exporter": "python",
   "pygments_lexer": "ipython3",
   "version": "3.7.4"
  }
 },
 "nbformat": 4,
 "nbformat_minor": 4
}
