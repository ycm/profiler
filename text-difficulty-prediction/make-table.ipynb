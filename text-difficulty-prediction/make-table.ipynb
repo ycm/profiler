{
 "cells": [
  {
   "cell_type": "code",
   "execution_count": 1,
   "metadata": {},
   "outputs": [],
   "source": [
    "import json\n",
    "import pandas as pd"
   ]
  },
  {
   "cell_type": "code",
   "execution_count": 2,
   "metadata": {},
   "outputs": [],
   "source": [
    "with open('../data/moby/jsons/session_to_form.json') as f:\n",
    "    session_to_form = json.load(f)"
   ]
  },
  {
   "cell_type": "code",
   "execution_count": 3,
   "metadata": {},
   "outputs": [],
   "source": [
    "df = pd.read_csv('../tr-regression/full_matrix_for_prediction.csv')"
   ]
  },
  {
   "cell_type": "code",
   "execution_count": 5,
   "metadata": {},
   "outputs": [],
   "source": [
    "df['Form'] = df.Session.apply(lambda x: session_to_form[str(x)])"
   ]
  },
  {
   "cell_type": "code",
   "execution_count": 7,
   "metadata": {},
   "outputs": [],
   "source": [
    "df['Grade'] = df.Form.apply(lambda x: x.replace('Winter', '').replace('Spring', '').replace('Fall', ''))"
   ]
  },
  {
   "cell_type": "code",
   "execution_count": 10,
   "metadata": {},
   "outputs": [],
   "source": [
    "df = df[['Session','Form',\n",
    "       'Grade', 'WCPM', 'Acc', 'Comp', 'Exp', 'level', 'WCPM_zscore',\n",
    "       'Acc_zscore', 'WCPM_zscore_by_grade', 'Acc_zscore_by_grade', 'gyorB',\n",
    "       'gyorC', 'gyorE', 'gyorF', 'gyorG', 'gyorH', 'gyorJ', 'gyorK', 'gyorL',\n",
    "       'gyorM', 'gyorN', 'gyorO', 'gyorP', 'gyorQ', 'mlevel_numeric',\n",
    "       'form_numeric', 'mlevel_form_diff', 'text_is_above_level']]"
   ]
  },
  {
   "cell_type": "code",
   "execution_count": 13,
   "metadata": {},
   "outputs": [],
   "source": [
    "df.to_csv('table_for_prediction.csv', index=None)"
   ]
  }
 ],
 "metadata": {
  "kernelspec": {
   "display_name": "Python 3",
   "language": "python",
   "name": "python3"
  },
  "language_info": {
   "codemirror_mode": {
    "name": "ipython",
    "version": 3
   },
   "file_extension": ".py",
   "mimetype": "text/x-python",
   "name": "python",
   "nbconvert_exporter": "python",
   "pygments_lexer": "ipython3",
   "version": "3.7.4"
  }
 },
 "nbformat": 4,
 "nbformat_minor": 4
}
