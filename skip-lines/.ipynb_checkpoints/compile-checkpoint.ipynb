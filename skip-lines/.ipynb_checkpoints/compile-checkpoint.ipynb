{
 "cells": [
  {
   "cell_type": "code",
   "execution_count": 29,
   "metadata": {},
   "outputs": [],
   "source": [
    "import sys, os, json\n",
    "import numpy as np, pandas as pd, matplotlib.pyplot as plt\n",
    "from collections import defaultdict"
   ]
  },
  {
   "cell_type": "code",
   "execution_count": 6,
   "metadata": {},
   "outputs": [],
   "source": [
    "with open('../data/moby/jsons/item_to_recstring_new.json') as f:\n",
    "    item_to_recstring = json.load(f)"
   ]
  },
  {
   "cell_type": "code",
   "execution_count": 43,
   "metadata": {},
   "outputs": [],
   "source": [
    "item_to_line_indices = defaultdict(list)\n",
    "\n",
    "with open('../data/moby/36MobyPassages2020Profile/line-breaks.tsv') as f:\n",
    "    for line in f:\n",
    "        item, passage = line.strip().split('\\t')\n",
    "        passage = passage.replace('$$', ' $$')\n",
    "        recstring = item_to_recstring[item].split()\n",
    "        passage = passage.split()\n",
    "        if len(recstring) != len(passage):\n",
    "            for i in range(min(len(recstring), len(passage))):\n",
    "                print(recstring[i], passage[i])\n",
    "            break\n",
    "        \n",
    "        curr_sent = []\n",
    "        for idx, token in enumerate(passage):\n",
    "            if token[0] == '$':\n",
    "                item_to_line_indices[item].append(curr_sent)\n",
    "                curr_sent = [idx]\n",
    "            else:\n",
    "                curr_sent.append(idx)\n",
    "        if curr_sent:\n",
    "            item_to_line_indices[item].append(curr_sent)\n",
    "        \n",
    "        \n",
    "item_to_line_indices = dict(item_to_line_indices)"
   ]
  },
  {
   "cell_type": "code",
   "execution_count": 44,
   "metadata": {},
   "outputs": [],
   "source": [
    "for item, line_indices in item_to_line_indices.items():\n",
    "    assert line_indices[-1][-1] + 1 == len(item_to_recstring[item].split()), item"
   ]
  },
  {
   "cell_type": "code",
   "execution_count": 46,
   "metadata": {},
   "outputs": [],
   "source": [
    "with open('../data/moby/jsons/item_to_line_indices.json', 'w') as f:\n",
    "    json.dump(item_to_line_indices, f)"
   ]
  }
 ],
 "metadata": {
  "kernelspec": {
   "display_name": "Python 3",
   "language": "python",
   "name": "python3"
  },
  "language_info": {
   "codemirror_mode": {
    "name": "ipython",
    "version": 3
   },
   "file_extension": ".py",
   "mimetype": "text/x-python",
   "name": "python",
   "nbconvert_exporter": "python",
   "pygments_lexer": "ipython3",
   "version": "3.7.4"
  }
 },
 "nbformat": 4,
 "nbformat_minor": 4
}
