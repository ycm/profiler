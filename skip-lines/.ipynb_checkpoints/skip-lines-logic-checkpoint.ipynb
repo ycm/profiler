{
 "cells": [
  {
   "cell_type": "code",
   "execution_count": 1,
   "metadata": {},
   "outputs": [],
   "source": [
    "import sys, os, json\n",
    "import numpy as np, pandas as pd, matplotlib.pyplot as plt\n",
    "from collections import defaultdict"
   ]
  },
  {
   "cell_type": "code",
   "execution_count": 3,
   "metadata": {},
   "outputs": [],
   "source": [
    "with open('../data/moby/jsons/item_to_line_indices.json') as f:\n",
    "    item_to_line_indices = json.load(f)"
   ]
  },
  {
   "cell_type": "code",
   "execution_count": 7,
   "metadata": {},
   "outputs": [],
   "source": [
    "test_response_df = pd.read_csv('../output/performance-matrix/all-fixed/1401-184/27877.tsv', sep='\\t')"
   ]
  },
  {
   "cell_type": "code",
   "execution_count": 9,
   "metadata": {},
   "outputs": [],
   "source": [
    "item = '1401'"
   ]
  },
  {
   "cell_type": "code",
   "execution_count": 10,
   "metadata": {},
   "outputs": [
    {
     "data": {
      "text/plain": [
       "[[0, 1, 2, 3, 4],\n",
       " [5, 6, 7, 8],\n",
       " [9, 10, 11, 12, 13],\n",
       " [14, 15, 16, 17, 18],\n",
       " [19, 20, 21, 22, 23],\n",
       " [24, 25, 26, 27, 28],\n",
       " [29, 30, 31, 32, 33],\n",
       " [34, 35, 36, 37, 38]]"
      ]
     },
     "execution_count": 10,
     "metadata": {},
     "output_type": "execute_result"
    }
   ],
   "source": [
    "item_to_line_indices['1401']"
   ]
  },
  {
   "cell_type": "code",
   "execution_count": 58,
   "metadata": {},
   "outputs": [],
   "source": [
    "def get_missed_line_nums(test_response_df, item, window_size=3, correct_threshold_in_window=0.66):\n",
    "    line_num_to_info = {\n",
    "        i: {\n",
    "            'missed': 0,\n",
    "            'hit_beginning': 0,\n",
    "            'hit_end': 0\n",
    "        }\n",
    "        for i in range(len(item_to_line_indices[item]))\n",
    "    }\n",
    "    missed = []\n",
    "    skipped = []\n",
    "    for line_num, line_indices in enumerate(item_to_line_indices[item]):\n",
    "        perf_mat_indices = [i * 2 + 1 for i in line_indices]\n",
    "        \n",
    "        ####### 'Lenience' for shorter lines\n",
    "        if len(line_indices) <= window_size: # if a line is no longer than, say, 3 tokens:\n",
    "            tokens_read = [test_response_df['token'][i]\n",
    "                           for i in perf_mat_indices\n",
    "                           if test_response_df['token'][i] == test_response_df['token'][i]] # handle nans?\n",
    "            tokens_read = ' '.join(tokens_read)\n",
    "            tokens_read = tokens_read.split()\n",
    "            expected_tokens = [test_response_df['Unnamed: 0'][i]\n",
    "                               for i in perf_mat_indices]\n",
    "#             print(expected_tokens, tokens_read, line_num)\n",
    "            if any([token in expected_tokens for token in tokens_read]):\n",
    "                line_num_to_info[line_num]['missed'] = 0\n",
    "                line_num_to_info[line_num]['hit_beginning'] = 1\n",
    "                line_num_to_info[line_num]['hit_end'] = 1\n",
    "                continue\n",
    "        #######\n",
    "                \n",
    "        if all([test_response_df.matches_expected[i] == 0 for i in perf_mat_indices]):\n",
    "            line_num_to_info[line_num]['missed'] = 1\n",
    "        if np.mean([test_response_df.matches_expected[i]\\\n",
    "                   for i in perf_mat_indices[:window_size]]) > correct_threshold_in_window:\n",
    "            line_num_to_info[line_num]['hit_beginning'] = 1\n",
    "        if np.mean([test_response_df.matches_expected[i]\\\n",
    "                   for i in perf_mat_indices[-window_size:]]) > correct_threshold_in_window:\n",
    "            line_num_to_info[line_num]['hit_end'] = 1\n",
    "    \n",
    "#     print(line_num_to_info)\n",
    "    \n",
    "    for line_num, info in line_num_to_info.items():\n",
    "        if info['missed']:\n",
    "            missed.append(line_num)\n",
    "            \n",
    "            start_of_skip = line_num\n",
    "            while (start_of_skip > 0) and line_num_to_info[start_of_skip - 1]['missed']:\n",
    "                start_of_skip -= 1\n",
    "            end_of_skip = line_num\n",
    "            while (end_of_skip < len(line_num_to_info) - 1) and line_num_to_info[end_of_skip + 1]['missed']:\n",
    "                end_of_skip += 1\n",
    "            \n",
    "            if start_of_skip == 0 or end_of_skip == len(line_num_to_info) - 1:\n",
    "                continue\n",
    "            if line_num_to_info[start_of_skip - 1]['hit_end'] and\\\n",
    "                line_num_to_info[end_of_skip + 1]['hit_beginning']:\n",
    "                skipped.append(line_num)\n",
    "    return {'missed': missed, 'skipped': skipped}"
   ]
  },
  {
   "cell_type": "code",
   "execution_count": 59,
   "metadata": {
    "scrolled": true
   },
   "outputs": [
    {
     "name": "stdout",
     "output_type": "stream",
     "text": [
      "2402 38887.tsv [2, 3, 4, 5, 6, 7]\n",
      "2601 41124.tsv [6]\n",
      "2403 28051.tsv [2]\n",
      "1903 21004.tsv [1]\n",
      "2203 31213.tsv [2]\n",
      "2201 35171.tsv [9]\n",
      "2201 50140.tsv [5]\n",
      "2201 31525.tsv [8]\n",
      "2201 48155.tsv [8]\n",
      "2102 34053.tsv [5]\n",
      "2102 26860.tsv [5]\n",
      "2102 35138.tsv [5]\n",
      "2102 46924.tsv [5]\n",
      "2102 34140.tsv [5]\n",
      "2102 48709.tsv [5]\n",
      "2102 46650.tsv [5]\n",
      "2102 50227.tsv [5]\n",
      "2102 39861.tsv [5]\n",
      "2102 53173.tsv [5]\n",
      "1804 50616.tsv [3]\n",
      "350 29650.tsv [4]\n",
      "2902 51417.tsv [7]\n",
      "1401 35160.tsv [3]\n",
      "1603 51620.tsv [1]\n",
      "1603 33303.tsv [3, 4, 5, 6]\n",
      "3106 33654.tsv [9]\n",
      "1505 41671.tsv [6]\n",
      "1505 50492.tsv [3]\n",
      "330 41120.tsv [7]\n",
      "3105 51790.tsv [4, 5, 6, 7]\n",
      "1703 46016.tsv [4]\n",
      "1703 30056.tsv [3]\n",
      "1703 29522.tsv [3]\n",
      "2803 27575.tsv [2]\n",
      "2803 33659.tsv [2]\n",
      "2803 39310.tsv [2]\n",
      "2803 28812.tsv [3]\n",
      "2803 45977.tsv [2]\n",
      "2803 26674.tsv [2]\n",
      "1502 42844.tsv [5]\n",
      "1502 52098.tsv [3]\n",
      "1502 52416.tsv [5]\n",
      "1502 49397.tsv [5]\n",
      "1502 52872.tsv [5]\n"
     ]
    }
   ],
   "source": [
    "PERFMAT_DIR = '../output/performance-matrix/all-fixed/'\n",
    "for item_dir in os.listdir(PERFMAT_DIR):\n",
    "    if item_dir.endswith('182'):\n",
    "        continue\n",
    "#     if '2201' not in item_dir:\n",
    "#         continue\n",
    "    item = item_dir[:item_dir.index('-')]\n",
    "    for session_file in os.listdir(os.path.join(PERFMAT_DIR, item_dir)):\n",
    "#         if '31930' not in session_file:\n",
    "#             continue\n",
    "        df = pd.read_csv(os.path.join(PERFMAT_DIR, item_dir, session_file), sep='\\t')\n",
    "        missed_and_skipped = get_missed_line_nums(df, item)\n",
    "        if missed_and_skipped['skipped']:\n",
    "            print(item, session_file, missed_and_skipped['skipped'])\n",
    "        \n",
    "#     break"
   ]
  }
 ],
 "metadata": {
  "kernelspec": {
   "display_name": "Python 3",
   "language": "python",
   "name": "python3"
  },
  "language_info": {
   "codemirror_mode": {
    "name": "ipython",
    "version": 3
   },
   "file_extension": ".py",
   "mimetype": "text/x-python",
   "name": "python",
   "nbconvert_exporter": "python",
   "pygments_lexer": "ipython3",
   "version": "3.7.4"
  }
 },
 "nbformat": 4,
 "nbformat_minor": 4
}
