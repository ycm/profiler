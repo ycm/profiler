{
 "cells": [
  {
   "cell_type": "code",
   "execution_count": 27,
   "metadata": {},
   "outputs": [],
   "source": [
    "import spacy\n",
    "from benepar.spacy_plugin import BeneparComponent\n",
    "from collections import defaultdict"
   ]
  },
  {
   "cell_type": "code",
   "execution_count": 2,
   "metadata": {},
   "outputs": [],
   "source": [
    "nlp = spacy.load('en_core_web_sm')\n",
    "nlp.add_pipe(BeneparComponent('benepar_en'))\n",
    "doc = nlp(\"Sam and Jo went for a hike. They took a path through the woods. Suddenly, Sam heard a noise coming from the tree above their heads. Jo climbed up to see what the noise was, and found two baby squirrels. The babies were alone, but their mother must be somewhere near. The children watched and waited. Sure enough, the mother soon returned with a mouthful of nuts. The noises stopped as the baby squirrels began to eat. Sam and Jo smiled, knowing the squirrels were safe with their mother.\")"
   ]
  },
  {
   "cell_type": "code",
   "execution_count": 59,
   "metadata": {},
   "outputs": [
    {
     "name": "stdout",
     "output_type": "stream",
     "text": [
      "defaultdict(<class 'list'>, {0: [[('S',), Sam and Jo went for a hike., -1]], 1: [[('NP',), Sam and Jo, -1], [('VP',), went for a hike, -1], [(), ., 7]], 2: [[(), Sam, 0], [(), and, 1], [(), Jo, 2], [(), went, 3], [('PP',), for a hike, -1]], 3: [[(), for, 4], [('NP',), a hike, -1]], 4: [[(), a, 5], [(), hike, 6]]})\n"
     ]
    }
   ],
   "source": [
    "def populate_levels(sent, levels, level):\n",
    "    if sent:\n",
    "        if not sent._.labels:\n",
    "            token_id = list(sent)[0].i\n",
    "        else:\n",
    "            token_id = -1\n",
    "        levels[level].append([sent._.labels, sent, token_id])\n",
    "        \n",
    "        for child in sent._.children:\n",
    "            populate_levels(child, levels, level + 1)\n",
    "    \n",
    "for sent in doc.sents:\n",
    "    levels = defaultdict(list)\n",
    "    populate_levels(sent, levels, level=0)\n",
    "    print(levels)\n",
    "    break"
   ]
  },
  {
   "cell_type": "code",
   "execution_count": 58,
   "metadata": {},
   "outputs": [
    {
     "name": "stdout",
     "output_type": "stream",
     "text": [
      "[Sam, and, Jo, went, for, a, hike, .]\n"
     ]
    }
   ],
   "source": [
    "print(list(sent))"
   ]
  },
  {
   "cell_type": "code",
   "execution_count": null,
   "metadata": {},
   "outputs": [],
   "source": []
  }
 ],
 "metadata": {
  "kernelspec": {
   "display_name": "Python 3",
   "language": "python",
   "name": "python3"
  },
  "language_info": {
   "codemirror_mode": {
    "name": "ipython",
    "version": 3
   },
   "file_extension": ".py",
   "mimetype": "text/x-python",
   "name": "python",
   "nbconvert_exporter": "python",
   "pygments_lexer": "ipython3",
   "version": "3.7.4"
  }
 },
 "nbformat": 4,
 "nbformat_minor": 4
}
