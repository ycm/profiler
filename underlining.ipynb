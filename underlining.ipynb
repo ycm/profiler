{
 "cells": [
  {
   "cell_type": "markdown",
   "metadata": {},
   "source": [
    "# Indicating sight word/decodability\n",
    "\n",
    "6/30/20"
   ]
  },
  {
   "cell_type": "code",
   "execution_count": 1,
   "metadata": {},
   "outputs": [],
   "source": [
    "import string\n",
    "import json"
   ]
  },
  {
   "cell_type": "code",
   "execution_count": 2,
   "metadata": {},
   "outputs": [],
   "source": [
    "# with open('data/moby-passages-36/all-LTS-sightword-susan.tsv') as f:\n",
    "#     out = {}\n",
    "#     next(f)\n",
    "#     for line in f:\n",
    "#         ln = line.strip().split('\\t')\n",
    "#         ln = [x[1:-1] if x and x[0] == '\"' and x[-1] == '\"' else x for x in ln]\n",
    "#         word = ln[0]\n",
    "        \n",
    "#         '''sight words'''\n",
    "#         sw, compound, lts, morphs, svocab_lts, d_nd = ln[1:7]\n",
    "#         sw = sw.replace('NAME', '')\n",
    "#         if 'D' in sw:\n",
    "#             sw = []\n",
    "#         else:\n",
    "#             sw = [int(x.strip()) for x in sw.split(',') if x.strip()]\n",
    "        \n",
    "#         '''is compound'''\n",
    "#         compound = 1 if compound.strip() else 0\n",
    "        \n",
    "#         '''LTS'''\n",
    "#         lts = lts.replace('ND', '').replace('S', '').replace('D', '')\n",
    "#         svocab_lts = svocab_lts.replace('ND', '').replace('S', '').replace('D', '')\n",
    "#         lts_combined = set([int(x.strip()) for x in lts.split(',') if x.strip()] + [int(x.strip()) for x in svocab_lts.split(',') if x.strip()])\n",
    "#         all_lts = sorted(list(lts_combined))\n",
    "        \n",
    "#         '''d/nd'''\n",
    "#         d_nd = 1 if d_nd == 'D' else 0\n",
    "        \n",
    "#         '''lowest grade level where expected to decode'''\n",
    "#         grade_level = -1\n",
    "#         if {1, 2} & lts_combined:\n",
    "#             grade_level = 1\n",
    "#         if {3, 4, 8, 9} & lts_combined:\n",
    "#             grade_level = 2\n",
    "#         if {5, 6, 7, 11} & lts_combined:\n",
    "#             grade_level = 3\n",
    "#         if {10, 12} & lts_combined:\n",
    "#             grade_level = 4\n",
    "\n",
    "#         out[word] = {\n",
    "#             'sight_word': sw,\n",
    "#             'is_compound': compound,\n",
    "#             'lts': all_lts,\n",
    "#             'decodable': d_nd,\n",
    "#             'grade_level_if_decodable': grade_level,\n",
    "#             'n_morphs': int(morphs)\n",
    "#         }"
   ]
  },
  {
   "cell_type": "code",
   "execution_count": 3,
   "metadata": {},
   "outputs": [
    {
     "data": {
      "text/plain": [
       "{'sight_word': [],\n",
       " 'is_compound': 0,\n",
       " 'lts': [1, 9],\n",
       " 'decodable': 1,\n",
       " 'grade_level_if_decodable': 2,\n",
       " 'n_morphs': 1}"
      ]
     },
     "execution_count": 3,
     "metadata": {},
     "output_type": "execute_result"
    }
   ],
   "source": [
    "out['garden']"
   ]
  },
  {
   "cell_type": "code",
   "execution_count": 4,
   "metadata": {},
   "outputs": [],
   "source": [
    "# with open('data/raw/all-lts-sw.json', 'w') as f:\n",
    "#     json.dump(out, f)"
   ]
  },
  {
   "cell_type": "code",
   "execution_count": 5,
   "metadata": {},
   "outputs": [
    {
     "data": {
      "text/plain": [
       "['Sam', 'and', 'Jo', 'went', 'for']"
      ]
     },
     "execution_count": 5,
     "metadata": {},
     "output_type": "execute_result"
    }
   ],
   "source": [
    "passage = \"Sam and Jo went for a hike. They took a path through the woods. Suddenly, Sam heard a noise coming from the tree above their heads. Jo climbed up to see what the noise was, and found two baby squirrels. The babies were alone, but their mother must be somewhere near. The children watched and waited. Sure enough, the mother soon returned with a mouthful of nuts. The noises stopped as the baby squirrels began to eat. Sam and Jo smiled, knowing the squirrels were safe with their mother.\"\n",
    "words = passage.split(' ')\n",
    "words[:5]"
   ]
  },
  {
   "cell_type": "code",
   "execution_count": 6,
   "metadata": {},
   "outputs": [],
   "source": [
    "table = []\n",
    "for word in words:\n",
    "    w = word.lower().translate(str.maketrans('', '', string.punctuation))\n",
    "    sw = out[w]['sight_word']\n",
    "    if not sw or max(sw) > 2:\n",
    "        NotSightword = 1\n",
    "    else:\n",
    "        NotSightword = 0\n",
    "    decodable = out[w]['decodable']\n",
    "    NotDecodableAtGradeLevel = 0\n",
    "    NotDecodable = 0\n",
    "    if decodable:\n",
    "        if out[w]['grade_level_if_decodable'] > 2:\n",
    "            NotDecodableAtGradeLevel = 1\n",
    "            NotDecodable = 0\n",
    "    else:\n",
    "        NotDecodable = 1\n",
    "    if sw and max(sw) == -1:\n",
    "        NotDecodableAtGradeLevel = 0\n",
    "        NotDecodable = 0\n",
    "    table.append([word, NotSightword, NotDecodable, NotDecodableAtGradeLevel])"
   ]
  },
  {
   "cell_type": "code",
   "execution_count": 7,
   "metadata": {},
   "outputs": [],
   "source": [
    "table.insert(0, ['word', 'NotSightword', 'NotDecodable', 'NotDecodableAtGradeLevel'])"
   ]
  },
  {
   "cell_type": "code",
   "execution_count": 8,
   "metadata": {},
   "outputs": [],
   "source": [
    "with open('output/for_jared/for_jared_330_table.tsv', 'w') as f:\n",
    "    for line in table:\n",
    "        print('\\t'.join([str(x) for x in line]), file=f)"
   ]
  },
  {
   "cell_type": "markdown",
   "metadata": {},
   "source": [
    "$LaTeX$:"
   ]
  },
  {
   "cell_type": "code",
   "execution_count": 10,
   "metadata": {},
   "outputs": [
    {
     "name": "stdout",
     "output_type": "stream",
     "text": [
      "\\documentclass{article}\n",
      "\\usepackage{geometry}\n",
      "\\usepackage{xcolor}\n",
      "\\usepackage{times}\n",
      "\\usepackage{ulem}\n",
      "\\definecolor{darkgreen}{rgb}{.1,.6,.1}\n",
      "\\renewcommand{\\baselinestretch}{1.7}\n",
      "\\def\\colorul#1#2{\\color{#1}\\uline{{\\color{black}#2}}\\color{black}}\n",
      "\\begin{document}\n",
      "\n",
      "\\textbf{Noisy Squirrels.} Grade 2. \\emph{\\colorul{darkgreen}{Not sight word},\n",
      "\\colorul{red}{Not decodable},\n",
      "\\colorul{blue}{Not decodable at grade level}}\\\\\n",
      "\n",
      "\\colorul{darkgreen}{Sam}\\quad and\\quad \\colorul{blue}{\\colorul{darkgreen}{Jo}}\\quad went\\quad for\\quad a\\quad \\colorul{darkgreen}{hike.}\\quad They\\quad took\\quad a\\quad \\colorul{darkgreen}{path}\\quad \\colorul{red}{\\colorul{darkgreen}{through}}\\quad the\\quad woods.\\quad \\colorul{blue}{\\colorul{darkgreen}{Suddenly,}}\\quad \\colorul{darkgreen}{Sam}\\quad \\colorul{red}{heard}\\quad a\\quad noise\\quad \\colorul{red}{coming}\\quad from\\quad the\\quad tree\\quad \\colorul{red}{\\colorul{darkgreen}{above}}\\quad \\colorul{red}{their}\\quad \\colorul{darkgreen}{heads.}\\quad \\colorul{blue}{\\colorul{darkgreen}{Jo}}\\quad \\colorul{red}{\\colorul{darkgreen}{climbed}}\\quad up\\quad to\\quad see\\quad what\\quad the\\quad noise\\quad \\colorul{red}{was,}\\quad and\\quad found\\quad \\colorul{red}{two}\\quad \\colorul{blue}{\\colorul{darkgreen}{baby}}\\quad squirrels.\\quad The\\quad \\colorul{blue}{\\colorul{darkgreen}{babies}}\\quad \\colorul{red}{were}\\quad \\colorul{blue}{alone,}\\quad but\\quad \\colorul{red}{their}\\quad \\colorul{red}{mother}\\quad must\\quad be\\quad \\colorul{red}{somewhere}\\quad near.\\quad The\\quad children\\quad \\colorul{blue}{watched}\\quad and\\quad waited.\\quad \\colorul{red}{\\colorul{darkgreen}{Sure}}\\quad \\colorul{red}{\\colorul{darkgreen}{enough,}}\\quad the\\quad \\colorul{red}{mother}\\quad soon\\quad \\colorul{blue}{\\colorul{darkgreen}{returned}}\\quad with\\quad a\\quad \\colorul{blue}{\\colorul{darkgreen}{mouthful}}\\quad of\\quad \\colorul{darkgreen}{nuts.}\\quad The\\quad \\colorul{blue}{noises}\\quad stopped\\quad as\\quad the\\quad \\colorul{blue}{\\colorul{darkgreen}{baby}}\\quad squirrels\\quad \\colorul{blue}{began}\\quad to\\quad eat.\\quad \\colorul{darkgreen}{Sam}\\quad and\\quad \\colorul{blue}{\\colorul{darkgreen}{Jo}}\\quad \\colorul{blue}{smiled,}\\quad \\colorul{blue}{knowing}\\quad the\\quad squirrels\\quad \\colorul{red}{were}\\quad \\colorul{darkgreen}{safe}\\quad with\\quad \\colorul{red}{their}\\quad \\colorul{red}{mother.}\\quad \\end{document}\n"
     ]
    }
   ],
   "source": [
    "print('''\\\\documentclass{article}\n",
    "\\\\usepackage{geometry}\n",
    "\\\\usepackage{xcolor}\n",
    "\\\\usepackage{times}\n",
    "\\\\usepackage{ulem}\n",
    "\\\\definecolor{darkgreen}{rgb}{.1,.6,.1}\n",
    "\\\\renewcommand{\\\\baselinestretch}{1.7}\n",
    "\\\\renewcommand{\\\\ULthickness}{1pt}\n",
    "\\\\def\\colorul#1#2{\\\\color{#1}\\\\uline{{\\\\color{black}#2}}\\\\color{black}}\n",
    "\\\\begin{document}''')\n",
    "\n",
    "print('''\n",
    "\\\\textbf{Noisy Squirrels. Grade 2.})\n",
    "print()\n",
    "\n",
    "for word, green, red, blue in table[1:]:\n",
    "    output = word\n",
    "    if green:\n",
    "        output = '\\colorul{darkgreen}{' + output + '}'\n",
    "    if red:\n",
    "        output = '\\colorul{red}{' + output + '}'\n",
    "    if blue:\n",
    "        output = '\\colorul{blue}{' + output + '}'\n",
    "    print(output, end='\\,\\,\\,')\n",
    "#     if '.' in output:\n",
    "#         print('\\\\\\\\')\n",
    "#         print()\n",
    "\n",
    "print('\\end{document}')"
   ]
  },
  {
   "cell_type": "code",
   "execution_count": null,
   "metadata": {},
   "outputs": [],
   "source": []
  }
 ],
 "metadata": {
  "kernelspec": {
   "display_name": "Python 3",
   "language": "python",
   "name": "python3"
  },
  "language_info": {
   "codemirror_mode": {
    "name": "ipython",
    "version": 3
   },
   "file_extension": ".py",
   "mimetype": "text/x-python",
   "name": "python",
   "nbconvert_exporter": "python",
   "pygments_lexer": "ipython3",
   "version": "3.7.4"
  }
 },
 "nbformat": 4,
 "nbformat_minor": 4
}
